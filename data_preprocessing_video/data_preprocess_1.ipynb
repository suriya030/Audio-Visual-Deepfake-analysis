{
 "cells": [
  {
   "cell_type": "code",
   "execution_count": 1,
   "metadata": {},
   "outputs": [],
   "source": [
    "\n",
    "import os\n",
    "import cv2\n",
    "import numpy as np\n",
    "from tqdm import tqdm\n"
   ]
  },
  {
   "cell_type": "code",
   "execution_count": 6,
   "metadata": {},
   "outputs": [],
   "source": [
    "# Define the input folder containing videos\n",
    "video_folder = r\"C:\\Users\\Admin\\Desktop\\temp\"\n",
    "output_folder = r\"E:\\cs229_project\\train\\video\\preprocessed_fake\"\n",
    "os.makedirs(output_folder, exist_ok=True)"
   ]
  },
  {
   "cell_type": "code",
   "execution_count": 7,
   "metadata": {},
   "outputs": [],
   "source": [
    "# Define ImageNet normalization parameters\n",
    "imagenet_mean = np.array([0.485, 0.456, 0.406], dtype=np.float32).reshape(1, 3, 1, 1)\n",
    "imagenet_std = np.array([0.229, 0.224, 0.225], dtype=np.float32).reshape(1, 3, 1, 1)"
   ]
  },
  {
   "cell_type": "code",
   "execution_count": 8,
   "metadata": {},
   "outputs": [],
   "source": [
    "# Define frame count ranges\n",
    "frame_ranges = list(range(100, 2000, 100)) "
   ]
  },
  {
   "cell_type": "code",
   "execution_count": 9,
   "metadata": {},
   "outputs": [
    {
     "name": "stderr",
     "output_type": "stream",
     "text": [
      "100%|██████████| 1/1 [00:00<00:00,  1.55it/s]"
     ]
    },
    {
     "name": "stdout",
     "output_type": "stream",
     "text": [
      "Processing complete.\n"
     ]
    },
    {
     "name": "stderr",
     "output_type": "stream",
     "text": [
      "\n"
     ]
    }
   ],
   "source": [
    "# Iterate through all video files\n",
    "for filename in tqdm(os.listdir(video_folder)):\n",
    "    if filename.endswith((\".mp4\", \".avi\", \".mov\", \".mkv\", \".flv\", \".wmv\")):\n",
    "        base_name, ext = os.path.splitext(filename)\n",
    "        output_path = os.path.join(output_folder, f\"{base_name}.npy\")\n",
    "        if os.path.exists(output_path):\n",
    "            continue\n",
    "\n",
    "        video_path = os.path.join(video_folder, filename)\n",
    "        cap = cv2.VideoCapture(video_path)\n",
    "\n",
    "        if not cap.isOpened():\n",
    "            print(f\"Skipping {filename}: Could not open video\")\n",
    "            continue\n",
    "\n",
    "        frame_count = int(cap.get(cv2.CAP_PROP_FRAME_COUNT))\n",
    "        \n",
    "        frames = []\n",
    "\n",
    "        # Read frames\n",
    "        while True:\n",
    "            ret, frame = cap.read()\n",
    "            if not ret:\n",
    "                break\n",
    "            frame = cv2.cvtColor(frame, cv2.COLOR_BGR2RGB)  # Convert to RGB\n",
    "            frame = cv2.resize(frame, (224, 224))  # Resize to 224x224\n",
    "            frames.append(frame)\n",
    "\n",
    "        cap.release()\n",
    "\n",
    "        # Convert list to NumPy array\n",
    "        frames = np.array(frames, dtype=np.float32) / 255.0  # Normalize to [0,1]\n",
    "        \n",
    "        # Determine the frame limit based on conditions\n",
    "        if frame_count < 100:\n",
    "            final_count = 100\n",
    "            frames = np.concatenate([frames, np.tile(frames[-1:], (100 - frame_count, 1, 1, 1))], axis=0)\n",
    "        else:\n",
    "            for limit in frame_ranges:\n",
    "                if limit <= frame_count < limit + 100:\n",
    "                    final_count = limit\n",
    "                    frames = frames[:final_count]\n",
    "                    break\n",
    "            else:\n",
    "                print(f\"Skipping {filename}: Frame count {frame_count} exceeds max range (1999)\")\n",
    "                continue\n",
    "\n",
    "        # Reshape to (N, 3, 224, 224)\n",
    "        frames = np.transpose(frames, (0, 3, 1, 2))  # (N, H, W, 3) -> (N, 3, H, W)\n",
    "\n",
    "        # Apply ImageNet normalization\n",
    "        frames = (frames - imagenet_mean) / imagenet_std\n",
    "\n",
    "        # Generate output filename (avoid overwriting)\n",
    "        base_name, ext = os.path.splitext(filename)\n",
    "        output_path = os.path.join(output_folder, f\"{base_name}.npy\")\n",
    "        count = 1\n",
    "        while os.path.exists(output_path):\n",
    "            output_path = os.path.join(output_folder, f\"{base_name}_{count}.npy\")\n",
    "            count += 1\n",
    "\n",
    "        # Save as NumPy array\n",
    "        np.save(output_path, frames.astype(np.float16))\n",
    "\n",
    "print(\"Processing complete.\")"
   ]
  }
 ],
 "metadata": {
  "kernelspec": {
   "display_name": "TCCT",
   "language": "python",
   "name": "python3"
  },
  "language_info": {
   "codemirror_mode": {
    "name": "ipython",
    "version": 3
   },
   "file_extension": ".py",
   "mimetype": "text/x-python",
   "name": "python",
   "nbconvert_exporter": "python",
   "pygments_lexer": "ipython3",
   "version": "3.12.8"
  }
 },
 "nbformat": 4,
 "nbformat_minor": 2
}
