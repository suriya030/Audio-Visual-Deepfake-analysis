{
 "cells": [
  {
   "cell_type": "code",
   "execution_count": 1,
   "metadata": {},
   "outputs": [],
   "source": [
    "import tensorflow as tf\n",
    "\n",
    "import numpy as np\n",
    "import pandas as pd\n",
    "import cv2\n",
    "import os\n",
    "import sys\n",
    "import h5py\n",
    "from tqdm import tqdm"
   ]
  },
  {
   "cell_type": "code",
   "execution_count": 2,
   "metadata": {},
   "outputs": [
    {
     "name": "stdout",
     "output_type": "stream",
     "text": [
      "Num GPUs Available: 1\n"
     ]
    }
   ],
   "source": [
    "print(\"Num GPUs Available:\", len(tf.config.list_physical_devices('GPU')))\n"
   ]
  },
  {
   "cell_type": "code",
   "execution_count": 3,
   "metadata": {},
   "outputs": [],
   "source": [
    "model_name = \"swin_base_patch244_window877_kinetics600_22k\" \n",
    "shape_of_input = [3,100,224,224]     "
   ]
  },
  {
   "cell_type": "code",
   "execution_count": 4,
   "metadata": {},
   "outputs": [
    {
     "name": "stdout",
     "output_type": "stream",
     "text": [
      "WARNING:tensorflow:No training configuration found in save file, so the model was *not* compiled. Compile it manually.\n"
     ]
    }
   ],
   "source": [
    "model = tf.keras.models.load_model(f\"tf_models/{model_name}_tf\")\n",
    "model.compile()"
   ]
  },
  {
   "cell_type": "code",
   "execution_count": 5,
   "metadata": {},
   "outputs": [
    {
     "name": "stdout",
     "output_type": "stream",
     "text": [
      "Running on GPU\n"
     ]
    }
   ],
   "source": [
    "if tf.config.list_physical_devices('GPU'):\n",
    "    print(\"Running on GPU\")\n",
    "else:\n",
    "    print(\"No GPU found, running on CPU\")"
   ]
  },
  {
   "cell_type": "code",
   "execution_count": 6,
   "metadata": {},
   "outputs": [],
   "source": [
    "input_folder = r\"E:\\cs229_project\\train\\video\\preprocessed_real\"\n",
    "output_folder = r\"E:\\cs229_project\\train\\video\\swin_features_real\""
   ]
  },
  {
   "cell_type": "code",
   "execution_count": 8,
   "metadata": {},
   "outputs": [
    {
     "name": "stderr",
     "output_type": "stream",
     "text": [
      "100%|██████████| 5575/5575 [37:48<00:00,  2.46it/s]\n"
     ]
    }
   ],
   "source": [
    "for filename in tqdm(os.listdir(input_folder)):\n",
    "    if filename.endswith('.npy'):\n",
    "        file_path = os.path.join(input_folder,filename)\n",
    "        \n",
    "        data = np.load(file_path) # (100,3,224,224) float16\n",
    "        data = np.transpose(data,(1,0,2,3)) # (3,100,224,224)\n",
    "        data = data[np.newaxis,:,:,:,:] # (1,3,100,224,224)\n",
    "        features = model(data) # (1,1024,50,7,7)\n",
    "        features = np.squeeze(features,axis=0) \n",
    "        features = np.mean(features,axis=(2,3))\n",
    "        features = np.transpose(features,(1,0))\n",
    "        \n",
    "        # print( features.shape , features.dtype )\n",
    "\n",
    "        output_file_path = os.path.join(output_folder,filename)\n",
    "        np.save(output_file_path,features)"
   ]
  }
 ],
 "metadata": {
  "kernelspec": {
   "display_name": "swin",
   "language": "python",
   "name": "python3"
  },
  "language_info": {
   "codemirror_mode": {
    "name": "ipython",
    "version": 3
   },
   "file_extension": ".py",
   "mimetype": "text/x-python",
   "name": "python",
   "nbconvert_exporter": "python",
   "pygments_lexer": "ipython3",
   "version": "3.10.16"
  }
 },
 "nbformat": 4,
 "nbformat_minor": 2
}
