{
 "cells": [
  {
   "cell_type": "code",
   "execution_count": 2,
   "metadata": {},
   "outputs": [
    {
     "data": {
      "text/plain": [
       "'\\nThis script processes all `.npy` files in a specified folder.\\n\\n### Functionality:\\n1. Reads each `.npy` file containing a NumPy array of shape `(F, 3, 224, 224)`, where `F` is a multiple of 100.\\n2. Splits the array into continuous, disjoint segments of shape `(100, 3, 224, 224)`.\\n3. Saves each segment with the same filename but with `(i)` concatenated, where `i` is the segment index.\\n4. Deletes the original `.npy` file after successful segmentation.\\n\\n### Example:\\n- Original file: `video.npy` (with shape `(200, 3, 224, 224)`)\\n- Output files: `video(0).npy`, `video(1).npy` (each with shape `(100, 3, 224, 224)`)\\n- `video.npy` is deleted after processing.\\n'"
      ]
     },
     "execution_count": 2,
     "metadata": {},
     "output_type": "execute_result"
    }
   ],
   "source": [
    "\"\"\"\n",
    "This script processes all `.npy` files in a specified folder.\n",
    "\n",
    "### Functionality:\n",
    "1. Reads each `.npy` file containing a NumPy array of shape `(F, 3, 224, 224)`, where `F` is a multiple of 100.\n",
    "2. Splits the array into continuous, disjoint segments of shape `(100, 3, 224, 224)`.\n",
    "3. Saves each segment with the same filename but with `(i)` concatenated, where `i` is the segment index.\n",
    "4. Deletes the original `.npy` file after successful segmentation.\n",
    "\n",
    "### Example:\n",
    "- Original file: `video.npy` (with shape `(200, 3, 224, 224)`)\n",
    "- Output files: `video(0).npy`, `video(1).npy` (each with shape `(100, 3, 224, 224)`)\n",
    "- `video.npy` is deleted after processing.\n",
    "\"\"\""
   ]
  },
  {
   "cell_type": "code",
   "execution_count": 1,
   "metadata": {},
   "outputs": [],
   "source": [
    "import os\n",
    "import numpy as np\n",
    "from tqdm import tqdm"
   ]
  },
  {
   "cell_type": "code",
   "execution_count": 3,
   "metadata": {},
   "outputs": [],
   "source": [
    "# Input folder containing .npy files\n",
    "input_folder = r\"E:\\cs229_project\\train\\video\\preprocessed_fake\""
   ]
  },
  {
   "cell_type": "code",
   "execution_count": 4,
   "metadata": {},
   "outputs": [
    {
     "name": "stderr",
     "output_type": "stream",
     "text": [
      " 78%|███████▊  | 3296/4206 [03:02<00:48, 18.62it/s]"
     ]
    },
    {
     "name": "stdout",
     "output_type": "stream",
     "text": [
      "Saved: E:\\cs229_project\\train\\video\\preprocessed_fake\\412(0).npy\n",
      "Saved: E:\\cs229_project\\train\\video\\preprocessed_fake\\412(1).npy\n",
      "Saved: E:\\cs229_project\\train\\video\\preprocessed_fake\\412(2).npy\n",
      "Saved: E:\\cs229_project\\train\\video\\preprocessed_fake\\412(3).npy\n",
      "Saved: E:\\cs229_project\\train\\video\\preprocessed_fake\\412(4).npy\n",
      "Deleted original file: E:\\cs229_project\\train\\video\\preprocessed_fake\\412.npy\n",
      "Saved: E:\\cs229_project\\train\\video\\preprocessed_fake\\4120(0).npy\n",
      "Saved: E:\\cs229_project\\train\\video\\preprocessed_fake\\4120(1).npy\n",
      "Deleted original file: E:\\cs229_project\\train\\video\\preprocessed_fake\\4120.npy\n",
      "Saved: E:\\cs229_project\\train\\video\\preprocessed_fake\\4121(0).npy\n",
      "Deleted original file: E:\\cs229_project\\train\\video\\preprocessed_fake\\4121.npy\n",
      "Saved: E:\\cs229_project\\train\\video\\preprocessed_fake\\4122(0).npy\n",
      "Deleted original file: E:\\cs229_project\\train\\video\\preprocessed_fake\\4122.npy\n",
      "Saved: E:\\cs229_project\\train\\video\\preprocessed_fake\\4123(0).npy\n",
      "Deleted original file: E:\\cs229_project\\train\\video\\preprocessed_fake\\4123.npy\n"
     ]
    },
    {
     "name": "stderr",
     "output_type": "stream",
     "text": [
      " 78%|███████▊  | 3300/4206 [03:02<00:41, 21.81it/s]"
     ]
    },
    {
     "name": "stdout",
     "output_type": "stream",
     "text": [
      "Saved: E:\\cs229_project\\train\\video\\preprocessed_fake\\4124(0).npy\n",
      "Deleted original file: E:\\cs229_project\\train\\video\\preprocessed_fake\\4124.npy\n",
      "Saved: E:\\cs229_project\\train\\video\\preprocessed_fake\\4125(0).npy\n",
      "Deleted original file: E:\\cs229_project\\train\\video\\preprocessed_fake\\4125.npy\n",
      "Saved: E:\\cs229_project\\train\\video\\preprocessed_fake\\4126(0).npy\n",
      "Deleted original file: E:\\cs229_project\\train\\video\\preprocessed_fake\\4126.npy\n"
     ]
    },
    {
     "name": "stderr",
     "output_type": "stream",
     "text": [
      " 79%|███████▊  | 3306/4206 [03:03<00:57, 15.56it/s]"
     ]
    },
    {
     "name": "stdout",
     "output_type": "stream",
     "text": [
      "Saved: E:\\cs229_project\\train\\video\\preprocessed_fake\\4127(0).npy\n",
      "Deleted original file: E:\\cs229_project\\train\\video\\preprocessed_fake\\4127.npy\n",
      "Saved: E:\\cs229_project\\train\\video\\preprocessed_fake\\4128(0).npy\n",
      "Deleted original file: E:\\cs229_project\\train\\video\\preprocessed_fake\\4128.npy\n",
      "Saved: E:\\cs229_project\\train\\video\\preprocessed_fake\\4129(0).npy\n",
      "Deleted original file: E:\\cs229_project\\train\\video\\preprocessed_fake\\4129.npy\n",
      "Saved: E:\\cs229_project\\train\\video\\preprocessed_fake\\413(0).npy\n",
      "Deleted original file: E:\\cs229_project\\train\\video\\preprocessed_fake\\413.npy\n",
      "Saved: E:\\cs229_project\\train\\video\\preprocessed_fake\\4130(0).npy\n",
      "Deleted original file: E:\\cs229_project\\train\\video\\preprocessed_fake\\4130.npy\n",
      "Saved: E:\\cs229_project\\train\\video\\preprocessed_fake\\4131(0).npy\n",
      "Deleted original file: E:\\cs229_project\\train\\video\\preprocessed_fake\\4131.npy\n",
      "Saved: E:\\cs229_project\\train\\video\\preprocessed_fake\\4132(0).npy\n",
      "Deleted original file: E:\\cs229_project\\train\\video\\preprocessed_fake\\4132.npy\n"
     ]
    },
    {
     "name": "stderr",
     "output_type": "stream",
     "text": [
      " 79%|███████▉  | 3314/4206 [03:03<00:40, 21.85it/s]"
     ]
    },
    {
     "name": "stdout",
     "output_type": "stream",
     "text": [
      "Saved: E:\\cs229_project\\train\\video\\preprocessed_fake\\4133(0).npy\n",
      "Deleted original file: E:\\cs229_project\\train\\video\\preprocessed_fake\\4133.npy\n",
      "Saved: E:\\cs229_project\\train\\video\\preprocessed_fake\\4134(0).npy\n",
      "Deleted original file: E:\\cs229_project\\train\\video\\preprocessed_fake\\4134.npy\n",
      "Saved: E:\\cs229_project\\train\\video\\preprocessed_fake\\4135(0).npy\n",
      "Deleted original file: E:\\cs229_project\\train\\video\\preprocessed_fake\\4135.npy\n",
      "Saved: E:\\cs229_project\\train\\video\\preprocessed_fake\\4136(0).npy\n",
      "Deleted original file: E:\\cs229_project\\train\\video\\preprocessed_fake\\4136.npy\n",
      "Saved: E:\\cs229_project\\train\\video\\preprocessed_fake\\4137(0).npy\n",
      "Deleted original file: E:\\cs229_project\\train\\video\\preprocessed_fake\\4137.npy\n",
      "Saved: E:\\cs229_project\\train\\video\\preprocessed_fake\\4138(0).npy\n",
      "Deleted original file: E:\\cs229_project\\train\\video\\preprocessed_fake\\4138.npy\n",
      "Saved: E:\\cs229_project\\train\\video\\preprocessed_fake\\4139(0).npy\n",
      "Deleted original file: E:\\cs229_project\\train\\video\\preprocessed_fake\\4139.npy\n"
     ]
    },
    {
     "name": "stderr",
     "output_type": "stream",
     "text": [
      " 79%|███████▉  | 3322/4206 [03:04<00:33, 26.37it/s]"
     ]
    },
    {
     "name": "stdout",
     "output_type": "stream",
     "text": [
      "Saved: E:\\cs229_project\\train\\video\\preprocessed_fake\\414(0).npy\n",
      "Deleted original file: E:\\cs229_project\\train\\video\\preprocessed_fake\\414.npy\n",
      "Saved: E:\\cs229_project\\train\\video\\preprocessed_fake\\4140(0).npy\n",
      "Deleted original file: E:\\cs229_project\\train\\video\\preprocessed_fake\\4140.npy\n",
      "Saved: E:\\cs229_project\\train\\video\\preprocessed_fake\\4141(0).npy\n",
      "Deleted original file: E:\\cs229_project\\train\\video\\preprocessed_fake\\4141.npy\n",
      "Saved: E:\\cs229_project\\train\\video\\preprocessed_fake\\4142(0).npy\n",
      "Deleted original file: E:\\cs229_project\\train\\video\\preprocessed_fake\\4142.npy\n",
      "Saved: E:\\cs229_project\\train\\video\\preprocessed_fake\\4143(0).npy\n",
      "Deleted original file: E:\\cs229_project\\train\\video\\preprocessed_fake\\4143.npy\n",
      "Saved: E:\\cs229_project\\train\\video\\preprocessed_fake\\4144(0).npy\n",
      "Deleted original file: E:\\cs229_project\\train\\video\\preprocessed_fake\\4144.npy\n",
      "Saved: E:\\cs229_project\\train\\video\\preprocessed_fake\\4145(0).npy\n",
      "Deleted original file: E:\\cs229_project\\train\\video\\preprocessed_fake\\4145.npy\n"
     ]
    },
    {
     "name": "stderr",
     "output_type": "stream",
     "text": [
      " 79%|███████▉  | 3325/4206 [03:04<00:33, 26.05it/s]"
     ]
    },
    {
     "name": "stdout",
     "output_type": "stream",
     "text": [
      "Saved: E:\\cs229_project\\train\\video\\preprocessed_fake\\4146(0).npy\n",
      "Saved: E:\\cs229_project\\train\\video\\preprocessed_fake\\4146(1).npy\n",
      "Deleted original file: E:\\cs229_project\\train\\video\\preprocessed_fake\\4146.npy\n",
      "Saved: E:\\cs229_project\\train\\video\\preprocessed_fake\\4147(0).npy\n",
      "Deleted original file: E:\\cs229_project\\train\\video\\preprocessed_fake\\4147.npy\n",
      "Saved: E:\\cs229_project\\train\\video\\preprocessed_fake\\4148(0).npy\n",
      "Deleted original file: E:\\cs229_project\\train\\video\\preprocessed_fake\\4148.npy\n",
      "Saved: E:\\cs229_project\\train\\video\\preprocessed_fake\\4149(0).npy\n",
      "Saved: E:\\cs229_project\\train\\video\\preprocessed_fake\\4149(1).npy\n",
      "Deleted original file: E:\\cs229_project\\train\\video\\preprocessed_fake\\4149.npy\n",
      "Saved: E:\\cs229_project\\train\\video\\preprocessed_fake\\415(0).npy\n",
      "Saved: E:\\cs229_project\\train\\video\\preprocessed_fake\\415(1).npy\n"
     ]
    },
    {
     "name": "stderr",
     "output_type": "stream",
     "text": [
      " 79%|███████▉  | 3328/4206 [03:04<01:22, 10.68it/s]"
     ]
    },
    {
     "name": "stdout",
     "output_type": "stream",
     "text": [
      "Saved: E:\\cs229_project\\train\\video\\preprocessed_fake\\415(2).npy\n",
      "Saved: E:\\cs229_project\\train\\video\\preprocessed_fake\\415(3).npy\n",
      "Saved: E:\\cs229_project\\train\\video\\preprocessed_fake\\415(4).npy\n",
      "Saved: E:\\cs229_project\\train\\video\\preprocessed_fake\\415(5).npy\n",
      "Saved: E:\\cs229_project\\train\\video\\preprocessed_fake\\415(6).npy\n",
      "Saved: E:\\cs229_project\\train\\video\\preprocessed_fake\\415(7).npy\n",
      "Saved: E:\\cs229_project\\train\\video\\preprocessed_fake\\415(8).npy\n",
      "Deleted original file: E:\\cs229_project\\train\\video\\preprocessed_fake\\415.npy\n",
      "Saved: E:\\cs229_project\\train\\video\\preprocessed_fake\\4150(0).npy\n",
      "Deleted original file: E:\\cs229_project\\train\\video\\preprocessed_fake\\4150.npy\n",
      "Saved: E:\\cs229_project\\train\\video\\preprocessed_fake\\4151(0).npy\n",
      "Deleted original file: E:\\cs229_project\\train\\video\\preprocessed_fake\\4151.npy\n"
     ]
    },
    {
     "name": "stderr",
     "output_type": "stream",
     "text": [
      " 79%|███████▉  | 3338/4206 [03:05<00:46, 18.85it/s]"
     ]
    },
    {
     "name": "stdout",
     "output_type": "stream",
     "text": [
      "Saved: E:\\cs229_project\\train\\video\\preprocessed_fake\\4152(0).npy\n",
      "Deleted original file: E:\\cs229_project\\train\\video\\preprocessed_fake\\4152.npy\n",
      "Saved: E:\\cs229_project\\train\\video\\preprocessed_fake\\4153(0).npy\n",
      "Deleted original file: E:\\cs229_project\\train\\video\\preprocessed_fake\\4153.npy\n",
      "Saved: E:\\cs229_project\\train\\video\\preprocessed_fake\\4154(0).npy\n",
      "Deleted original file: E:\\cs229_project\\train\\video\\preprocessed_fake\\4154.npy\n",
      "Saved: E:\\cs229_project\\train\\video\\preprocessed_fake\\4155(0).npy\n",
      "Deleted original file: E:\\cs229_project\\train\\video\\preprocessed_fake\\4155.npy\n",
      "Saved: E:\\cs229_project\\train\\video\\preprocessed_fake\\4156(0).npy\n",
      "Deleted original file: E:\\cs229_project\\train\\video\\preprocessed_fake\\4156.npy\n",
      "Saved: E:\\cs229_project\\train\\video\\preprocessed_fake\\4157(0).npy\n",
      "Deleted original file: E:\\cs229_project\\train\\video\\preprocessed_fake\\4157.npy\n",
      "Saved: E:\\cs229_project\\train\\video\\preprocessed_fake\\4158(0).npy\n",
      "Deleted original file: E:\\cs229_project\\train\\video\\preprocessed_fake\\4158.npy\n",
      "Saved: E:\\cs229_project\\train\\video\\preprocessed_fake\\4159(0).npy\n",
      "Deleted original file: E:\\cs229_project\\train\\video\\preprocessed_fake\\4159.npy\n"
     ]
    },
    {
     "name": "stderr",
     "output_type": "stream",
     "text": [
      " 79%|███████▉  | 3341/4206 [03:05<00:47, 18.39it/s]"
     ]
    },
    {
     "name": "stdout",
     "output_type": "stream",
     "text": [
      "Saved: E:\\cs229_project\\train\\video\\preprocessed_fake\\416(0).npy\n",
      "Saved: E:\\cs229_project\\train\\video\\preprocessed_fake\\416(1).npy\n",
      "Saved: E:\\cs229_project\\train\\video\\preprocessed_fake\\416(2).npy\n",
      "Saved: E:\\cs229_project\\train\\video\\preprocessed_fake\\416(3).npy\n",
      "Deleted original file: E:\\cs229_project\\train\\video\\preprocessed_fake\\416.npy\n",
      "Saved: E:\\cs229_project\\train\\video\\preprocessed_fake\\4160(0).npy\n",
      "Deleted original file: E:\\cs229_project\\train\\video\\preprocessed_fake\\4160.npy\n",
      "Saved: E:\\cs229_project\\train\\video\\preprocessed_fake\\4161(0).npy\n",
      "Deleted original file: E:\\cs229_project\\train\\video\\preprocessed_fake\\4161.npy\n",
      "Saved: E:\\cs229_project\\train\\video\\preprocessed_fake\\4162(0).npy\n",
      "Deleted original file: E:\\cs229_project\\train\\video\\preprocessed_fake\\4162.npy\n",
      "Saved: E:\\cs229_project\\train\\video\\preprocessed_fake\\4163(0).npy\n",
      "Deleted original file: E:\\cs229_project\\train\\video\\preprocessed_fake\\4163.npy\n",
      "Saved: E:\\cs229_project\\train\\video\\preprocessed_fake\\4164(0).npy\n",
      "Deleted original file: E:\\cs229_project\\train\\video\\preprocessed_fake\\4164.npy\n"
     ]
    },
    {
     "name": "stderr",
     "output_type": "stream",
     "text": [
      " 80%|███████▉  | 3348/4206 [03:05<00:39, 21.77it/s]"
     ]
    },
    {
     "name": "stdout",
     "output_type": "stream",
     "text": [
      "Saved: E:\\cs229_project\\train\\video\\preprocessed_fake\\4165(0).npy\n",
      "Saved: E:\\cs229_project\\train\\video\\preprocessed_fake\\4165(1).npy\n",
      "Deleted original file: E:\\cs229_project\\train\\video\\preprocessed_fake\\4165.npy\n",
      "Saved: E:\\cs229_project\\train\\video\\preprocessed_fake\\4166(0).npy\n",
      "Deleted original file: E:\\cs229_project\\train\\video\\preprocessed_fake\\4166.npy\n",
      "Saved: E:\\cs229_project\\train\\video\\preprocessed_fake\\4167(0).npy\n",
      "Deleted original file: E:\\cs229_project\\train\\video\\preprocessed_fake\\4167.npy\n",
      "Saved: E:\\cs229_project\\train\\video\\preprocessed_fake\\4168(0).npy\n",
      "Saved: E:\\cs229_project\\train\\video\\preprocessed_fake\\4168(1).npy\n",
      "Deleted original file: E:\\cs229_project\\train\\video\\preprocessed_fake\\4168.npy\n",
      "Saved: E:\\cs229_project\\train\\video\\preprocessed_fake\\4169(0).npy\n",
      "Deleted original file: E:\\cs229_project\\train\\video\\preprocessed_fake\\4169.npy\n",
      "Saved: E:\\cs229_project\\train\\video\\preprocessed_fake\\417(0).npy\n",
      "Saved: E:\\cs229_project\\train\\video\\preprocessed_fake\\417(1).npy\n"
     ]
    },
    {
     "name": "stderr",
     "output_type": "stream",
     "text": [
      " 80%|███████▉  | 3355/4206 [03:06<00:56, 15.12it/s]"
     ]
    },
    {
     "name": "stdout",
     "output_type": "stream",
     "text": [
      "Saved: E:\\cs229_project\\train\\video\\preprocessed_fake\\417(2).npy\n",
      "Deleted original file: E:\\cs229_project\\train\\video\\preprocessed_fake\\417.npy\n",
      "Saved: E:\\cs229_project\\train\\video\\preprocessed_fake\\4170(0).npy\n",
      "Deleted original file: E:\\cs229_project\\train\\video\\preprocessed_fake\\4170.npy\n",
      "Saved: E:\\cs229_project\\train\\video\\preprocessed_fake\\4171(0).npy\n",
      "Deleted original file: E:\\cs229_project\\train\\video\\preprocessed_fake\\4171.npy\n",
      "Saved: E:\\cs229_project\\train\\video\\preprocessed_fake\\4172(0).npy\n",
      "Deleted original file: E:\\cs229_project\\train\\video\\preprocessed_fake\\4172.npy\n",
      "Saved: E:\\cs229_project\\train\\video\\preprocessed_fake\\4173(0).npy\n",
      "Deleted original file: E:\\cs229_project\\train\\video\\preprocessed_fake\\4173.npy\n",
      "Saved: E:\\cs229_project\\train\\video\\preprocessed_fake\\4174(0).npy\n",
      "Saved: E:\\cs229_project\\train\\video\\preprocessed_fake\\4174(1).npy\n",
      "Deleted original file: E:\\cs229_project\\train\\video\\preprocessed_fake\\4174.npy\n"
     ]
    },
    {
     "name": "stderr",
     "output_type": "stream",
     "text": [
      " 80%|███████▉  | 3359/4206 [03:06<00:46, 18.31it/s]"
     ]
    },
    {
     "name": "stdout",
     "output_type": "stream",
     "text": [
      "Saved: E:\\cs229_project\\train\\video\\preprocessed_fake\\4175(0).npy\n",
      "Deleted original file: E:\\cs229_project\\train\\video\\preprocessed_fake\\4175.npy\n",
      "Saved: E:\\cs229_project\\train\\video\\preprocessed_fake\\4176(0).npy\n",
      "Deleted original file: E:\\cs229_project\\train\\video\\preprocessed_fake\\4176.npy\n",
      "Saved: E:\\cs229_project\\train\\video\\preprocessed_fake\\4177(0).npy\n",
      "Deleted original file: E:\\cs229_project\\train\\video\\preprocessed_fake\\4177.npy\n",
      "Saved: E:\\cs229_project\\train\\video\\preprocessed_fake\\4178(0).npy\n",
      "Deleted original file: E:\\cs229_project\\train\\video\\preprocessed_fake\\4178.npy\n",
      "Saved: E:\\cs229_project\\train\\video\\preprocessed_fake\\4179(0).npy\n",
      "Deleted original file: E:\\cs229_project\\train\\video\\preprocessed_fake\\4179.npy\n"
     ]
    },
    {
     "name": "stderr",
     "output_type": "stream",
     "text": [
      " 80%|███████▉  | 3362/4206 [03:06<00:51, 16.41it/s]"
     ]
    },
    {
     "name": "stdout",
     "output_type": "stream",
     "text": [
      "Saved: E:\\cs229_project\\train\\video\\preprocessed_fake\\418(0).npy\n",
      "Saved: E:\\cs229_project\\train\\video\\preprocessed_fake\\418(1).npy\n",
      "Saved: E:\\cs229_project\\train\\video\\preprocessed_fake\\418(2).npy\n",
      "Saved: E:\\cs229_project\\train\\video\\preprocessed_fake\\418(3).npy\n",
      "Saved: E:\\cs229_project\\train\\video\\preprocessed_fake\\418(4).npy\n",
      "Saved: E:\\cs229_project\\train\\video\\preprocessed_fake\\418(5).npy\n",
      "Deleted original file: E:\\cs229_project\\train\\video\\preprocessed_fake\\418.npy\n",
      "Saved: E:\\cs229_project\\train\\video\\preprocessed_fake\\4180(0).npy\n",
      "Deleted original file: E:\\cs229_project\\train\\video\\preprocessed_fake\\4180.npy\n",
      "Saved: E:\\cs229_project\\train\\video\\preprocessed_fake\\4181(0).npy\n",
      "Deleted original file: E:\\cs229_project\\train\\video\\preprocessed_fake\\4181.npy\n",
      "Saved: E:\\cs229_project\\train\\video\\preprocessed_fake\\4182(0).npy\n",
      "Deleted original file: E:\\cs229_project\\train\\video\\preprocessed_fake\\4182.npy\n"
     ]
    },
    {
     "name": "stderr",
     "output_type": "stream",
     "text": [
      " 80%|████████  | 3369/4206 [03:06<00:40, 20.77it/s]"
     ]
    },
    {
     "name": "stdout",
     "output_type": "stream",
     "text": [
      "Saved: E:\\cs229_project\\train\\video\\preprocessed_fake\\4183(0).npy\n",
      "Deleted original file: E:\\cs229_project\\train\\video\\preprocessed_fake\\4183.npy\n",
      "Saved: E:\\cs229_project\\train\\video\\preprocessed_fake\\4184(0).npy\n",
      "Deleted original file: E:\\cs229_project\\train\\video\\preprocessed_fake\\4184.npy\n",
      "Saved: E:\\cs229_project\\train\\video\\preprocessed_fake\\4185(0).npy\n",
      "Saved: E:\\cs229_project\\train\\video\\preprocessed_fake\\4185(1).npy\n",
      "Deleted original file: E:\\cs229_project\\train\\video\\preprocessed_fake\\4185.npy\n",
      "Saved: E:\\cs229_project\\train\\video\\preprocessed_fake\\4186(0).npy\n",
      "Deleted original file: E:\\cs229_project\\train\\video\\preprocessed_fake\\4186.npy\n",
      "Saved: E:\\cs229_project\\train\\video\\preprocessed_fake\\4187(0).npy\n",
      "Deleted original file: E:\\cs229_project\\train\\video\\preprocessed_fake\\4187.npy\n",
      "Saved: E:\\cs229_project\\train\\video\\preprocessed_fake\\4188(0).npy\n",
      "Deleted original file: E:\\cs229_project\\train\\video\\preprocessed_fake\\4188.npy\n"
     ]
    },
    {
     "name": "stderr",
     "output_type": "stream",
     "text": [
      " 80%|████████  | 3372/4206 [03:07<00:42, 19.85it/s]"
     ]
    },
    {
     "name": "stdout",
     "output_type": "stream",
     "text": [
      "Saved: E:\\cs229_project\\train\\video\\preprocessed_fake\\4189(0).npy\n",
      "Deleted original file: E:\\cs229_project\\train\\video\\preprocessed_fake\\4189.npy\n",
      "Saved: E:\\cs229_project\\train\\video\\preprocessed_fake\\419(0).npy\n",
      "Saved: E:\\cs229_project\\train\\video\\preprocessed_fake\\419(1).npy\n",
      "Saved: E:\\cs229_project\\train\\video\\preprocessed_fake\\419(2).npy\n",
      "Saved: E:\\cs229_project\\train\\video\\preprocessed_fake\\419(3).npy\n",
      "Deleted original file: E:\\cs229_project\\train\\video\\preprocessed_fake\\419.npy\n",
      "Saved: E:\\cs229_project\\train\\video\\preprocessed_fake\\4190(0).npy\n",
      "Deleted original file: E:\\cs229_project\\train\\video\\preprocessed_fake\\4190.npy\n",
      "Saved: E:\\cs229_project\\train\\video\\preprocessed_fake\\4191(0).npy\n",
      "Deleted original file: E:\\cs229_project\\train\\video\\preprocessed_fake\\4191.npy\n"
     ]
    },
    {
     "name": "stderr",
     "output_type": "stream",
     "text": [
      " 80%|████████  | 3379/4206 [03:07<00:50, 16.52it/s]"
     ]
    },
    {
     "name": "stdout",
     "output_type": "stream",
     "text": [
      "Saved: E:\\cs229_project\\train\\video\\preprocessed_fake\\4192(0).npy\n",
      "Deleted original file: E:\\cs229_project\\train\\video\\preprocessed_fake\\4192.npy\n",
      "Saved: E:\\cs229_project\\train\\video\\preprocessed_fake\\4193(0).npy\n",
      "Deleted original file: E:\\cs229_project\\train\\video\\preprocessed_fake\\4193.npy\n",
      "Saved: E:\\cs229_project\\train\\video\\preprocessed_fake\\4194(0).npy\n",
      "Deleted original file: E:\\cs229_project\\train\\video\\preprocessed_fake\\4194.npy\n",
      "Saved: E:\\cs229_project\\train\\video\\preprocessed_fake\\4195(0).npy\n",
      "Deleted original file: E:\\cs229_project\\train\\video\\preprocessed_fake\\4195.npy\n",
      "Saved: E:\\cs229_project\\train\\video\\preprocessed_fake\\4196(0).npy\n",
      "Deleted original file: E:\\cs229_project\\train\\video\\preprocessed_fake\\4196.npy\n",
      "Saved: E:\\cs229_project\\train\\video\\preprocessed_fake\\4197(0).npy\n",
      "Deleted original file: E:\\cs229_project\\train\\video\\preprocessed_fake\\4197.npy\n",
      "Saved: E:\\cs229_project\\train\\video\\preprocessed_fake\\4198(0).npy\n",
      "Deleted original file: E:\\cs229_project\\train\\video\\preprocessed_fake\\4198.npy\n"
     ]
    },
    {
     "name": "stderr",
     "output_type": "stream",
     "text": [
      " 80%|████████  | 3383/4206 [03:07<00:47, 17.16it/s]"
     ]
    },
    {
     "name": "stdout",
     "output_type": "stream",
     "text": [
      "Saved: E:\\cs229_project\\train\\video\\preprocessed_fake\\4199(0).npy\n",
      "Deleted original file: E:\\cs229_project\\train\\video\\preprocessed_fake\\4199.npy\n",
      "Saved: E:\\cs229_project\\train\\video\\preprocessed_fake\\42(0).npy\n",
      "Saved: E:\\cs229_project\\train\\video\\preprocessed_fake\\42(1).npy\n",
      "Saved: E:\\cs229_project\\train\\video\\preprocessed_fake\\42(2).npy\n",
      "Saved: E:\\cs229_project\\train\\video\\preprocessed_fake\\42(3).npy\n",
      "Deleted original file: E:\\cs229_project\\train\\video\\preprocessed_fake\\42.npy\n",
      "Saved: E:\\cs229_project\\train\\video\\preprocessed_fake\\420(0).npy\n",
      "Deleted original file: E:\\cs229_project\\train\\video\\preprocessed_fake\\420.npy\n",
      "Saved: E:\\cs229_project\\train\\video\\preprocessed_fake\\4200(0).npy\n",
      "Deleted original file: E:\\cs229_project\\train\\video\\preprocessed_fake\\4200.npy\n"
     ]
    },
    {
     "name": "stderr",
     "output_type": "stream",
     "text": [
      " 81%|████████  | 3391/4206 [03:08<00:35, 22.94it/s]"
     ]
    },
    {
     "name": "stdout",
     "output_type": "stream",
     "text": [
      "Saved: E:\\cs229_project\\train\\video\\preprocessed_fake\\4201(0).npy\n",
      "Deleted original file: E:\\cs229_project\\train\\video\\preprocessed_fake\\4201.npy\n",
      "Saved: E:\\cs229_project\\train\\video\\preprocessed_fake\\4202(0).npy\n",
      "Deleted original file: E:\\cs229_project\\train\\video\\preprocessed_fake\\4202.npy\n",
      "Saved: E:\\cs229_project\\train\\video\\preprocessed_fake\\4203(0).npy\n",
      "Deleted original file: E:\\cs229_project\\train\\video\\preprocessed_fake\\4203.npy\n",
      "Saved: E:\\cs229_project\\train\\video\\preprocessed_fake\\4204(0).npy\n",
      "Deleted original file: E:\\cs229_project\\train\\video\\preprocessed_fake\\4204.npy\n",
      "Saved: E:\\cs229_project\\train\\video\\preprocessed_fake\\4205(0).npy\n",
      "Deleted original file: E:\\cs229_project\\train\\video\\preprocessed_fake\\4205.npy\n",
      "Saved: E:\\cs229_project\\train\\video\\preprocessed_fake\\4206(0).npy\n",
      "Deleted original file: E:\\cs229_project\\train\\video\\preprocessed_fake\\4206.npy\n",
      "Saved: E:\\cs229_project\\train\\video\\preprocessed_fake\\4207(0).npy\n",
      "Deleted original file: E:\\cs229_project\\train\\video\\preprocessed_fake\\4207.npy\n"
     ]
    },
    {
     "name": "stderr",
     "output_type": "stream",
     "text": [
      " 81%|████████  | 3399/4206 [03:08<00:29, 27.29it/s]"
     ]
    },
    {
     "name": "stdout",
     "output_type": "stream",
     "text": [
      "Saved: E:\\cs229_project\\train\\video\\preprocessed_fake\\4208(0).npy\n",
      "Deleted original file: E:\\cs229_project\\train\\video\\preprocessed_fake\\4208.npy\n",
      "Saved: E:\\cs229_project\\train\\video\\preprocessed_fake\\4209(0).npy\n",
      "Deleted original file: E:\\cs229_project\\train\\video\\preprocessed_fake\\4209.npy\n",
      "Saved: E:\\cs229_project\\train\\video\\preprocessed_fake\\421(0).npy\n",
      "Deleted original file: E:\\cs229_project\\train\\video\\preprocessed_fake\\421.npy\n",
      "Saved: E:\\cs229_project\\train\\video\\preprocessed_fake\\4210(0).npy\n",
      "Deleted original file: E:\\cs229_project\\train\\video\\preprocessed_fake\\4210.npy\n",
      "Saved: E:\\cs229_project\\train\\video\\preprocessed_fake\\4211(0).npy\n",
      "Deleted original file: E:\\cs229_project\\train\\video\\preprocessed_fake\\4211.npy\n",
      "Saved: E:\\cs229_project\\train\\video\\preprocessed_fake\\4212(0).npy\n",
      "Deleted original file: E:\\cs229_project\\train\\video\\preprocessed_fake\\4212.npy\n",
      "Saved: E:\\cs229_project\\train\\video\\preprocessed_fake\\4213(0).npy\n",
      "Deleted original file: E:\\cs229_project\\train\\video\\preprocessed_fake\\4213.npy\n",
      "Saved: E:\\cs229_project\\train\\video\\preprocessed_fake\\4214(0).npy\n",
      "Deleted original file: E:\\cs229_project\\train\\video\\preprocessed_fake\\4214.npy\n",
      "Saved: E:\\cs229_project\\train\\video\\preprocessed_fake\\4215(0).npy\n",
      "Deleted original file: E:\\cs229_project\\train\\video\\preprocessed_fake\\4215.npy\n",
      "Saved: E:\\cs229_project\\train\\video\\preprocessed_fake\\4216(0).npy\n",
      "Deleted original file: E:\\cs229_project\\train\\video\\preprocessed_fake\\4216.npy\n"
     ]
    },
    {
     "name": "stderr",
     "output_type": "stream",
     "text": [
      " 81%|████████  | 3406/4206 [03:08<00:43, 18.51it/s]"
     ]
    },
    {
     "name": "stdout",
     "output_type": "stream",
     "text": [
      "Saved: E:\\cs229_project\\train\\video\\preprocessed_fake\\4217(0).npy\n",
      "Deleted original file: E:\\cs229_project\\train\\video\\preprocessed_fake\\4217.npy\n",
      "Saved: E:\\cs229_project\\train\\video\\preprocessed_fake\\4218(0).npy\n",
      "Deleted original file: E:\\cs229_project\\train\\video\\preprocessed_fake\\4218.npy\n",
      "Saved: E:\\cs229_project\\train\\video\\preprocessed_fake\\4219(0).npy\n",
      "Deleted original file: E:\\cs229_project\\train\\video\\preprocessed_fake\\4219.npy\n",
      "Saved: E:\\cs229_project\\train\\video\\preprocessed_fake\\422(0).npy\n",
      "Deleted original file: E:\\cs229_project\\train\\video\\preprocessed_fake\\422.npy\n"
     ]
    },
    {
     "name": "stderr",
     "output_type": "stream",
     "text": [
      " 81%|████████  | 3410/4206 [03:08<00:37, 21.46it/s]"
     ]
    },
    {
     "name": "stdout",
     "output_type": "stream",
     "text": [
      "Saved: E:\\cs229_project\\train\\video\\preprocessed_fake\\4220(0).npy\n",
      "Deleted original file: E:\\cs229_project\\train\\video\\preprocessed_fake\\4220.npy\n",
      "Saved: E:\\cs229_project\\train\\video\\preprocessed_fake\\4221(0).npy\n",
      "Deleted original file: E:\\cs229_project\\train\\video\\preprocessed_fake\\4221.npy\n",
      "Saved: E:\\cs229_project\\train\\video\\preprocessed_fake\\4222(0).npy\n",
      "Deleted original file: E:\\cs229_project\\train\\video\\preprocessed_fake\\4222.npy\n",
      "Saved: E:\\cs229_project\\train\\video\\preprocessed_fake\\4223(0).npy\n",
      "Deleted original file: E:\\cs229_project\\train\\video\\preprocessed_fake\\4223.npy\n",
      "Saved: E:\\cs229_project\\train\\video\\preprocessed_fake\\4224(0).npy\n",
      "Deleted original file: E:\\cs229_project\\train\\video\\preprocessed_fake\\4224.npy\n",
      "Saved: E:\\cs229_project\\train\\video\\preprocessed_fake\\4225(0).npy\n",
      "Deleted original file: E:\\cs229_project\\train\\video\\preprocessed_fake\\4225.npy\n"
     ]
    },
    {
     "name": "stderr",
     "output_type": "stream",
     "text": [
      " 81%|████████  | 3416/4206 [03:09<00:34, 22.75it/s]"
     ]
    },
    {
     "name": "stdout",
     "output_type": "stream",
     "text": [
      "Saved: E:\\cs229_project\\train\\video\\preprocessed_fake\\4226(0).npy\n",
      "Saved: E:\\cs229_project\\train\\video\\preprocessed_fake\\4226(1).npy\n",
      "Deleted original file: E:\\cs229_project\\train\\video\\preprocessed_fake\\4226.npy\n",
      "Saved: E:\\cs229_project\\train\\video\\preprocessed_fake\\4227(0).npy\n",
      "Saved: E:\\cs229_project\\train\\video\\preprocessed_fake\\4227(1).npy\n",
      "Deleted original file: E:\\cs229_project\\train\\video\\preprocessed_fake\\4227.npy\n",
      "Saved: E:\\cs229_project\\train\\video\\preprocessed_fake\\4228(0).npy\n",
      "Deleted original file: E:\\cs229_project\\train\\video\\preprocessed_fake\\4228.npy\n",
      "Saved: E:\\cs229_project\\train\\video\\preprocessed_fake\\4229(0).npy\n",
      "Deleted original file: E:\\cs229_project\\train\\video\\preprocessed_fake\\4229.npy\n",
      "Saved: E:\\cs229_project\\train\\video\\preprocessed_fake\\423(0).npy\n",
      "Deleted original file: E:\\cs229_project\\train\\video\\preprocessed_fake\\423.npy\n",
      "Saved: E:\\cs229_project\\train\\video\\preprocessed_fake\\4230(0).npy\n",
      "Deleted original file: E:\\cs229_project\\train\\video\\preprocessed_fake\\4230.npy\n"
     ]
    },
    {
     "name": "stderr",
     "output_type": "stream",
     "text": [
      " 81%|████████▏ | 3423/4206 [03:09<00:31, 25.18it/s]"
     ]
    },
    {
     "name": "stdout",
     "output_type": "stream",
     "text": [
      "Saved: E:\\cs229_project\\train\\video\\preprocessed_fake\\4231(0).npy\n",
      "Deleted original file: E:\\cs229_project\\train\\video\\preprocessed_fake\\4231.npy\n",
      "Saved: E:\\cs229_project\\train\\video\\preprocessed_fake\\4232(0).npy\n",
      "Deleted original file: E:\\cs229_project\\train\\video\\preprocessed_fake\\4232.npy\n",
      "Saved: E:\\cs229_project\\train\\video\\preprocessed_fake\\4233(0).npy\n",
      "Deleted original file: E:\\cs229_project\\train\\video\\preprocessed_fake\\4233.npy\n",
      "Saved: E:\\cs229_project\\train\\video\\preprocessed_fake\\4234(0).npy\n",
      "Deleted original file: E:\\cs229_project\\train\\video\\preprocessed_fake\\4234.npy\n",
      "Saved: E:\\cs229_project\\train\\video\\preprocessed_fake\\4235(0).npy\n",
      "Saved: E:\\cs229_project\\train\\video\\preprocessed_fake\\4235(1).npy\n",
      "Deleted original file: E:\\cs229_project\\train\\video\\preprocessed_fake\\4235.npy\n",
      "Saved: E:\\cs229_project\\train\\video\\preprocessed_fake\\4236(0).npy\n",
      "Deleted original file: E:\\cs229_project\\train\\video\\preprocessed_fake\\4236.npy\n",
      "Saved: E:\\cs229_project\\train\\video\\preprocessed_fake\\4237(0).npy\n",
      "Deleted original file: E:\\cs229_project\\train\\video\\preprocessed_fake\\4237.npy\n"
     ]
    },
    {
     "name": "stderr",
     "output_type": "stream",
     "text": [
      " 82%|████████▏ | 3430/4206 [03:09<00:28, 27.65it/s]"
     ]
    },
    {
     "name": "stdout",
     "output_type": "stream",
     "text": [
      "Saved: E:\\cs229_project\\train\\video\\preprocessed_fake\\4238(0).npy\n",
      "Deleted original file: E:\\cs229_project\\train\\video\\preprocessed_fake\\4238.npy\n",
      "Saved: E:\\cs229_project\\train\\video\\preprocessed_fake\\4239(0).npy\n",
      "Deleted original file: E:\\cs229_project\\train\\video\\preprocessed_fake\\4239.npy\n",
      "Saved: E:\\cs229_project\\train\\video\\preprocessed_fake\\424(0).npy\n",
      "Deleted original file: E:\\cs229_project\\train\\video\\preprocessed_fake\\424.npy\n",
      "Saved: E:\\cs229_project\\train\\video\\preprocessed_fake\\4240(0).npy\n",
      "Deleted original file: E:\\cs229_project\\train\\video\\preprocessed_fake\\4240.npy\n",
      "Saved: E:\\cs229_project\\train\\video\\preprocessed_fake\\4241(0).npy\n",
      "Deleted original file: E:\\cs229_project\\train\\video\\preprocessed_fake\\4241.npy\n",
      "Saved: E:\\cs229_project\\train\\video\\preprocessed_fake\\4242(0).npy\n",
      "Deleted original file: E:\\cs229_project\\train\\video\\preprocessed_fake\\4242.npy\n",
      "Saved: E:\\cs229_project\\train\\video\\preprocessed_fake\\4243(0).npy\n",
      "Deleted original file: E:\\cs229_project\\train\\video\\preprocessed_fake\\4243.npy\n",
      "Saved: E:\\cs229_project\\train\\video\\preprocessed_fake\\4244(0).npy\n",
      "Deleted original file: E:\\cs229_project\\train\\video\\preprocessed_fake\\4244.npy\n"
     ]
    },
    {
     "name": "stderr",
     "output_type": "stream",
     "text": [
      " 82%|████████▏ | 3437/4206 [03:10<00:44, 17.12it/s]"
     ]
    },
    {
     "name": "stdout",
     "output_type": "stream",
     "text": [
      "Saved: E:\\cs229_project\\train\\video\\preprocessed_fake\\4245(0).npy\n",
      "Deleted original file: E:\\cs229_project\\train\\video\\preprocessed_fake\\4245.npy\n",
      "Saved: E:\\cs229_project\\train\\video\\preprocessed_fake\\4246(0).npy\n",
      "Deleted original file: E:\\cs229_project\\train\\video\\preprocessed_fake\\4246.npy\n",
      "Saved: E:\\cs229_project\\train\\video\\preprocessed_fake\\4247(0).npy\n",
      "Deleted original file: E:\\cs229_project\\train\\video\\preprocessed_fake\\4247.npy\n",
      "Saved: E:\\cs229_project\\train\\video\\preprocessed_fake\\4248(0).npy\n",
      "Deleted original file: E:\\cs229_project\\train\\video\\preprocessed_fake\\4248.npy\n"
     ]
    },
    {
     "name": "stderr",
     "output_type": "stream",
     "text": [
      " 82%|████████▏ | 3441/4206 [03:10<00:38, 20.07it/s]"
     ]
    },
    {
     "name": "stdout",
     "output_type": "stream",
     "text": [
      "Saved: E:\\cs229_project\\train\\video\\preprocessed_fake\\4249(0).npy\n",
      "Deleted original file: E:\\cs229_project\\train\\video\\preprocessed_fake\\4249.npy\n",
      "Saved: E:\\cs229_project\\train\\video\\preprocessed_fake\\425(0).npy\n",
      "Deleted original file: E:\\cs229_project\\train\\video\\preprocessed_fake\\425.npy\n",
      "Saved: E:\\cs229_project\\train\\video\\preprocessed_fake\\4250(0).npy\n",
      "Deleted original file: E:\\cs229_project\\train\\video\\preprocessed_fake\\4250.npy\n",
      "Saved: E:\\cs229_project\\train\\video\\preprocessed_fake\\4251(0).npy\n",
      "Deleted original file: E:\\cs229_project\\train\\video\\preprocessed_fake\\4251.npy\n",
      "Saved: E:\\cs229_project\\train\\video\\preprocessed_fake\\4252(0).npy\n",
      "Deleted original file: E:\\cs229_project\\train\\video\\preprocessed_fake\\4252.npy\n",
      "Saved: E:\\cs229_project\\train\\video\\preprocessed_fake\\4253(0).npy\n",
      "Deleted original file: E:\\cs229_project\\train\\video\\preprocessed_fake\\4253.npy\n",
      "Saved: E:\\cs229_project\\train\\video\\preprocessed_fake\\4254(0).npy\n",
      "Deleted original file: E:\\cs229_project\\train\\video\\preprocessed_fake\\4254.npy\n"
     ]
    },
    {
     "name": "stderr",
     "output_type": "stream",
     "text": [
      " 82%|████████▏ | 3449/4206 [03:10<00:29, 25.27it/s]"
     ]
    },
    {
     "name": "stdout",
     "output_type": "stream",
     "text": [
      "Saved: E:\\cs229_project\\train\\video\\preprocessed_fake\\4255(0).npy\n",
      "Deleted original file: E:\\cs229_project\\train\\video\\preprocessed_fake\\4255.npy\n",
      "Saved: E:\\cs229_project\\train\\video\\preprocessed_fake\\4256(0).npy\n",
      "Deleted original file: E:\\cs229_project\\train\\video\\preprocessed_fake\\4256.npy\n",
      "Saved: E:\\cs229_project\\train\\video\\preprocessed_fake\\4257(0).npy\n",
      "Deleted original file: E:\\cs229_project\\train\\video\\preprocessed_fake\\4257.npy\n",
      "Saved: E:\\cs229_project\\train\\video\\preprocessed_fake\\4258(0).npy\n",
      "Deleted original file: E:\\cs229_project\\train\\video\\preprocessed_fake\\4258.npy\n",
      "Saved: E:\\cs229_project\\train\\video\\preprocessed_fake\\4259(0).npy\n",
      "Deleted original file: E:\\cs229_project\\train\\video\\preprocessed_fake\\4259.npy\n",
      "Saved: E:\\cs229_project\\train\\video\\preprocessed_fake\\426(0).npy\n",
      "Saved: E:\\cs229_project\\train\\video\\preprocessed_fake\\426(1).npy\n"
     ]
    },
    {
     "name": "stderr",
     "output_type": "stream",
     "text": [
      " 82%|████████▏ | 3452/4206 [03:10<00:33, 22.39it/s]"
     ]
    },
    {
     "name": "stdout",
     "output_type": "stream",
     "text": [
      "Saved: E:\\cs229_project\\train\\video\\preprocessed_fake\\426(2).npy\n",
      "Saved: E:\\cs229_project\\train\\video\\preprocessed_fake\\426(3).npy\n",
      "Deleted original file: E:\\cs229_project\\train\\video\\preprocessed_fake\\426.npy\n",
      "Saved: E:\\cs229_project\\train\\video\\preprocessed_fake\\4260(0).npy\n",
      "Deleted original file: E:\\cs229_project\\train\\video\\preprocessed_fake\\4260.npy\n",
      "Saved: E:\\cs229_project\\train\\video\\preprocessed_fake\\4261(0).npy\n",
      "Deleted original file: E:\\cs229_project\\train\\video\\preprocessed_fake\\4261.npy\n",
      "Saved: E:\\cs229_project\\train\\video\\preprocessed_fake\\4262(0).npy\n",
      "Deleted original file: E:\\cs229_project\\train\\video\\preprocessed_fake\\4262.npy\n",
      "Saved: E:\\cs229_project\\train\\video\\preprocessed_fake\\4263(0).npy\n",
      "Deleted original file: E:\\cs229_project\\train\\video\\preprocessed_fake\\4263.npy\n",
      "Saved: E:\\cs229_project\\train\\video\\preprocessed_fake\\4264(0).npy\n",
      "Deleted original file: E:\\cs229_project\\train\\video\\preprocessed_fake\\4264.npy\n"
     ]
    },
    {
     "name": "stderr",
     "output_type": "stream",
     "text": [
      " 82%|████████▏ | 3460/4206 [03:11<00:27, 26.75it/s]"
     ]
    },
    {
     "name": "stdout",
     "output_type": "stream",
     "text": [
      "Saved: E:\\cs229_project\\train\\video\\preprocessed_fake\\4265(0).npy\n",
      "Deleted original file: E:\\cs229_project\\train\\video\\preprocessed_fake\\4265.npy\n",
      "Saved: E:\\cs229_project\\train\\video\\preprocessed_fake\\4266(0).npy\n",
      "Deleted original file: E:\\cs229_project\\train\\video\\preprocessed_fake\\4266.npy\n",
      "Saved: E:\\cs229_project\\train\\video\\preprocessed_fake\\4267(0).npy\n",
      "Deleted original file: E:\\cs229_project\\train\\video\\preprocessed_fake\\4267.npy\n",
      "Saved: E:\\cs229_project\\train\\video\\preprocessed_fake\\4268(0).npy\n",
      "Deleted original file: E:\\cs229_project\\train\\video\\preprocessed_fake\\4268.npy\n",
      "Saved: E:\\cs229_project\\train\\video\\preprocessed_fake\\4269(0).npy\n",
      "Deleted original file: E:\\cs229_project\\train\\video\\preprocessed_fake\\4269.npy\n",
      "Saved: E:\\cs229_project\\train\\video\\preprocessed_fake\\427(0).npy\n",
      "Deleted original file: E:\\cs229_project\\train\\video\\preprocessed_fake\\427.npy\n",
      "Saved: E:\\cs229_project\\train\\video\\preprocessed_fake\\4270(0).npy\n",
      "Deleted original file: E:\\cs229_project\\train\\video\\preprocessed_fake\\4270.npy\n"
     ]
    },
    {
     "name": "stderr",
     "output_type": "stream",
     "text": [
      " 82%|████████▏ | 3463/4206 [03:11<00:37, 19.58it/s]"
     ]
    },
    {
     "name": "stdout",
     "output_type": "stream",
     "text": [
      "Saved: E:\\cs229_project\\train\\video\\preprocessed_fake\\4271(0).npy\n",
      "Deleted original file: E:\\cs229_project\\train\\video\\preprocessed_fake\\4271.npy\n",
      "Saved: E:\\cs229_project\\train\\video\\preprocessed_fake\\4272(0).npy\n",
      "Deleted original file: E:\\cs229_project\\train\\video\\preprocessed_fake\\4272.npy\n"
     ]
    },
    {
     "name": "stderr",
     "output_type": "stream",
     "text": [
      " 82%|████████▏ | 3469/4206 [03:11<00:39, 18.69it/s]"
     ]
    },
    {
     "name": "stdout",
     "output_type": "stream",
     "text": [
      "Saved: E:\\cs229_project\\train\\video\\preprocessed_fake\\4273(0).npy\n",
      "Deleted original file: E:\\cs229_project\\train\\video\\preprocessed_fake\\4273.npy\n",
      "Saved: E:\\cs229_project\\train\\video\\preprocessed_fake\\4274(0).npy\n",
      "Deleted original file: E:\\cs229_project\\train\\video\\preprocessed_fake\\4274.npy\n",
      "Saved: E:\\cs229_project\\train\\video\\preprocessed_fake\\4275(0).npy\n",
      "Deleted original file: E:\\cs229_project\\train\\video\\preprocessed_fake\\4275.npy\n",
      "Saved: E:\\cs229_project\\train\\video\\preprocessed_fake\\4276(0).npy\n",
      "Deleted original file: E:\\cs229_project\\train\\video\\preprocessed_fake\\4276.npy\n",
      "Saved: E:\\cs229_project\\train\\video\\preprocessed_fake\\4277(0).npy\n",
      "Deleted original file: E:\\cs229_project\\train\\video\\preprocessed_fake\\4277.npy\n",
      "Saved: E:\\cs229_project\\train\\video\\preprocessed_fake\\4278(0).npy\n",
      "Deleted original file: E:\\cs229_project\\train\\video\\preprocessed_fake\\4278.npy\n",
      "Saved: E:\\cs229_project\\train\\video\\preprocessed_fake\\4279(0).npy\n",
      "Deleted original file: E:\\cs229_project\\train\\video\\preprocessed_fake\\4279.npy\n"
     ]
    },
    {
     "name": "stderr",
     "output_type": "stream",
     "text": [
      " 83%|████████▎ | 3477/4206 [03:11<00:29, 24.48it/s]"
     ]
    },
    {
     "name": "stdout",
     "output_type": "stream",
     "text": [
      "Saved: E:\\cs229_project\\train\\video\\preprocessed_fake\\428(0).npy\n",
      "Deleted original file: E:\\cs229_project\\train\\video\\preprocessed_fake\\428.npy\n",
      "Saved: E:\\cs229_project\\train\\video\\preprocessed_fake\\4280(0).npy\n",
      "Deleted original file: E:\\cs229_project\\train\\video\\preprocessed_fake\\4280.npy\n",
      "Saved: E:\\cs229_project\\train\\video\\preprocessed_fake\\4281(0).npy\n",
      "Deleted original file: E:\\cs229_project\\train\\video\\preprocessed_fake\\4281.npy\n",
      "Saved: E:\\cs229_project\\train\\video\\preprocessed_fake\\4282(0).npy\n",
      "Deleted original file: E:\\cs229_project\\train\\video\\preprocessed_fake\\4282.npy\n",
      "Saved: E:\\cs229_project\\train\\video\\preprocessed_fake\\4283(0).npy\n",
      "Deleted original file: E:\\cs229_project\\train\\video\\preprocessed_fake\\4283.npy\n",
      "Saved: E:\\cs229_project\\train\\video\\preprocessed_fake\\4284(0).npy\n",
      "Deleted original file: E:\\cs229_project\\train\\video\\preprocessed_fake\\4284.npy\n",
      "Saved: E:\\cs229_project\\train\\video\\preprocessed_fake\\4285(0).npy\n",
      "Deleted original file: E:\\cs229_project\\train\\video\\preprocessed_fake\\4285.npy\n"
     ]
    },
    {
     "name": "stderr",
     "output_type": "stream",
     "text": [
      " 83%|████████▎ | 3485/4206 [03:12<00:25, 28.63it/s]"
     ]
    },
    {
     "name": "stdout",
     "output_type": "stream",
     "text": [
      "Saved: E:\\cs229_project\\train\\video\\preprocessed_fake\\4286(0).npy\n",
      "Deleted original file: E:\\cs229_project\\train\\video\\preprocessed_fake\\4286.npy\n",
      "Saved: E:\\cs229_project\\train\\video\\preprocessed_fake\\4287(0).npy\n",
      "Deleted original file: E:\\cs229_project\\train\\video\\preprocessed_fake\\4287.npy\n",
      "Saved: E:\\cs229_project\\train\\video\\preprocessed_fake\\4288(0).npy\n",
      "Deleted original file: E:\\cs229_project\\train\\video\\preprocessed_fake\\4288.npy\n",
      "Saved: E:\\cs229_project\\train\\video\\preprocessed_fake\\4289(0).npy\n",
      "Deleted original file: E:\\cs229_project\\train\\video\\preprocessed_fake\\4289.npy\n",
      "Saved: E:\\cs229_project\\train\\video\\preprocessed_fake\\429(0).npy\n",
      "Deleted original file: E:\\cs229_project\\train\\video\\preprocessed_fake\\429.npy\n",
      "Saved: E:\\cs229_project\\train\\video\\preprocessed_fake\\4290(0).npy\n",
      "Deleted original file: E:\\cs229_project\\train\\video\\preprocessed_fake\\4290.npy\n",
      "Saved: E:\\cs229_project\\train\\video\\preprocessed_fake\\4291(0).npy\n",
      "Deleted original file: E:\\cs229_project\\train\\video\\preprocessed_fake\\4291.npy\n"
     ]
    },
    {
     "name": "stderr",
     "output_type": "stream",
     "text": [
      " 83%|████████▎ | 3489/4206 [03:12<00:24, 29.64it/s]"
     ]
    },
    {
     "name": "stdout",
     "output_type": "stream",
     "text": [
      "Saved: E:\\cs229_project\\train\\video\\preprocessed_fake\\4292(0).npy\n",
      "Deleted original file: E:\\cs229_project\\train\\video\\preprocessed_fake\\4292.npy\n",
      "Saved: E:\\cs229_project\\train\\video\\preprocessed_fake\\4293(0).npy\n",
      "Deleted original file: E:\\cs229_project\\train\\video\\preprocessed_fake\\4293.npy\n",
      "Saved: E:\\cs229_project\\train\\video\\preprocessed_fake\\4294(0).npy\n",
      "Deleted original file: E:\\cs229_project\\train\\video\\preprocessed_fake\\4294.npy\n",
      "Saved: E:\\cs229_project\\train\\video\\preprocessed_fake\\4295(0).npy\n",
      "Deleted original file: E:\\cs229_project\\train\\video\\preprocessed_fake\\4295.npy\n",
      "Saved: E:\\cs229_project\\train\\video\\preprocessed_fake\\4296(0).npy\n",
      "Deleted original file: E:\\cs229_project\\train\\video\\preprocessed_fake\\4296.npy\n",
      "Saved: E:\\cs229_project\\train\\video\\preprocessed_fake\\4297(0).npy\n",
      "Deleted original file: E:\\cs229_project\\train\\video\\preprocessed_fake\\4297.npy\n",
      "Saved: E:\\cs229_project\\train\\video\\preprocessed_fake\\4298(0).npy\n",
      "Deleted original file: E:\\cs229_project\\train\\video\\preprocessed_fake\\4298.npy\n"
     ]
    },
    {
     "name": "stderr",
     "output_type": "stream",
     "text": [
      " 83%|████████▎ | 3493/4206 [03:12<00:23, 30.62it/s]"
     ]
    },
    {
     "name": "stdout",
     "output_type": "stream",
     "text": [
      "Saved: E:\\cs229_project\\train\\video\\preprocessed_fake\\4299(0).npy\n",
      "Deleted original file: E:\\cs229_project\\train\\video\\preprocessed_fake\\4299.npy\n",
      "Saved: E:\\cs229_project\\train\\video\\preprocessed_fake\\43(0).npy\n",
      "Deleted original file: E:\\cs229_project\\train\\video\\preprocessed_fake\\43.npy\n",
      "Saved: E:\\cs229_project\\train\\video\\preprocessed_fake\\430(0).npy\n",
      "Deleted original file: E:\\cs229_project\\train\\video\\preprocessed_fake\\430.npy\n"
     ]
    },
    {
     "name": "stderr",
     "output_type": "stream",
     "text": [
      " 83%|████████▎ | 3497/4206 [03:12<00:40, 17.57it/s]"
     ]
    },
    {
     "name": "stdout",
     "output_type": "stream",
     "text": [
      "Saved: E:\\cs229_project\\train\\video\\preprocessed_fake\\4300(0).npy\n",
      "Deleted original file: E:\\cs229_project\\train\\video\\preprocessed_fake\\4300.npy\n",
      "Saved: E:\\cs229_project\\train\\video\\preprocessed_fake\\4301(0).npy\n",
      "Deleted original file: E:\\cs229_project\\train\\video\\preprocessed_fake\\4301.npy\n",
      "Saved: E:\\cs229_project\\train\\video\\preprocessed_fake\\4302(0).npy\n",
      "Deleted original file: E:\\cs229_project\\train\\video\\preprocessed_fake\\4302.npy\n",
      "Saved: E:\\cs229_project\\train\\video\\preprocessed_fake\\4303(0).npy\n",
      "Deleted original file: E:\\cs229_project\\train\\video\\preprocessed_fake\\4303.npy\n"
     ]
    },
    {
     "name": "stderr",
     "output_type": "stream",
     "text": [
      " 83%|████████▎ | 3503/4206 [03:13<00:35, 19.98it/s]"
     ]
    },
    {
     "name": "stdout",
     "output_type": "stream",
     "text": [
      "Saved: E:\\cs229_project\\train\\video\\preprocessed_fake\\4304(0).npy\n",
      "Saved: E:\\cs229_project\\train\\video\\preprocessed_fake\\4304(1).npy\n",
      "Deleted original file: E:\\cs229_project\\train\\video\\preprocessed_fake\\4304.npy\n",
      "Saved: E:\\cs229_project\\train\\video\\preprocessed_fake\\4305(0).npy\n",
      "Saved: E:\\cs229_project\\train\\video\\preprocessed_fake\\4305(1).npy\n",
      "Deleted original file: E:\\cs229_project\\train\\video\\preprocessed_fake\\4305.npy\n",
      "Saved: E:\\cs229_project\\train\\video\\preprocessed_fake\\4306(0).npy\n",
      "Deleted original file: E:\\cs229_project\\train\\video\\preprocessed_fake\\4306.npy\n",
      "Saved: E:\\cs229_project\\train\\video\\preprocessed_fake\\4307(0).npy\n",
      "Deleted original file: E:\\cs229_project\\train\\video\\preprocessed_fake\\4307.npy\n",
      "Saved: E:\\cs229_project\\train\\video\\preprocessed_fake\\4308(0).npy\n",
      "Deleted original file: E:\\cs229_project\\train\\video\\preprocessed_fake\\4308.npy\n",
      "Saved: E:\\cs229_project\\train\\video\\preprocessed_fake\\4309(0).npy\n",
      "Deleted original file: E:\\cs229_project\\train\\video\\preprocessed_fake\\4309.npy\n"
     ]
    },
    {
     "name": "stderr",
     "output_type": "stream",
     "text": [
      " 83%|████████▎ | 3510/4206 [03:13<00:28, 24.04it/s]"
     ]
    },
    {
     "name": "stdout",
     "output_type": "stream",
     "text": [
      "Saved: E:\\cs229_project\\train\\video\\preprocessed_fake\\431(0).npy\n",
      "Saved: E:\\cs229_project\\train\\video\\preprocessed_fake\\431(1).npy\n",
      "Deleted original file: E:\\cs229_project\\train\\video\\preprocessed_fake\\431.npy\n",
      "Saved: E:\\cs229_project\\train\\video\\preprocessed_fake\\4310(0).npy\n",
      "Deleted original file: E:\\cs229_project\\train\\video\\preprocessed_fake\\4310.npy\n",
      "Saved: E:\\cs229_project\\train\\video\\preprocessed_fake\\4311(0).npy\n",
      "Deleted original file: E:\\cs229_project\\train\\video\\preprocessed_fake\\4311.npy\n",
      "Saved: E:\\cs229_project\\train\\video\\preprocessed_fake\\4312(0).npy\n",
      "Deleted original file: E:\\cs229_project\\train\\video\\preprocessed_fake\\4312.npy\n",
      "Saved: E:\\cs229_project\\train\\video\\preprocessed_fake\\4313(0).npy\n",
      "Deleted original file: E:\\cs229_project\\train\\video\\preprocessed_fake\\4313.npy\n",
      "Saved: E:\\cs229_project\\train\\video\\preprocessed_fake\\4314(0).npy\n",
      "Saved: E:\\cs229_project\\train\\video\\preprocessed_fake\\4314(1).npy\n"
     ]
    },
    {
     "name": "stderr",
     "output_type": "stream",
     "text": [
      " 84%|████████▎ | 3513/4206 [03:13<00:31, 21.81it/s]"
     ]
    },
    {
     "name": "stdout",
     "output_type": "stream",
     "text": [
      "Saved: E:\\cs229_project\\train\\video\\preprocessed_fake\\4314(2).npy\n",
      "Deleted original file: E:\\cs229_project\\train\\video\\preprocessed_fake\\4314.npy\n",
      "Saved: E:\\cs229_project\\train\\video\\preprocessed_fake\\4315(0).npy\n",
      "Deleted original file: E:\\cs229_project\\train\\video\\preprocessed_fake\\4315.npy\n",
      "Saved: E:\\cs229_project\\train\\video\\preprocessed_fake\\4316(0).npy\n",
      "Saved: E:\\cs229_project\\train\\video\\preprocessed_fake\\4316(1).npy\n",
      "Deleted original file: E:\\cs229_project\\train\\video\\preprocessed_fake\\4316.npy\n",
      "Saved: E:\\cs229_project\\train\\video\\preprocessed_fake\\4317(0).npy\n",
      "Deleted original file: E:\\cs229_project\\train\\video\\preprocessed_fake\\4317.npy\n",
      "Saved: E:\\cs229_project\\train\\video\\preprocessed_fake\\4318(0).npy\n",
      "Deleted original file: E:\\cs229_project\\train\\video\\preprocessed_fake\\4318.npy\n",
      "Saved: E:\\cs229_project\\train\\video\\preprocessed_fake\\4319(0).npy\n",
      "Deleted original file: E:\\cs229_project\\train\\video\\preprocessed_fake\\4319.npy\n"
     ]
    },
    {
     "name": "stderr",
     "output_type": "stream",
     "text": [
      " 84%|████████▎ | 3521/4206 [03:13<00:27, 25.36it/s]"
     ]
    },
    {
     "name": "stdout",
     "output_type": "stream",
     "text": [
      "Saved: E:\\cs229_project\\train\\video\\preprocessed_fake\\432(0).npy\n",
      "Deleted original file: E:\\cs229_project\\train\\video\\preprocessed_fake\\432.npy\n",
      "Saved: E:\\cs229_project\\train\\video\\preprocessed_fake\\4320(0).npy\n",
      "Deleted original file: E:\\cs229_project\\train\\video\\preprocessed_fake\\4320.npy\n",
      "Saved: E:\\cs229_project\\train\\video\\preprocessed_fake\\4321(0).npy\n",
      "Deleted original file: E:\\cs229_project\\train\\video\\preprocessed_fake\\4321.npy\n",
      "Saved: E:\\cs229_project\\train\\video\\preprocessed_fake\\4322(0).npy\n",
      "Deleted original file: E:\\cs229_project\\train\\video\\preprocessed_fake\\4322.npy\n",
      "Saved: E:\\cs229_project\\train\\video\\preprocessed_fake\\4323(0).npy\n",
      "Saved: E:\\cs229_project\\train\\video\\preprocessed_fake\\4323(1).npy\n",
      "Deleted original file: E:\\cs229_project\\train\\video\\preprocessed_fake\\4323.npy\n",
      "Saved: E:\\cs229_project\\train\\video\\preprocessed_fake\\4324(0).npy\n",
      "Deleted original file: E:\\cs229_project\\train\\video\\preprocessed_fake\\4324.npy\n",
      "Saved: E:\\cs229_project\\train\\video\\preprocessed_fake\\4325(0).npy\n",
      "Deleted original file: E:\\cs229_project\\train\\video\\preprocessed_fake\\4325.npy\n"
     ]
    },
    {
     "name": "stderr",
     "output_type": "stream",
     "text": [
      " 84%|████████▍ | 3527/4206 [03:14<00:41, 16.35it/s]"
     ]
    },
    {
     "name": "stdout",
     "output_type": "stream",
     "text": [
      "Saved: E:\\cs229_project\\train\\video\\preprocessed_fake\\4326(0).npy\n",
      "Deleted original file: E:\\cs229_project\\train\\video\\preprocessed_fake\\4326.npy\n",
      "Saved: E:\\cs229_project\\train\\video\\preprocessed_fake\\4327(0).npy\n",
      "Deleted original file: E:\\cs229_project\\train\\video\\preprocessed_fake\\4327.npy\n",
      "Saved: E:\\cs229_project\\train\\video\\preprocessed_fake\\4328(0).npy\n",
      "Saved: E:\\cs229_project\\train\\video\\preprocessed_fake\\4328(1).npy\n",
      "Deleted original file: E:\\cs229_project\\train\\video\\preprocessed_fake\\4328.npy\n",
      "Saved: E:\\cs229_project\\train\\video\\preprocessed_fake\\4329(0).npy\n",
      "Deleted original file: E:\\cs229_project\\train\\video\\preprocessed_fake\\4329.npy\n",
      "Saved: E:\\cs229_project\\train\\video\\preprocessed_fake\\433(0).npy\n",
      "Saved: E:\\cs229_project\\train\\video\\preprocessed_fake\\433(1).npy\n",
      "Deleted original file: E:\\cs229_project\\train\\video\\preprocessed_fake\\433.npy\n"
     ]
    },
    {
     "name": "stderr",
     "output_type": "stream",
     "text": [
      " 84%|████████▍ | 3534/4206 [03:14<00:32, 20.67it/s]"
     ]
    },
    {
     "name": "stdout",
     "output_type": "stream",
     "text": [
      "Saved: E:\\cs229_project\\train\\video\\preprocessed_fake\\4330(0).npy\n",
      "Deleted original file: E:\\cs229_project\\train\\video\\preprocessed_fake\\4330.npy\n",
      "Saved: E:\\cs229_project\\train\\video\\preprocessed_fake\\4331(0).npy\n",
      "Saved: E:\\cs229_project\\train\\video\\preprocessed_fake\\4331(1).npy\n",
      "Deleted original file: E:\\cs229_project\\train\\video\\preprocessed_fake\\4331.npy\n",
      "Saved: E:\\cs229_project\\train\\video\\preprocessed_fake\\4332(0).npy\n",
      "Deleted original file: E:\\cs229_project\\train\\video\\preprocessed_fake\\4332.npy\n",
      "Saved: E:\\cs229_project\\train\\video\\preprocessed_fake\\4333(0).npy\n",
      "Deleted original file: E:\\cs229_project\\train\\video\\preprocessed_fake\\4333.npy\n",
      "Saved: E:\\cs229_project\\train\\video\\preprocessed_fake\\4334(0).npy\n",
      "Deleted original file: E:\\cs229_project\\train\\video\\preprocessed_fake\\4334.npy\n",
      "Saved: E:\\cs229_project\\train\\video\\preprocessed_fake\\4335(0).npy\n",
      "Deleted original file: E:\\cs229_project\\train\\video\\preprocessed_fake\\4335.npy\n",
      "Saved: E:\\cs229_project\\train\\video\\preprocessed_fake\\4336(0).npy\n",
      "Deleted original file: E:\\cs229_project\\train\\video\\preprocessed_fake\\4336.npy\n"
     ]
    },
    {
     "name": "stderr",
     "output_type": "stream",
     "text": [
      " 84%|████████▍ | 3541/4206 [03:14<00:27, 23.99it/s]"
     ]
    },
    {
     "name": "stdout",
     "output_type": "stream",
     "text": [
      "Saved: E:\\cs229_project\\train\\video\\preprocessed_fake\\4337(0).npy\n",
      "Deleted original file: E:\\cs229_project\\train\\video\\preprocessed_fake\\4337.npy\n",
      "Saved: E:\\cs229_project\\train\\video\\preprocessed_fake\\4338(0).npy\n",
      "Deleted original file: E:\\cs229_project\\train\\video\\preprocessed_fake\\4338.npy\n",
      "Saved: E:\\cs229_project\\train\\video\\preprocessed_fake\\4339(0).npy\n",
      "Deleted original file: E:\\cs229_project\\train\\video\\preprocessed_fake\\4339.npy\n",
      "Saved: E:\\cs229_project\\train\\video\\preprocessed_fake\\434(0).npy\n",
      "Saved: E:\\cs229_project\\train\\video\\preprocessed_fake\\434(1).npy\n",
      "Deleted original file: E:\\cs229_project\\train\\video\\preprocessed_fake\\434.npy\n",
      "Saved: E:\\cs229_project\\train\\video\\preprocessed_fake\\4340(0).npy\n",
      "Deleted original file: E:\\cs229_project\\train\\video\\preprocessed_fake\\4340.npy\n",
      "Saved: E:\\cs229_project\\train\\video\\preprocessed_fake\\4341(0).npy\n",
      "Deleted original file: E:\\cs229_project\\train\\video\\preprocessed_fake\\4341.npy\n"
     ]
    },
    {
     "name": "stderr",
     "output_type": "stream",
     "text": [
      " 84%|████████▍ | 3547/4206 [03:15<00:27, 24.27it/s]"
     ]
    },
    {
     "name": "stdout",
     "output_type": "stream",
     "text": [
      "Saved: E:\\cs229_project\\train\\video\\preprocessed_fake\\4342(0).npy\n",
      "Saved: E:\\cs229_project\\train\\video\\preprocessed_fake\\4342(1).npy\n",
      "Deleted original file: E:\\cs229_project\\train\\video\\preprocessed_fake\\4342.npy\n",
      "Saved: E:\\cs229_project\\train\\video\\preprocessed_fake\\4343(0).npy\n",
      "Deleted original file: E:\\cs229_project\\train\\video\\preprocessed_fake\\4343.npy\n",
      "Saved: E:\\cs229_project\\train\\video\\preprocessed_fake\\4344(0).npy\n",
      "Deleted original file: E:\\cs229_project\\train\\video\\preprocessed_fake\\4344.npy\n",
      "Saved: E:\\cs229_project\\train\\video\\preprocessed_fake\\4345(0).npy\n",
      "Deleted original file: E:\\cs229_project\\train\\video\\preprocessed_fake\\4345.npy\n",
      "Saved: E:\\cs229_project\\train\\video\\preprocessed_fake\\4346(0).npy\n",
      "Saved: E:\\cs229_project\\train\\video\\preprocessed_fake\\4346(1).npy\n",
      "Deleted original file: E:\\cs229_project\\train\\video\\preprocessed_fake\\4346.npy\n",
      "Saved: E:\\cs229_project\\train\\video\\preprocessed_fake\\4347(0).npy\n",
      "Deleted original file: E:\\cs229_project\\train\\video\\preprocessed_fake\\4347.npy\n",
      "Saved: E:\\cs229_project\\train\\video\\preprocessed_fake\\4348(0).npy\n",
      "Deleted original file: E:\\cs229_project\\train\\video\\preprocessed_fake\\4348.npy\n",
      "Saved: E:\\cs229_project\\train\\video\\preprocessed_fake\\4349(0).npy\n",
      "Deleted original file: E:\\cs229_project\\train\\video\\preprocessed_fake\\4349.npy\n"
     ]
    },
    {
     "name": "stderr",
     "output_type": "stream",
     "text": [
      " 84%|████████▍ | 3554/4206 [03:15<00:40, 16.05it/s]"
     ]
    },
    {
     "name": "stdout",
     "output_type": "stream",
     "text": [
      "Saved: E:\\cs229_project\\train\\video\\preprocessed_fake\\435(0).npy\n",
      "Saved: E:\\cs229_project\\train\\video\\preprocessed_fake\\435(1).npy\n",
      "Saved: E:\\cs229_project\\train\\video\\preprocessed_fake\\435(2).npy\n",
      "Saved: E:\\cs229_project\\train\\video\\preprocessed_fake\\435(3).npy\n",
      "Saved: E:\\cs229_project\\train\\video\\preprocessed_fake\\435(4).npy\n",
      "Deleted original file: E:\\cs229_project\\train\\video\\preprocessed_fake\\435.npy\n",
      "Saved: E:\\cs229_project\\train\\video\\preprocessed_fake\\4350(0).npy\n",
      "Deleted original file: E:\\cs229_project\\train\\video\\preprocessed_fake\\4350.npy\n",
      "Saved: E:\\cs229_project\\train\\video\\preprocessed_fake\\4351(0).npy\n",
      "Deleted original file: E:\\cs229_project\\train\\video\\preprocessed_fake\\4351.npy\n",
      "Saved: E:\\cs229_project\\train\\video\\preprocessed_fake\\4352(0).npy\n",
      "Deleted original file: E:\\cs229_project\\train\\video\\preprocessed_fake\\4352.npy\n",
      "Saved: E:\\cs229_project\\train\\video\\preprocessed_fake\\4353(0).npy\n",
      "Deleted original file: E:\\cs229_project\\train\\video\\preprocessed_fake\\4353.npy\n"
     ]
    },
    {
     "name": "stderr",
     "output_type": "stream",
     "text": [
      " 85%|████████▍ | 3557/4206 [03:15<00:38, 16.94it/s]"
     ]
    },
    {
     "name": "stdout",
     "output_type": "stream",
     "text": [
      "Saved: E:\\cs229_project\\train\\video\\preprocessed_fake\\4354(0).npy\n",
      "Saved: E:\\cs229_project\\train\\video\\preprocessed_fake\\4354(1).npy\n",
      "Deleted original file: E:\\cs229_project\\train\\video\\preprocessed_fake\\4354.npy\n",
      "Saved: E:\\cs229_project\\train\\video\\preprocessed_fake\\4355(0).npy\n",
      "Deleted original file: E:\\cs229_project\\train\\video\\preprocessed_fake\\4355.npy\n",
      "Saved: E:\\cs229_project\\train\\video\\preprocessed_fake\\4356(0).npy\n",
      "Deleted original file: E:\\cs229_project\\train\\video\\preprocessed_fake\\4356.npy\n",
      "Saved: E:\\cs229_project\\train\\video\\preprocessed_fake\\4357(0).npy\n",
      "Saved: E:\\cs229_project\\train\\video\\preprocessed_fake\\4357(1).npy\n",
      "Deleted original file: E:\\cs229_project\\train\\video\\preprocessed_fake\\4357.npy\n",
      "Saved: E:\\cs229_project\\train\\video\\preprocessed_fake\\4358(0).npy\n",
      "Deleted original file: E:\\cs229_project\\train\\video\\preprocessed_fake\\4358.npy\n"
     ]
    },
    {
     "name": "stderr",
     "output_type": "stream",
     "text": [
      " 85%|████████▍ | 3564/4206 [03:16<00:29, 21.95it/s]"
     ]
    },
    {
     "name": "stdout",
     "output_type": "stream",
     "text": [
      "Saved: E:\\cs229_project\\train\\video\\preprocessed_fake\\4359(0).npy\n",
      "Deleted original file: E:\\cs229_project\\train\\video\\preprocessed_fake\\4359.npy\n",
      "Saved: E:\\cs229_project\\train\\video\\preprocessed_fake\\436(0).npy\n",
      "Deleted original file: E:\\cs229_project\\train\\video\\preprocessed_fake\\436.npy\n",
      "Saved: E:\\cs229_project\\train\\video\\preprocessed_fake\\4360(0).npy\n",
      "Deleted original file: E:\\cs229_project\\train\\video\\preprocessed_fake\\4360.npy\n",
      "Saved: E:\\cs229_project\\train\\video\\preprocessed_fake\\4361(0).npy\n",
      "Deleted original file: E:\\cs229_project\\train\\video\\preprocessed_fake\\4361.npy\n",
      "Saved: E:\\cs229_project\\train\\video\\preprocessed_fake\\4362(0).npy\n",
      "Deleted original file: E:\\cs229_project\\train\\video\\preprocessed_fake\\4362.npy\n",
      "Saved: E:\\cs229_project\\train\\video\\preprocessed_fake\\4363(0).npy\n",
      "Deleted original file: E:\\cs229_project\\train\\video\\preprocessed_fake\\4363.npy\n",
      "Saved: E:\\cs229_project\\train\\video\\preprocessed_fake\\4364(0).npy\n",
      "Deleted original file: E:\\cs229_project\\train\\video\\preprocessed_fake\\4364.npy\n",
      "Saved: E:\\cs229_project\\train\\video\\preprocessed_fake\\4365(0).npy\n",
      "Deleted original file: E:\\cs229_project\\train\\video\\preprocessed_fake\\4365.npy\n"
     ]
    },
    {
     "name": "stderr",
     "output_type": "stream",
     "text": [
      " 85%|████████▍ | 3571/4206 [03:16<00:25, 24.81it/s]"
     ]
    },
    {
     "name": "stdout",
     "output_type": "stream",
     "text": [
      "Saved: E:\\cs229_project\\train\\video\\preprocessed_fake\\4366(0).npy\n",
      "Deleted original file: E:\\cs229_project\\train\\video\\preprocessed_fake\\4366.npy\n",
      "Saved: E:\\cs229_project\\train\\video\\preprocessed_fake\\4367(0).npy\n",
      "Saved: E:\\cs229_project\\train\\video\\preprocessed_fake\\4367(1).npy\n",
      "Deleted original file: E:\\cs229_project\\train\\video\\preprocessed_fake\\4367.npy\n",
      "Saved: E:\\cs229_project\\train\\video\\preprocessed_fake\\4368(0).npy\n",
      "Deleted original file: E:\\cs229_project\\train\\video\\preprocessed_fake\\4368.npy\n",
      "Saved: E:\\cs229_project\\train\\video\\preprocessed_fake\\4369(0).npy\n",
      "Deleted original file: E:\\cs229_project\\train\\video\\preprocessed_fake\\4369.npy\n",
      "Saved: E:\\cs229_project\\train\\video\\preprocessed_fake\\437(0).npy\n",
      "Saved: E:\\cs229_project\\train\\video\\preprocessed_fake\\437(1).npy\n",
      "Deleted original file: E:\\cs229_project\\train\\video\\preprocessed_fake\\437.npy\n"
     ]
    },
    {
     "name": "stderr",
     "output_type": "stream",
     "text": [
      " 85%|████████▍ | 3574/4206 [03:16<00:25, 24.86it/s]"
     ]
    },
    {
     "name": "stdout",
     "output_type": "stream",
     "text": [
      "Saved: E:\\cs229_project\\train\\video\\preprocessed_fake\\4370(0).npy\n",
      "Deleted original file: E:\\cs229_project\\train\\video\\preprocessed_fake\\4370.npy\n",
      "Saved: E:\\cs229_project\\train\\video\\preprocessed_fake\\4371(0).npy\n",
      "Deleted original file: E:\\cs229_project\\train\\video\\preprocessed_fake\\4371.npy\n",
      "Saved: E:\\cs229_project\\train\\video\\preprocessed_fake\\4372(0).npy\n",
      "Deleted original file: E:\\cs229_project\\train\\video\\preprocessed_fake\\4372.npy\n"
     ]
    },
    {
     "name": "stderr",
     "output_type": "stream",
     "text": [
      " 85%|████████▌ | 3577/4206 [03:17<00:44, 14.11it/s]"
     ]
    },
    {
     "name": "stdout",
     "output_type": "stream",
     "text": [
      "Saved: E:\\cs229_project\\train\\video\\preprocessed_fake\\4373(0).npy\n",
      "Deleted original file: E:\\cs229_project\\train\\video\\preprocessed_fake\\4373.npy\n",
      "Saved: E:\\cs229_project\\train\\video\\preprocessed_fake\\4374(0).npy\n",
      "Deleted original file: E:\\cs229_project\\train\\video\\preprocessed_fake\\4374.npy\n",
      "Saved: E:\\cs229_project\\train\\video\\preprocessed_fake\\4375(0).npy\n",
      "Deleted original file: E:\\cs229_project\\train\\video\\preprocessed_fake\\4375.npy\n",
      "Saved: E:\\cs229_project\\train\\video\\preprocessed_fake\\4376(0).npy\n",
      "Deleted original file: E:\\cs229_project\\train\\video\\preprocessed_fake\\4376.npy\n"
     ]
    },
    {
     "name": "stderr",
     "output_type": "stream",
     "text": [
      " 85%|████████▌ | 3584/4206 [03:17<00:31, 19.99it/s]"
     ]
    },
    {
     "name": "stdout",
     "output_type": "stream",
     "text": [
      "Saved: E:\\cs229_project\\train\\video\\preprocessed_fake\\4377(0).npy\n",
      "Deleted original file: E:\\cs229_project\\train\\video\\preprocessed_fake\\4377.npy\n",
      "Saved: E:\\cs229_project\\train\\video\\preprocessed_fake\\4378(0).npy\n",
      "Deleted original file: E:\\cs229_project\\train\\video\\preprocessed_fake\\4378.npy\n",
      "Saved: E:\\cs229_project\\train\\video\\preprocessed_fake\\4379(0).npy\n",
      "Deleted original file: E:\\cs229_project\\train\\video\\preprocessed_fake\\4379.npy\n",
      "Saved: E:\\cs229_project\\train\\video\\preprocessed_fake\\438(0).npy\n",
      "Deleted original file: E:\\cs229_project\\train\\video\\preprocessed_fake\\438.npy\n",
      "Saved: E:\\cs229_project\\train\\video\\preprocessed_fake\\4380(0).npy\n",
      "Deleted original file: E:\\cs229_project\\train\\video\\preprocessed_fake\\4380.npy\n",
      "Saved: E:\\cs229_project\\train\\video\\preprocessed_fake\\439(0).npy\n",
      "Saved: E:\\cs229_project\\train\\video\\preprocessed_fake\\439(1).npy\n"
     ]
    },
    {
     "name": "stderr",
     "output_type": "stream",
     "text": [
      " 85%|████████▌ | 3587/4206 [03:17<00:31, 19.84it/s]"
     ]
    },
    {
     "name": "stdout",
     "output_type": "stream",
     "text": [
      "Saved: E:\\cs229_project\\train\\video\\preprocessed_fake\\439(2).npy\n",
      "Deleted original file: E:\\cs229_project\\train\\video\\preprocessed_fake\\439.npy\n",
      "Saved: E:\\cs229_project\\train\\video\\preprocessed_fake\\44(0).npy\n",
      "Deleted original file: E:\\cs229_project\\train\\video\\preprocessed_fake\\44.npy\n",
      "Saved: E:\\cs229_project\\train\\video\\preprocessed_fake\\440(0).npy\n",
      "Deleted original file: E:\\cs229_project\\train\\video\\preprocessed_fake\\440.npy\n",
      "Saved: E:\\cs229_project\\train\\video\\preprocessed_fake\\441(0).npy\n",
      "Saved: E:\\cs229_project\\train\\video\\preprocessed_fake\\441(1).npy\n",
      "Deleted original file: E:\\cs229_project\\train\\video\\preprocessed_fake\\441.npy\n",
      "Saved: E:\\cs229_project\\train\\video\\preprocessed_fake\\442(0).npy\n",
      "Deleted original file: E:\\cs229_project\\train\\video\\preprocessed_fake\\442.npy\n"
     ]
    },
    {
     "name": "stderr",
     "output_type": "stream",
     "text": [
      " 85%|████████▌ | 3590/4206 [03:17<00:42, 14.50it/s]"
     ]
    },
    {
     "name": "stdout",
     "output_type": "stream",
     "text": [
      "Saved: E:\\cs229_project\\train\\video\\preprocessed_fake\\443(0).npy\n",
      "Saved: E:\\cs229_project\\train\\video\\preprocessed_fake\\443(1).npy\n",
      "Saved: E:\\cs229_project\\train\\video\\preprocessed_fake\\443(2).npy\n",
      "Saved: E:\\cs229_project\\train\\video\\preprocessed_fake\\443(3).npy\n",
      "Saved: E:\\cs229_project\\train\\video\\preprocessed_fake\\443(4).npy\n",
      "Saved: E:\\cs229_project\\train\\video\\preprocessed_fake\\443(5).npy\n",
      "Saved: E:\\cs229_project\\train\\video\\preprocessed_fake\\443(6).npy\n",
      "Saved: E:\\cs229_project\\train\\video\\preprocessed_fake\\443(7).npy\n",
      "Saved: E:\\cs229_project\\train\\video\\preprocessed_fake\\443(8).npy\n",
      "Deleted original file: E:\\cs229_project\\train\\video\\preprocessed_fake\\443.npy\n",
      "Saved: E:\\cs229_project\\train\\video\\preprocessed_fake\\444(0).npy\n",
      "Saved: E:\\cs229_project\\train\\video\\preprocessed_fake\\444(1).npy\n",
      "Saved: E:\\cs229_project\\train\\video\\preprocessed_fake\\444(2).npy\n",
      "Saved: E:\\cs229_project\\train\\video\\preprocessed_fake\\444(3).npy\n",
      "Saved: E:\\cs229_project\\train\\video\\preprocessed_fake\\444(4).npy\n",
      "Saved: E:\\cs229_project\\train\\video\\preprocessed_fake\\444(5).npy\n",
      "Deleted original file: E:\\cs229_project\\train\\video\\preprocessed_fake\\444.npy\n",
      "Saved: E:\\cs229_project\\train\\video\\preprocessed_fake\\445(0).npy\n",
      "Saved: E:\\cs229_project\\train\\video\\preprocessed_fake\\445(1).npy\n"
     ]
    },
    {
     "name": "stderr",
     "output_type": "stream",
     "text": [
      " 85%|████████▌ | 3592/4206 [03:18<01:15,  8.14it/s]"
     ]
    },
    {
     "name": "stdout",
     "output_type": "stream",
     "text": [
      "Saved: E:\\cs229_project\\train\\video\\preprocessed_fake\\445(2).npy\n",
      "Deleted original file: E:\\cs229_project\\train\\video\\preprocessed_fake\\445.npy\n",
      "Saved: E:\\cs229_project\\train\\video\\preprocessed_fake\\446(0).npy\n",
      "Saved: E:\\cs229_project\\train\\video\\preprocessed_fake\\446(1).npy\n",
      "Saved: E:\\cs229_project\\train\\video\\preprocessed_fake\\446(2).npy\n",
      "Saved: E:\\cs229_project\\train\\video\\preprocessed_fake\\446(3).npy\n",
      "Deleted original file: E:\\cs229_project\\train\\video\\preprocessed_fake\\446.npy\n"
     ]
    },
    {
     "name": "stderr",
     "output_type": "stream",
     "text": [
      " 85%|████████▌ | 3594/4206 [03:18<01:33,  6.55it/s]"
     ]
    },
    {
     "name": "stdout",
     "output_type": "stream",
     "text": [
      "Saved: E:\\cs229_project\\train\\video\\preprocessed_fake\\447(0).npy\n",
      "Saved: E:\\cs229_project\\train\\video\\preprocessed_fake\\447(1).npy\n",
      "Saved: E:\\cs229_project\\train\\video\\preprocessed_fake\\447(2).npy\n",
      "Saved: E:\\cs229_project\\train\\video\\preprocessed_fake\\447(3).npy\n",
      "Saved: E:\\cs229_project\\train\\video\\preprocessed_fake\\447(4).npy\n",
      "Saved: E:\\cs229_project\\train\\video\\preprocessed_fake\\447(5).npy\n",
      "Saved: E:\\cs229_project\\train\\video\\preprocessed_fake\\447(6).npy\n",
      "Saved: E:\\cs229_project\\train\\video\\preprocessed_fake\\447(7).npy\n",
      "Saved: E:\\cs229_project\\train\\video\\preprocessed_fake\\447(8).npy\n",
      "Saved: E:\\cs229_project\\train\\video\\preprocessed_fake\\447(9).npy\n",
      "Saved: E:\\cs229_project\\train\\video\\preprocessed_fake\\447(10).npy\n",
      "Saved: E:\\cs229_project\\train\\video\\preprocessed_fake\\447(11).npy\n",
      "Deleted original file: E:\\cs229_project\\train\\video\\preprocessed_fake\\447.npy\n",
      "Saved: E:\\cs229_project\\train\\video\\preprocessed_fake\\448(0).npy\n",
      "Saved: E:\\cs229_project\\train\\video\\preprocessed_fake\\448(1).npy\n",
      "Saved: E:\\cs229_project\\train\\video\\preprocessed_fake\\448(2).npy\n",
      "Saved: E:\\cs229_project\\train\\video\\preprocessed_fake\\448(3).npy\n",
      "Saved: E:\\cs229_project\\train\\video\\preprocessed_fake\\448(4).npy\n",
      "Saved: E:\\cs229_project\\train\\video\\preprocessed_fake\\448(5).npy\n",
      "Saved: E:\\cs229_project\\train\\video\\preprocessed_fake\\448(6).npy\n",
      "Saved: E:\\cs229_project\\train\\video\\preprocessed_fake\\448(7).npy\n",
      "Saved: E:\\cs229_project\\train\\video\\preprocessed_fake\\448(8).npy\n",
      "Saved: E:\\cs229_project\\train\\video\\preprocessed_fake\\448(9).npy\n",
      "Deleted original file: E:\\cs229_project\\train\\video\\preprocessed_fake\\448.npy\n",
      "Saved: E:\\cs229_project\\train\\video\\preprocessed_fake\\449(0).npy\n"
     ]
    },
    {
     "name": "stderr",
     "output_type": "stream",
     "text": [
      " 85%|████████▌ | 3596/4206 [03:19<01:38,  6.17it/s]"
     ]
    },
    {
     "name": "stdout",
     "output_type": "stream",
     "text": [
      "Saved: E:\\cs229_project\\train\\video\\preprocessed_fake\\449(1).npy\n",
      "Deleted original file: E:\\cs229_project\\train\\video\\preprocessed_fake\\449.npy\n",
      "Saved: E:\\cs229_project\\train\\video\\preprocessed_fake\\45(0).npy\n",
      "Saved: E:\\cs229_project\\train\\video\\preprocessed_fake\\45(1).npy\n",
      "Deleted original file: E:\\cs229_project\\train\\video\\preprocessed_fake\\45.npy\n"
     ]
    },
    {
     "name": "stderr",
     "output_type": "stream",
     "text": [
      " 86%|████████▌ | 3599/4206 [03:19<01:32,  6.56it/s]"
     ]
    },
    {
     "name": "stdout",
     "output_type": "stream",
     "text": [
      "Saved: E:\\cs229_project\\train\\video\\preprocessed_fake\\450(0).npy\n",
      "Deleted original file: E:\\cs229_project\\train\\video\\preprocessed_fake\\450.npy\n",
      "Saved: E:\\cs229_project\\train\\video\\preprocessed_fake\\451(0).npy\n",
      "Deleted original file: E:\\cs229_project\\train\\video\\preprocessed_fake\\451.npy\n",
      "Saved: E:\\cs229_project\\train\\video\\preprocessed_fake\\452(0).npy\n",
      "Deleted original file: E:\\cs229_project\\train\\video\\preprocessed_fake\\452.npy\n",
      "Saved: E:\\cs229_project\\train\\video\\preprocessed_fake\\453(0).npy\n",
      "Deleted original file: E:\\cs229_project\\train\\video\\preprocessed_fake\\453.npy\n",
      "Saved: E:\\cs229_project\\train\\video\\preprocessed_fake\\454(0).npy\n",
      "Deleted original file: E:\\cs229_project\\train\\video\\preprocessed_fake\\454.npy\n"
     ]
    },
    {
     "name": "stderr",
     "output_type": "stream",
     "text": [
      " 86%|████████▌ | 3607/4206 [03:19<00:41, 14.50it/s]"
     ]
    },
    {
     "name": "stdout",
     "output_type": "stream",
     "text": [
      "Saved: E:\\cs229_project\\train\\video\\preprocessed_fake\\455(0).npy\n",
      "Deleted original file: E:\\cs229_project\\train\\video\\preprocessed_fake\\455.npy\n",
      "Saved: E:\\cs229_project\\train\\video\\preprocessed_fake\\456(0).npy\n",
      "Deleted original file: E:\\cs229_project\\train\\video\\preprocessed_fake\\456.npy\n",
      "Saved: E:\\cs229_project\\train\\video\\preprocessed_fake\\457(0).npy\n",
      "Deleted original file: E:\\cs229_project\\train\\video\\preprocessed_fake\\457.npy\n",
      "Saved: E:\\cs229_project\\train\\video\\preprocessed_fake\\458(0).npy\n",
      "Deleted original file: E:\\cs229_project\\train\\video\\preprocessed_fake\\458.npy\n",
      "Saved: E:\\cs229_project\\train\\video\\preprocessed_fake\\459(0).npy\n",
      "Deleted original file: E:\\cs229_project\\train\\video\\preprocessed_fake\\459.npy\n",
      "Saved: E:\\cs229_project\\train\\video\\preprocessed_fake\\46(0).npy\n",
      "Saved: E:\\cs229_project\\train\\video\\preprocessed_fake\\46(1).npy\n"
     ]
    },
    {
     "name": "stderr",
     "output_type": "stream",
     "text": [
      " 86%|████████▌ | 3614/4206 [03:20<00:30, 19.71it/s]"
     ]
    },
    {
     "name": "stdout",
     "output_type": "stream",
     "text": [
      "Saved: E:\\cs229_project\\train\\video\\preprocessed_fake\\46(2).npy\n",
      "Deleted original file: E:\\cs229_project\\train\\video\\preprocessed_fake\\46.npy\n",
      "Saved: E:\\cs229_project\\train\\video\\preprocessed_fake\\460(0).npy\n",
      "Deleted original file: E:\\cs229_project\\train\\video\\preprocessed_fake\\460.npy\n",
      "Saved: E:\\cs229_project\\train\\video\\preprocessed_fake\\461(0).npy\n",
      "Deleted original file: E:\\cs229_project\\train\\video\\preprocessed_fake\\461.npy\n",
      "Saved: E:\\cs229_project\\train\\video\\preprocessed_fake\\462(0).npy\n",
      "Deleted original file: E:\\cs229_project\\train\\video\\preprocessed_fake\\462.npy\n",
      "Saved: E:\\cs229_project\\train\\video\\preprocessed_fake\\463(0).npy\n",
      "Deleted original file: E:\\cs229_project\\train\\video\\preprocessed_fake\\463.npy\n",
      "Saved: E:\\cs229_project\\train\\video\\preprocessed_fake\\464(0).npy\n",
      "Deleted original file: E:\\cs229_project\\train\\video\\preprocessed_fake\\464.npy\n",
      "Saved: E:\\cs229_project\\train\\video\\preprocessed_fake\\465(0).npy\n",
      "Deleted original file: E:\\cs229_project\\train\\video\\preprocessed_fake\\465.npy\n"
     ]
    },
    {
     "name": "stderr",
     "output_type": "stream",
     "text": [
      " 86%|████████▌ | 3617/4206 [03:20<00:31, 18.70it/s]"
     ]
    },
    {
     "name": "stdout",
     "output_type": "stream",
     "text": [
      "Saved: E:\\cs229_project\\train\\video\\preprocessed_fake\\466(0).npy\n",
      "Deleted original file: E:\\cs229_project\\train\\video\\preprocessed_fake\\466.npy\n",
      "Saved: E:\\cs229_project\\train\\video\\preprocessed_fake\\467(0).npy\n",
      "Saved: E:\\cs229_project\\train\\video\\preprocessed_fake\\467(1).npy\n",
      "Saved: E:\\cs229_project\\train\\video\\preprocessed_fake\\467(2).npy\n",
      "Saved: E:\\cs229_project\\train\\video\\preprocessed_fake\\467(3).npy\n",
      "Deleted original file: E:\\cs229_project\\train\\video\\preprocessed_fake\\467.npy\n",
      "Saved: E:\\cs229_project\\train\\video\\preprocessed_fake\\468(0).npy\n",
      "Deleted original file: E:\\cs229_project\\train\\video\\preprocessed_fake\\468.npy\n",
      "Saved: E:\\cs229_project\\train\\video\\preprocessed_fake\\469(0).npy\n",
      "Deleted original file: E:\\cs229_project\\train\\video\\preprocessed_fake\\469.npy\n"
     ]
    },
    {
     "name": "stderr",
     "output_type": "stream",
     "text": [
      " 86%|████████▌ | 3624/4206 [03:20<00:26, 22.38it/s]"
     ]
    },
    {
     "name": "stdout",
     "output_type": "stream",
     "text": [
      "Saved: E:\\cs229_project\\train\\video\\preprocessed_fake\\47(0).npy\n",
      "Saved: E:\\cs229_project\\train\\video\\preprocessed_fake\\47(1).npy\n",
      "Deleted original file: E:\\cs229_project\\train\\video\\preprocessed_fake\\47.npy\n",
      "Saved: E:\\cs229_project\\train\\video\\preprocessed_fake\\470(0).npy\n",
      "Deleted original file: E:\\cs229_project\\train\\video\\preprocessed_fake\\470.npy\n",
      "Saved: E:\\cs229_project\\train\\video\\preprocessed_fake\\471(0).npy\n",
      "Deleted original file: E:\\cs229_project\\train\\video\\preprocessed_fake\\471.npy\n",
      "Saved: E:\\cs229_project\\train\\video\\preprocessed_fake\\472(0).npy\n",
      "Deleted original file: E:\\cs229_project\\train\\video\\preprocessed_fake\\472.npy\n",
      "Saved: E:\\cs229_project\\train\\video\\preprocessed_fake\\473(0).npy\n",
      "Deleted original file: E:\\cs229_project\\train\\video\\preprocessed_fake\\473.npy\n",
      "Saved: E:\\cs229_project\\train\\video\\preprocessed_fake\\474(0).npy\n",
      "Saved: E:\\cs229_project\\train\\video\\preprocessed_fake\\474(1).npy\n",
      "Deleted original file: E:\\cs229_project\\train\\video\\preprocessed_fake\\474.npy\n",
      "Saved: E:\\cs229_project\\train\\video\\preprocessed_fake\\475(0).npy\n",
      "Deleted original file: E:\\cs229_project\\train\\video\\preprocessed_fake\\475.npy\n",
      "Saved: E:\\cs229_project\\train\\video\\preprocessed_fake\\476(0).npy\n",
      "Deleted original file: E:\\cs229_project\\train\\video\\preprocessed_fake\\476.npy\n"
     ]
    },
    {
     "name": "stderr",
     "output_type": "stream",
     "text": [
      " 86%|████████▋ | 3629/4206 [03:21<00:37, 15.24it/s]"
     ]
    },
    {
     "name": "stdout",
     "output_type": "stream",
     "text": [
      "Saved: E:\\cs229_project\\train\\video\\preprocessed_fake\\477(0).npy\n",
      "Deleted original file: E:\\cs229_project\\train\\video\\preprocessed_fake\\477.npy\n",
      "Saved: E:\\cs229_project\\train\\video\\preprocessed_fake\\478(0).npy\n",
      "Saved: E:\\cs229_project\\train\\video\\preprocessed_fake\\478(1).npy\n",
      "Deleted original file: E:\\cs229_project\\train\\video\\preprocessed_fake\\478.npy\n",
      "Saved: E:\\cs229_project\\train\\video\\preprocessed_fake\\479(0).npy\n",
      "Deleted original file: E:\\cs229_project\\train\\video\\preprocessed_fake\\479.npy\n",
      "Saved: E:\\cs229_project\\train\\video\\preprocessed_fake\\48(0).npy\n",
      "Deleted original file: E:\\cs229_project\\train\\video\\preprocessed_fake\\48.npy\n",
      "Saved: E:\\cs229_project\\train\\video\\preprocessed_fake\\480(0).npy\n"
     ]
    },
    {
     "name": "stderr",
     "output_type": "stream",
     "text": [
      " 86%|████████▋ | 3633/4206 [03:21<00:29, 19.21it/s]"
     ]
    },
    {
     "name": "stdout",
     "output_type": "stream",
     "text": [
      "Deleted original file: E:\\cs229_project\\train\\video\\preprocessed_fake\\480.npy\n",
      "Saved: E:\\cs229_project\\train\\video\\preprocessed_fake\\481(0).npy\n",
      "Deleted original file: E:\\cs229_project\\train\\video\\preprocessed_fake\\481.npy\n",
      "Saved: E:\\cs229_project\\train\\video\\preprocessed_fake\\482(0).npy\n",
      "Deleted original file: E:\\cs229_project\\train\\video\\preprocessed_fake\\482.npy\n",
      "Saved: E:\\cs229_project\\train\\video\\preprocessed_fake\\483(0).npy\n",
      "Deleted original file: E:\\cs229_project\\train\\video\\preprocessed_fake\\483.npy\n",
      "Saved: E:\\cs229_project\\train\\video\\preprocessed_fake\\484(0).npy\n",
      "Saved: E:\\cs229_project\\train\\video\\preprocessed_fake\\484(1).npy\n",
      "Saved: E:\\cs229_project\\train\\video\\preprocessed_fake\\484(2).npy\n",
      "Saved: E:\\cs229_project\\train\\video\\preprocessed_fake\\484(3).npy\n"
     ]
    },
    {
     "name": "stderr",
     "output_type": "stream",
     "text": [
      " 86%|████████▋ | 3636/4206 [03:21<00:30, 18.40it/s]"
     ]
    },
    {
     "name": "stdout",
     "output_type": "stream",
     "text": [
      "Deleted original file: E:\\cs229_project\\train\\video\\preprocessed_fake\\484.npy\n",
      "Saved: E:\\cs229_project\\train\\video\\preprocessed_fake\\485(0).npy\n",
      "Deleted original file: E:\\cs229_project\\train\\video\\preprocessed_fake\\485.npy\n",
      "Saved: E:\\cs229_project\\train\\video\\preprocessed_fake\\486(0).npy\n",
      "Saved: E:\\cs229_project\\train\\video\\preprocessed_fake\\486(1).npy\n",
      "Saved: E:\\cs229_project\\train\\video\\preprocessed_fake\\486(2).npy\n",
      "Saved: E:\\cs229_project\\train\\video\\preprocessed_fake\\486(3).npy\n",
      "Deleted original file: E:\\cs229_project\\train\\video\\preprocessed_fake\\486.npy\n",
      "Saved: E:\\cs229_project\\train\\video\\preprocessed_fake\\487(0).npy\n",
      "Deleted original file: E:\\cs229_project\\train\\video\\preprocessed_fake\\487.npy\n"
     ]
    },
    {
     "name": "stderr",
     "output_type": "stream",
     "text": [
      " 87%|████████▋ | 3642/4206 [03:21<00:29, 19.14it/s]"
     ]
    },
    {
     "name": "stdout",
     "output_type": "stream",
     "text": [
      "Saved: E:\\cs229_project\\train\\video\\preprocessed_fake\\488(0).npy\n",
      "Deleted original file: E:\\cs229_project\\train\\video\\preprocessed_fake\\488.npy\n",
      "Saved: E:\\cs229_project\\train\\video\\preprocessed_fake\\489(0).npy\n",
      "Deleted original file: E:\\cs229_project\\train\\video\\preprocessed_fake\\489.npy\n",
      "Saved: E:\\cs229_project\\train\\video\\preprocessed_fake\\49(0).npy\n",
      "Saved: E:\\cs229_project\\train\\video\\preprocessed_fake\\49(1).npy\n",
      "Deleted original file: E:\\cs229_project\\train\\video\\preprocessed_fake\\49.npy\n",
      "Saved: E:\\cs229_project\\train\\video\\preprocessed_fake\\490(0).npy\n",
      "Deleted original file: E:\\cs229_project\\train\\video\\preprocessed_fake\\490.npy\n",
      "Saved: E:\\cs229_project\\train\\video\\preprocessed_fake\\491(0).npy\n",
      "Deleted original file: E:\\cs229_project\\train\\video\\preprocessed_fake\\491.npy\n",
      "Saved: E:\\cs229_project\\train\\video\\preprocessed_fake\\492(0).npy\n",
      "Deleted original file: E:\\cs229_project\\train\\video\\preprocessed_fake\\492.npy\n",
      "Saved: E:\\cs229_project\\train\\video\\preprocessed_fake\\493(0).npy\n",
      "Deleted original file: E:\\cs229_project\\train\\video\\preprocessed_fake\\493.npy\n"
     ]
    },
    {
     "name": "stderr",
     "output_type": "stream",
     "text": [
      " 87%|████████▋ | 3646/4206 [03:21<00:24, 22.72it/s]"
     ]
    },
    {
     "name": "stdout",
     "output_type": "stream",
     "text": [
      "Saved: E:\\cs229_project\\train\\video\\preprocessed_fake\\494(0).npy\n",
      "Deleted original file: E:\\cs229_project\\train\\video\\preprocessed_fake\\494.npy\n",
      "Saved: E:\\cs229_project\\train\\video\\preprocessed_fake\\495(0).npy\n",
      "Saved: E:\\cs229_project\\train\\video\\preprocessed_fake\\495(1).npy\n",
      "Saved: E:\\cs229_project\\train\\video\\preprocessed_fake\\495(2).npy\n",
      "Saved: E:\\cs229_project\\train\\video\\preprocessed_fake\\495(3).npy\n",
      "Saved: E:\\cs229_project\\train\\video\\preprocessed_fake\\495(4).npy\n",
      "Saved: E:\\cs229_project\\train\\video\\preprocessed_fake\\495(5).npy\n",
      "Saved: E:\\cs229_project\\train\\video\\preprocessed_fake\\495(6).npy\n",
      "Deleted original file: E:\\cs229_project\\train\\video\\preprocessed_fake\\495.npy\n"
     ]
    },
    {
     "name": "stderr",
     "output_type": "stream",
     "text": [
      " 87%|████████▋ | 3649/4206 [03:22<00:46, 11.95it/s]"
     ]
    },
    {
     "name": "stdout",
     "output_type": "stream",
     "text": [
      "Saved: E:\\cs229_project\\train\\video\\preprocessed_fake\\496(0).npy\n",
      "Deleted original file: E:\\cs229_project\\train\\video\\preprocessed_fake\\496.npy\n",
      "Saved: E:\\cs229_project\\train\\video\\preprocessed_fake\\497(0).npy\n",
      "Deleted original file: E:\\cs229_project\\train\\video\\preprocessed_fake\\497.npy\n",
      "Saved: E:\\cs229_project\\train\\video\\preprocessed_fake\\498(0).npy\n",
      "Deleted original file: E:\\cs229_project\\train\\video\\preprocessed_fake\\498.npy\n",
      "Saved: E:\\cs229_project\\train\\video\\preprocessed_fake\\499(0).npy\n",
      "Deleted original file: E:\\cs229_project\\train\\video\\preprocessed_fake\\499.npy\n",
      "Saved: E:\\cs229_project\\train\\video\\preprocessed_fake\\5(0).npy\n",
      "Deleted original file: E:\\cs229_project\\train\\video\\preprocessed_fake\\5.npy\n"
     ]
    },
    {
     "name": "stderr",
     "output_type": "stream",
     "text": [
      " 87%|████████▋ | 3657/4206 [03:22<00:29, 18.70it/s]"
     ]
    },
    {
     "name": "stdout",
     "output_type": "stream",
     "text": [
      "Saved: E:\\cs229_project\\train\\video\\preprocessed_fake\\50(0).npy\n",
      "Deleted original file: E:\\cs229_project\\train\\video\\preprocessed_fake\\50.npy\n",
      "Saved: E:\\cs229_project\\train\\video\\preprocessed_fake\\500(0).npy\n",
      "Deleted original file: E:\\cs229_project\\train\\video\\preprocessed_fake\\500.npy\n",
      "Saved: E:\\cs229_project\\train\\video\\preprocessed_fake\\501(0).npy\n",
      "Deleted original file: E:\\cs229_project\\train\\video\\preprocessed_fake\\501.npy\n",
      "Saved: E:\\cs229_project\\train\\video\\preprocessed_fake\\502(0).npy\n",
      "Deleted original file: E:\\cs229_project\\train\\video\\preprocessed_fake\\502.npy\n",
      "Saved: E:\\cs229_project\\train\\video\\preprocessed_fake\\503(0).npy\n",
      "Deleted original file: E:\\cs229_project\\train\\video\\preprocessed_fake\\503.npy\n",
      "Saved: E:\\cs229_project\\train\\video\\preprocessed_fake\\504(0).npy\n",
      "Deleted original file: E:\\cs229_project\\train\\video\\preprocessed_fake\\504.npy\n",
      "Saved: E:\\cs229_project\\train\\video\\preprocessed_fake\\505(0).npy\n",
      "Deleted original file: E:\\cs229_project\\train\\video\\preprocessed_fake\\505.npy\n",
      "Saved: E:\\cs229_project\\train\\video\\preprocessed_fake\\506(0).npy\n"
     ]
    },
    {
     "name": "stderr",
     "output_type": "stream",
     "text": [
      " 87%|████████▋ | 3665/4206 [03:22<00:22, 24.50it/s]"
     ]
    },
    {
     "name": "stdout",
     "output_type": "stream",
     "text": [
      "Deleted original file: E:\\cs229_project\\train\\video\\preprocessed_fake\\506.npy\n",
      "Saved: E:\\cs229_project\\train\\video\\preprocessed_fake\\507(0).npy\n",
      "Deleted original file: E:\\cs229_project\\train\\video\\preprocessed_fake\\507.npy\n",
      "Saved: E:\\cs229_project\\train\\video\\preprocessed_fake\\508(0).npy\n",
      "Deleted original file: E:\\cs229_project\\train\\video\\preprocessed_fake\\508.npy\n",
      "Saved: E:\\cs229_project\\train\\video\\preprocessed_fake\\509(0).npy\n",
      "Deleted original file: E:\\cs229_project\\train\\video\\preprocessed_fake\\509.npy\n",
      "Saved: E:\\cs229_project\\train\\video\\preprocessed_fake\\51(0).npy\n",
      "Deleted original file: E:\\cs229_project\\train\\video\\preprocessed_fake\\51.npy\n",
      "Saved: E:\\cs229_project\\train\\video\\preprocessed_fake\\510(0).npy\n",
      "Deleted original file: E:\\cs229_project\\train\\video\\preprocessed_fake\\510.npy\n",
      "Saved: E:\\cs229_project\\train\\video\\preprocessed_fake\\511(0).npy\n",
      "Saved: E:\\cs229_project\\train\\video\\preprocessed_fake\\511(1).npy\n",
      "Deleted original file: E:\\cs229_project\\train\\video\\preprocessed_fake\\511.npy\n"
     ]
    },
    {
     "name": "stderr",
     "output_type": "stream",
     "text": [
      " 87%|████████▋ | 3673/4206 [03:23<00:19, 27.23it/s]"
     ]
    },
    {
     "name": "stdout",
     "output_type": "stream",
     "text": [
      "Saved: E:\\cs229_project\\train\\video\\preprocessed_fake\\512(0).npy\n",
      "Deleted original file: E:\\cs229_project\\train\\video\\preprocessed_fake\\512.npy\n",
      "Saved: E:\\cs229_project\\train\\video\\preprocessed_fake\\513(0).npy\n",
      "Deleted original file: E:\\cs229_project\\train\\video\\preprocessed_fake\\513.npy\n",
      "Saved: E:\\cs229_project\\train\\video\\preprocessed_fake\\514(0).npy\n",
      "Deleted original file: E:\\cs229_project\\train\\video\\preprocessed_fake\\514.npy\n",
      "Saved: E:\\cs229_project\\train\\video\\preprocessed_fake\\515(0).npy\n",
      "Deleted original file: E:\\cs229_project\\train\\video\\preprocessed_fake\\515.npy\n",
      "Saved: E:\\cs229_project\\train\\video\\preprocessed_fake\\516(0).npy\n",
      "Deleted original file: E:\\cs229_project\\train\\video\\preprocessed_fake\\516.npy\n",
      "Saved: E:\\cs229_project\\train\\video\\preprocessed_fake\\517(0).npy\n",
      "Deleted original file: E:\\cs229_project\\train\\video\\preprocessed_fake\\517.npy\n",
      "Saved: E:\\cs229_project\\train\\video\\preprocessed_fake\\518(0).npy\n",
      "Deleted original file: E:\\cs229_project\\train\\video\\preprocessed_fake\\518.npy\n"
     ]
    },
    {
     "name": "stderr",
     "output_type": "stream",
     "text": [
      " 87%|████████▋ | 3677/4206 [03:23<00:22, 23.06it/s]"
     ]
    },
    {
     "name": "stdout",
     "output_type": "stream",
     "text": [
      "Saved: E:\\cs229_project\\train\\video\\preprocessed_fake\\519(0).npy\n",
      "Saved: E:\\cs229_project\\train\\video\\preprocessed_fake\\519(1).npy\n",
      "Saved: E:\\cs229_project\\train\\video\\preprocessed_fake\\519(2).npy\n",
      "Saved: E:\\cs229_project\\train\\video\\preprocessed_fake\\519(3).npy\n",
      "Saved: E:\\cs229_project\\train\\video\\preprocessed_fake\\519(4).npy\n",
      "Deleted original file: E:\\cs229_project\\train\\video\\preprocessed_fake\\519.npy\n",
      "Saved: E:\\cs229_project\\train\\video\\preprocessed_fake\\52(0).npy\n",
      "Deleted original file: E:\\cs229_project\\train\\video\\preprocessed_fake\\52.npy\n",
      "Saved: E:\\cs229_project\\train\\video\\preprocessed_fake\\520(0).npy\n",
      "Deleted original file: E:\\cs229_project\\train\\video\\preprocessed_fake\\520.npy\n",
      "Saved: E:\\cs229_project\\train\\video\\preprocessed_fake\\521(0).npy\n",
      "Deleted original file: E:\\cs229_project\\train\\video\\preprocessed_fake\\521.npy\n"
     ]
    },
    {
     "name": "stderr",
     "output_type": "stream",
     "text": [
      " 87%|████████▋ | 3680/4206 [03:23<00:37, 13.87it/s]"
     ]
    },
    {
     "name": "stdout",
     "output_type": "stream",
     "text": [
      "Saved: E:\\cs229_project\\train\\video\\preprocessed_fake\\522(0).npy\n",
      "Saved: E:\\cs229_project\\train\\video\\preprocessed_fake\\522(1).npy\n",
      "Saved: E:\\cs229_project\\train\\video\\preprocessed_fake\\522(2).npy\n",
      "Saved: E:\\cs229_project\\train\\video\\preprocessed_fake\\522(3).npy\n",
      "Saved: E:\\cs229_project\\train\\video\\preprocessed_fake\\522(4).npy\n",
      "Deleted original file: E:\\cs229_project\\train\\video\\preprocessed_fake\\522.npy\n",
      "Saved: E:\\cs229_project\\train\\video\\preprocessed_fake\\523(0).npy\n",
      "Deleted original file: E:\\cs229_project\\train\\video\\preprocessed_fake\\523.npy\n",
      "Saved: E:\\cs229_project\\train\\video\\preprocessed_fake\\524(0).npy\n",
      "Deleted original file: E:\\cs229_project\\train\\video\\preprocessed_fake\\524.npy\n",
      "Saved: E:\\cs229_project\\train\\video\\preprocessed_fake\\525(0).npy\n",
      "Deleted original file: E:\\cs229_project\\train\\video\\preprocessed_fake\\525.npy\n",
      "Saved: E:\\cs229_project\\train\\video\\preprocessed_fake\\526(0).npy\n",
      "Deleted original file: E:\\cs229_project\\train\\video\\preprocessed_fake\\526.npy\n"
     ]
    },
    {
     "name": "stderr",
     "output_type": "stream",
     "text": [
      " 88%|████████▊ | 3687/4206 [03:24<00:28, 18.53it/s]"
     ]
    },
    {
     "name": "stdout",
     "output_type": "stream",
     "text": [
      "Saved: E:\\cs229_project\\train\\video\\preprocessed_fake\\527(0).npy\n",
      "Deleted original file: E:\\cs229_project\\train\\video\\preprocessed_fake\\527.npy\n",
      "Saved: E:\\cs229_project\\train\\video\\preprocessed_fake\\528(0).npy\n",
      "Deleted original file: E:\\cs229_project\\train\\video\\preprocessed_fake\\528.npy\n",
      "Saved: E:\\cs229_project\\train\\video\\preprocessed_fake\\529(0).npy\n",
      "Deleted original file: E:\\cs229_project\\train\\video\\preprocessed_fake\\529.npy\n",
      "Saved: E:\\cs229_project\\train\\video\\preprocessed_fake\\53(0).npy\n",
      "Saved: E:\\cs229_project\\train\\video\\preprocessed_fake\\53(1).npy\n",
      "Deleted original file: E:\\cs229_project\\train\\video\\preprocessed_fake\\53.npy\n",
      "Saved: E:\\cs229_project\\train\\video\\preprocessed_fake\\530(0).npy\n",
      "Deleted original file: E:\\cs229_project\\train\\video\\preprocessed_fake\\530.npy\n",
      "Saved: E:\\cs229_project\\train\\video\\preprocessed_fake\\531(0).npy\n",
      "Deleted original file: E:\\cs229_project\\train\\video\\preprocessed_fake\\531.npy\n"
     ]
    },
    {
     "name": "stderr",
     "output_type": "stream",
     "text": [
      " 88%|████████▊ | 3695/4206 [03:24<00:21, 23.68it/s]"
     ]
    },
    {
     "name": "stdout",
     "output_type": "stream",
     "text": [
      "Saved: E:\\cs229_project\\train\\video\\preprocessed_fake\\532(0).npy\n",
      "Deleted original file: E:\\cs229_project\\train\\video\\preprocessed_fake\\532.npy\n",
      "Saved: E:\\cs229_project\\train\\video\\preprocessed_fake\\533(0).npy\n",
      "Deleted original file: E:\\cs229_project\\train\\video\\preprocessed_fake\\533.npy\n",
      "Saved: E:\\cs229_project\\train\\video\\preprocessed_fake\\534(0).npy\n",
      "Deleted original file: E:\\cs229_project\\train\\video\\preprocessed_fake\\534.npy\n",
      "Saved: E:\\cs229_project\\train\\video\\preprocessed_fake\\535(0).npy\n",
      "Deleted original file: E:\\cs229_project\\train\\video\\preprocessed_fake\\535.npy\n",
      "Saved: E:\\cs229_project\\train\\video\\preprocessed_fake\\536(0).npy\n",
      "Deleted original file: E:\\cs229_project\\train\\video\\preprocessed_fake\\536.npy\n",
      "Saved: E:\\cs229_project\\train\\video\\preprocessed_fake\\537(0).npy\n",
      "Deleted original file: E:\\cs229_project\\train\\video\\preprocessed_fake\\537.npy\n",
      "Saved: E:\\cs229_project\\train\\video\\preprocessed_fake\\538(0).npy\n",
      "Deleted original file: E:\\cs229_project\\train\\video\\preprocessed_fake\\538.npy\n"
     ]
    },
    {
     "name": "stderr",
     "output_type": "stream",
     "text": [
      " 88%|████████▊ | 3698/4206 [03:24<00:21, 24.10it/s]"
     ]
    },
    {
     "name": "stdout",
     "output_type": "stream",
     "text": [
      "Saved: E:\\cs229_project\\train\\video\\preprocessed_fake\\539(0).npy\n",
      "Deleted original file: E:\\cs229_project\\train\\video\\preprocessed_fake\\539.npy\n",
      "Saved: E:\\cs229_project\\train\\video\\preprocessed_fake\\54(0).npy\n",
      "Saved: E:\\cs229_project\\train\\video\\preprocessed_fake\\54(1).npy\n",
      "Deleted original file: E:\\cs229_project\\train\\video\\preprocessed_fake\\54.npy\n",
      "Saved: E:\\cs229_project\\train\\video\\preprocessed_fake\\540(0).npy\n",
      "Deleted original file: E:\\cs229_project\\train\\video\\preprocessed_fake\\540.npy\n",
      "Saved: E:\\cs229_project\\train\\video\\preprocessed_fake\\541(0).npy\n",
      "Deleted original file: E:\\cs229_project\\train\\video\\preprocessed_fake\\541.npy\n",
      "Saved: E:\\cs229_project\\train\\video\\preprocessed_fake\\542(0).npy\n",
      "Deleted original file: E:\\cs229_project\\train\\video\\preprocessed_fake\\542.npy\n"
     ]
    },
    {
     "name": "stderr",
     "output_type": "stream",
     "text": [
      " 88%|████████▊ | 3704/4206 [03:24<00:20, 24.64it/s]"
     ]
    },
    {
     "name": "stdout",
     "output_type": "stream",
     "text": [
      "Saved: E:\\cs229_project\\train\\video\\preprocessed_fake\\543(0).npy\n",
      "Saved: E:\\cs229_project\\train\\video\\preprocessed_fake\\543(1).npy\n",
      "Deleted original file: E:\\cs229_project\\train\\video\\preprocessed_fake\\543.npy\n",
      "Saved: E:\\cs229_project\\train\\video\\preprocessed_fake\\544(0).npy\n",
      "Saved: E:\\cs229_project\\train\\video\\preprocessed_fake\\544(1).npy\n",
      "Deleted original file: E:\\cs229_project\\train\\video\\preprocessed_fake\\544.npy\n",
      "Saved: E:\\cs229_project\\train\\video\\preprocessed_fake\\545(0).npy\n",
      "Deleted original file: E:\\cs229_project\\train\\video\\preprocessed_fake\\545.npy\n",
      "Saved: E:\\cs229_project\\train\\video\\preprocessed_fake\\546(0).npy\n",
      "Deleted original file: E:\\cs229_project\\train\\video\\preprocessed_fake\\546.npy\n",
      "Saved: E:\\cs229_project\\train\\video\\preprocessed_fake\\547(0).npy\n",
      "Deleted original file: E:\\cs229_project\\train\\video\\preprocessed_fake\\547.npy\n",
      "Saved: E:\\cs229_project\\train\\video\\preprocessed_fake\\548(0).npy\n",
      "Deleted original file: E:\\cs229_project\\train\\video\\preprocessed_fake\\548.npy\n"
     ]
    },
    {
     "name": "stderr",
     "output_type": "stream",
     "text": [
      " 88%|████████▊ | 3707/4206 [03:25<00:29, 16.84it/s]"
     ]
    },
    {
     "name": "stdout",
     "output_type": "stream",
     "text": [
      "Saved: E:\\cs229_project\\train\\video\\preprocessed_fake\\549(0).npy\n",
      "Deleted original file: E:\\cs229_project\\train\\video\\preprocessed_fake\\549.npy\n",
      "Saved: E:\\cs229_project\\train\\video\\preprocessed_fake\\55(0).npy\n",
      "Saved: E:\\cs229_project\\train\\video\\preprocessed_fake\\55(1).npy\n",
      "Saved: E:\\cs229_project\\train\\video\\preprocessed_fake\\55(2).npy\n",
      "Saved: E:\\cs229_project\\train\\video\\preprocessed_fake\\55(3).npy\n"
     ]
    },
    {
     "name": "stderr",
     "output_type": "stream",
     "text": [
      " 88%|████████▊ | 3713/4206 [03:25<00:29, 16.90it/s]"
     ]
    },
    {
     "name": "stdout",
     "output_type": "stream",
     "text": [
      "Saved: E:\\cs229_project\\train\\video\\preprocessed_fake\\55(4).npy\n",
      "Deleted original file: E:\\cs229_project\\train\\video\\preprocessed_fake\\55.npy\n",
      "Saved: E:\\cs229_project\\train\\video\\preprocessed_fake\\550(0).npy\n",
      "Deleted original file: E:\\cs229_project\\train\\video\\preprocessed_fake\\550.npy\n",
      "Saved: E:\\cs229_project\\train\\video\\preprocessed_fake\\551(0).npy\n",
      "Deleted original file: E:\\cs229_project\\train\\video\\preprocessed_fake\\551.npy\n",
      "Saved: E:\\cs229_project\\train\\video\\preprocessed_fake\\552(0).npy\n",
      "Saved: E:\\cs229_project\\train\\video\\preprocessed_fake\\552(1).npy\n",
      "Deleted original file: E:\\cs229_project\\train\\video\\preprocessed_fake\\552.npy\n",
      "Saved: E:\\cs229_project\\train\\video\\preprocessed_fake\\553(0).npy\n",
      "Deleted original file: E:\\cs229_project\\train\\video\\preprocessed_fake\\553.npy\n",
      "Saved: E:\\cs229_project\\train\\video\\preprocessed_fake\\554(0).npy\n",
      "Deleted original file: E:\\cs229_project\\train\\video\\preprocessed_fake\\554.npy\n"
     ]
    },
    {
     "name": "stderr",
     "output_type": "stream",
     "text": [
      " 88%|████████▊ | 3717/4206 [03:25<00:24, 20.33it/s]"
     ]
    },
    {
     "name": "stdout",
     "output_type": "stream",
     "text": [
      "Saved: E:\\cs229_project\\train\\video\\preprocessed_fake\\555(0).npy\n",
      "Deleted original file: E:\\cs229_project\\train\\video\\preprocessed_fake\\555.npy\n",
      "Saved: E:\\cs229_project\\train\\video\\preprocessed_fake\\556(0).npy\n",
      "Deleted original file: E:\\cs229_project\\train\\video\\preprocessed_fake\\556.npy\n",
      "Saved: E:\\cs229_project\\train\\video\\preprocessed_fake\\557(0).npy\n",
      "Deleted original file: E:\\cs229_project\\train\\video\\preprocessed_fake\\557.npy\n",
      "Saved: E:\\cs229_project\\train\\video\\preprocessed_fake\\558(0).npy\n",
      "Deleted original file: E:\\cs229_project\\train\\video\\preprocessed_fake\\558.npy\n",
      "Saved: E:\\cs229_project\\train\\video\\preprocessed_fake\\559(0).npy\n",
      "Deleted original file: E:\\cs229_project\\train\\video\\preprocessed_fake\\559.npy\n",
      "Saved: E:\\cs229_project\\train\\video\\preprocessed_fake\\56(0).npy\n",
      "Saved: E:\\cs229_project\\train\\video\\preprocessed_fake\\56(1).npy\n",
      "Deleted original file: E:\\cs229_project\\train\\video\\preprocessed_fake\\56.npy\n"
     ]
    },
    {
     "name": "stderr",
     "output_type": "stream",
     "text": [
      " 89%|████████▊ | 3723/4206 [03:25<00:23, 20.33it/s]"
     ]
    },
    {
     "name": "stdout",
     "output_type": "stream",
     "text": [
      "Saved: E:\\cs229_project\\train\\video\\preprocessed_fake\\560(0).npy\n",
      "Saved: E:\\cs229_project\\train\\video\\preprocessed_fake\\560(1).npy\n",
      "Deleted original file: E:\\cs229_project\\train\\video\\preprocessed_fake\\560.npy\n",
      "Saved: E:\\cs229_project\\train\\video\\preprocessed_fake\\561(0).npy\n",
      "Saved: E:\\cs229_project\\train\\video\\preprocessed_fake\\561(1).npy\n",
      "Deleted original file: E:\\cs229_project\\train\\video\\preprocessed_fake\\561.npy\n",
      "Saved: E:\\cs229_project\\train\\video\\preprocessed_fake\\562(0).npy\n",
      "Deleted original file: E:\\cs229_project\\train\\video\\preprocessed_fake\\562.npy\n",
      "Saved: E:\\cs229_project\\train\\video\\preprocessed_fake\\563(0).npy\n",
      "Saved: E:\\cs229_project\\train\\video\\preprocessed_fake\\563(1).npy\n",
      "Deleted original file: E:\\cs229_project\\train\\video\\preprocessed_fake\\563.npy\n",
      "Saved: E:\\cs229_project\\train\\video\\preprocessed_fake\\564(0).npy\n",
      "Deleted original file: E:\\cs229_project\\train\\video\\preprocessed_fake\\564.npy\n"
     ]
    },
    {
     "name": "stderr",
     "output_type": "stream",
     "text": [
      " 89%|████████▊ | 3730/4206 [03:26<00:19, 24.10it/s]"
     ]
    },
    {
     "name": "stdout",
     "output_type": "stream",
     "text": [
      "Saved: E:\\cs229_project\\train\\video\\preprocessed_fake\\565(0).npy\n",
      "Deleted original file: E:\\cs229_project\\train\\video\\preprocessed_fake\\565.npy\n",
      "Saved: E:\\cs229_project\\train\\video\\preprocessed_fake\\566(0).npy\n",
      "Deleted original file: E:\\cs229_project\\train\\video\\preprocessed_fake\\566.npy\n",
      "Saved: E:\\cs229_project\\train\\video\\preprocessed_fake\\567(0).npy\n",
      "Deleted original file: E:\\cs229_project\\train\\video\\preprocessed_fake\\567.npy\n",
      "Saved: E:\\cs229_project\\train\\video\\preprocessed_fake\\568(0).npy\n",
      "Deleted original file: E:\\cs229_project\\train\\video\\preprocessed_fake\\568.npy\n",
      "Saved: E:\\cs229_project\\train\\video\\preprocessed_fake\\569(0).npy\n",
      "Deleted original file: E:\\cs229_project\\train\\video\\preprocessed_fake\\569.npy\n",
      "Saved: E:\\cs229_project\\train\\video\\preprocessed_fake\\57(0).npy\n",
      "Saved: E:\\cs229_project\\train\\video\\preprocessed_fake\\57(1).npy\n",
      "Deleted original file: E:\\cs229_project\\train\\video\\preprocessed_fake\\57.npy\n",
      "Saved: E:\\cs229_project\\train\\video\\preprocessed_fake\\570(0).npy\n",
      "Deleted original file: E:\\cs229_project\\train\\video\\preprocessed_fake\\570.npy\n",
      "Saved: E:\\cs229_project\\train\\video\\preprocessed_fake\\571(0).npy\n",
      "Deleted original file: E:\\cs229_project\\train\\video\\preprocessed_fake\\571.npy\n"
     ]
    },
    {
     "name": "stderr",
     "output_type": "stream",
     "text": [
      " 89%|████████▉ | 3736/4206 [03:26<00:29, 15.71it/s]"
     ]
    },
    {
     "name": "stdout",
     "output_type": "stream",
     "text": [
      "Saved: E:\\cs229_project\\train\\video\\preprocessed_fake\\572(0).npy\n",
      "Deleted original file: E:\\cs229_project\\train\\video\\preprocessed_fake\\572.npy\n",
      "Saved: E:\\cs229_project\\train\\video\\preprocessed_fake\\573(0).npy\n",
      "Deleted original file: E:\\cs229_project\\train\\video\\preprocessed_fake\\573.npy\n",
      "Saved: E:\\cs229_project\\train\\video\\preprocessed_fake\\574(0).npy\n",
      "Saved: E:\\cs229_project\\train\\video\\preprocessed_fake\\574(1).npy\n",
      "Deleted original file: E:\\cs229_project\\train\\video\\preprocessed_fake\\574.npy\n",
      "Saved: E:\\cs229_project\\train\\video\\preprocessed_fake\\575(0).npy\n",
      "Saved: E:\\cs229_project\\train\\video\\preprocessed_fake\\575(1).npy\n",
      "Deleted original file: E:\\cs229_project\\train\\video\\preprocessed_fake\\575.npy\n",
      "Saved: E:\\cs229_project\\train\\video\\preprocessed_fake\\576(0).npy\n",
      "Deleted original file: E:\\cs229_project\\train\\video\\preprocessed_fake\\576.npy\n"
     ]
    },
    {
     "name": "stderr",
     "output_type": "stream",
     "text": [
      " 89%|████████▉ | 3740/4206 [03:26<00:25, 18.30it/s]"
     ]
    },
    {
     "name": "stdout",
     "output_type": "stream",
     "text": [
      "Saved: E:\\cs229_project\\train\\video\\preprocessed_fake\\577(0).npy\n",
      "Deleted original file: E:\\cs229_project\\train\\video\\preprocessed_fake\\577.npy\n",
      "Saved: E:\\cs229_project\\train\\video\\preprocessed_fake\\578(0).npy\n",
      "Deleted original file: E:\\cs229_project\\train\\video\\preprocessed_fake\\578.npy\n",
      "Saved: E:\\cs229_project\\train\\video\\preprocessed_fake\\579(0).npy\n",
      "Saved: E:\\cs229_project\\train\\video\\preprocessed_fake\\579(1).npy\n",
      "Deleted original file: E:\\cs229_project\\train\\video\\preprocessed_fake\\579.npy\n",
      "Saved: E:\\cs229_project\\train\\video\\preprocessed_fake\\58(0).npy\n",
      "Deleted original file: E:\\cs229_project\\train\\video\\preprocessed_fake\\58.npy\n",
      "Saved: E:\\cs229_project\\train\\video\\preprocessed_fake\\580(0).npy\n",
      "Deleted original file: E:\\cs229_project\\train\\video\\preprocessed_fake\\580.npy\n",
      "Saved: E:\\cs229_project\\train\\video\\preprocessed_fake\\581(0).npy\n",
      "Deleted original file: E:\\cs229_project\\train\\video\\preprocessed_fake\\581.npy\n"
     ]
    },
    {
     "name": "stderr",
     "output_type": "stream",
     "text": [
      " 89%|████████▉ | 3748/4206 [03:27<00:19, 24.01it/s]"
     ]
    },
    {
     "name": "stdout",
     "output_type": "stream",
     "text": [
      "Saved: E:\\cs229_project\\train\\video\\preprocessed_fake\\582(0).npy\n",
      "Deleted original file: E:\\cs229_project\\train\\video\\preprocessed_fake\\582.npy\n",
      "Saved: E:\\cs229_project\\train\\video\\preprocessed_fake\\583(0).npy\n",
      "Deleted original file: E:\\cs229_project\\train\\video\\preprocessed_fake\\583.npy\n",
      "Saved: E:\\cs229_project\\train\\video\\preprocessed_fake\\584(0).npy\n",
      "Deleted original file: E:\\cs229_project\\train\\video\\preprocessed_fake\\584.npy\n",
      "Saved: E:\\cs229_project\\train\\video\\preprocessed_fake\\585(0).npy\n",
      "Deleted original file: E:\\cs229_project\\train\\video\\preprocessed_fake\\585.npy\n",
      "Saved: E:\\cs229_project\\train\\video\\preprocessed_fake\\586(0).npy\n",
      "Deleted original file: E:\\cs229_project\\train\\video\\preprocessed_fake\\586.npy\n",
      "Saved: E:\\cs229_project\\train\\video\\preprocessed_fake\\587(0).npy\n",
      "Deleted original file: E:\\cs229_project\\train\\video\\preprocessed_fake\\587.npy\n"
     ]
    },
    {
     "name": "stderr",
     "output_type": "stream",
     "text": [
      " 89%|████████▉ | 3755/4206 [03:27<00:17, 25.10it/s]"
     ]
    },
    {
     "name": "stdout",
     "output_type": "stream",
     "text": [
      "Saved: E:\\cs229_project\\train\\video\\preprocessed_fake\\588(0).npy\n",
      "Deleted original file: E:\\cs229_project\\train\\video\\preprocessed_fake\\588.npy\n",
      "Saved: E:\\cs229_project\\train\\video\\preprocessed_fake\\589(0).npy\n",
      "Deleted original file: E:\\cs229_project\\train\\video\\preprocessed_fake\\589.npy\n",
      "Saved: E:\\cs229_project\\train\\video\\preprocessed_fake\\59(0).npy\n",
      "Deleted original file: E:\\cs229_project\\train\\video\\preprocessed_fake\\59.npy\n",
      "Saved: E:\\cs229_project\\train\\video\\preprocessed_fake\\590(0).npy\n",
      "Deleted original file: E:\\cs229_project\\train\\video\\preprocessed_fake\\590.npy\n",
      "Saved: E:\\cs229_project\\train\\video\\preprocessed_fake\\591(0).npy\n",
      "Deleted original file: E:\\cs229_project\\train\\video\\preprocessed_fake\\591.npy\n",
      "Saved: E:\\cs229_project\\train\\video\\preprocessed_fake\\592(0).npy\n",
      "Saved: E:\\cs229_project\\train\\video\\preprocessed_fake\\592(1).npy\n",
      "Deleted original file: E:\\cs229_project\\train\\video\\preprocessed_fake\\592.npy\n"
     ]
    },
    {
     "name": "stderr",
     "output_type": "stream",
     "text": [
      " 89%|████████▉ | 3759/4206 [03:27<00:16, 27.33it/s]"
     ]
    },
    {
     "name": "stdout",
     "output_type": "stream",
     "text": [
      "Saved: E:\\cs229_project\\train\\video\\preprocessed_fake\\593(0).npy\n",
      "Deleted original file: E:\\cs229_project\\train\\video\\preprocessed_fake\\593.npy\n",
      "Saved: E:\\cs229_project\\train\\video\\preprocessed_fake\\594(0).npy\n",
      "Deleted original file: E:\\cs229_project\\train\\video\\preprocessed_fake\\594.npy\n",
      "Saved: E:\\cs229_project\\train\\video\\preprocessed_fake\\595(0).npy\n",
      "Deleted original file: E:\\cs229_project\\train\\video\\preprocessed_fake\\595.npy\n",
      "Saved: E:\\cs229_project\\train\\video\\preprocessed_fake\\596(0).npy\n",
      "Deleted original file: E:\\cs229_project\\train\\video\\preprocessed_fake\\596.npy\n",
      "Saved: E:\\cs229_project\\train\\video\\preprocessed_fake\\597(0).npy\n",
      "Deleted original file: E:\\cs229_project\\train\\video\\preprocessed_fake\\597.npy\n",
      "Saved: E:\\cs229_project\\train\\video\\preprocessed_fake\\598(0).npy\n",
      "Deleted original file: E:\\cs229_project\\train\\video\\preprocessed_fake\\598.npy\n"
     ]
    },
    {
     "name": "stderr",
     "output_type": "stream",
     "text": [
      " 90%|████████▉ | 3765/4206 [03:28<00:25, 17.18it/s]"
     ]
    },
    {
     "name": "stdout",
     "output_type": "stream",
     "text": [
      "Saved: E:\\cs229_project\\train\\video\\preprocessed_fake\\599(0).npy\n",
      "Saved: E:\\cs229_project\\train\\video\\preprocessed_fake\\599(1).npy\n",
      "Deleted original file: E:\\cs229_project\\train\\video\\preprocessed_fake\\599.npy\n",
      "Saved: E:\\cs229_project\\train\\video\\preprocessed_fake\\6(0).npy\n",
      "Deleted original file: E:\\cs229_project\\train\\video\\preprocessed_fake\\6.npy\n",
      "Saved: E:\\cs229_project\\train\\video\\preprocessed_fake\\60(0).npy\n",
      "Deleted original file: E:\\cs229_project\\train\\video\\preprocessed_fake\\60.npy\n",
      "Saved: E:\\cs229_project\\train\\video\\preprocessed_fake\\600(0).npy\n",
      "Deleted original file: E:\\cs229_project\\train\\video\\preprocessed_fake\\600.npy\n",
      "Saved: E:\\cs229_project\\train\\video\\preprocessed_fake\\601(0).npy\n",
      "Deleted original file: E:\\cs229_project\\train\\video\\preprocessed_fake\\601.npy\n"
     ]
    },
    {
     "name": "stderr",
     "output_type": "stream",
     "text": [
      " 90%|████████▉ | 3773/4206 [03:28<00:18, 23.04it/s]"
     ]
    },
    {
     "name": "stdout",
     "output_type": "stream",
     "text": [
      "Saved: E:\\cs229_project\\train\\video\\preprocessed_fake\\602(0).npy\n",
      "Deleted original file: E:\\cs229_project\\train\\video\\preprocessed_fake\\602.npy\n",
      "Saved: E:\\cs229_project\\train\\video\\preprocessed_fake\\603(0).npy\n",
      "Deleted original file: E:\\cs229_project\\train\\video\\preprocessed_fake\\603.npy\n",
      "Saved: E:\\cs229_project\\train\\video\\preprocessed_fake\\604(0).npy\n",
      "Deleted original file: E:\\cs229_project\\train\\video\\preprocessed_fake\\604.npy\n",
      "Saved: E:\\cs229_project\\train\\video\\preprocessed_fake\\605(0).npy\n",
      "Deleted original file: E:\\cs229_project\\train\\video\\preprocessed_fake\\605.npy\n",
      "Saved: E:\\cs229_project\\train\\video\\preprocessed_fake\\606(0).npy\n",
      "Deleted original file: E:\\cs229_project\\train\\video\\preprocessed_fake\\606.npy\n",
      "Saved: E:\\cs229_project\\train\\video\\preprocessed_fake\\607(0).npy\n",
      "Deleted original file: E:\\cs229_project\\train\\video\\preprocessed_fake\\607.npy\n",
      "Saved: E:\\cs229_project\\train\\video\\preprocessed_fake\\608(0).npy\n",
      "Deleted original file: E:\\cs229_project\\train\\video\\preprocessed_fake\\608.npy\n"
     ]
    },
    {
     "name": "stderr",
     "output_type": "stream",
     "text": [
      " 90%|████████▉ | 3776/4206 [03:28<00:19, 22.27it/s]"
     ]
    },
    {
     "name": "stdout",
     "output_type": "stream",
     "text": [
      "Saved: E:\\cs229_project\\train\\video\\preprocessed_fake\\609(0).npy\n",
      "Deleted original file: E:\\cs229_project\\train\\video\\preprocessed_fake\\609.npy\n",
      "Saved: E:\\cs229_project\\train\\video\\preprocessed_fake\\61(0).npy\n",
      "Saved: E:\\cs229_project\\train\\video\\preprocessed_fake\\61(1).npy\n",
      "Saved: E:\\cs229_project\\train\\video\\preprocessed_fake\\61(2).npy\n",
      "Deleted original file: E:\\cs229_project\\train\\video\\preprocessed_fake\\61.npy\n",
      "Saved: E:\\cs229_project\\train\\video\\preprocessed_fake\\610(0).npy\n",
      "Deleted original file: E:\\cs229_project\\train\\video\\preprocessed_fake\\610.npy\n",
      "Saved: E:\\cs229_project\\train\\video\\preprocessed_fake\\611(0).npy\n",
      "Deleted original file: E:\\cs229_project\\train\\video\\preprocessed_fake\\611.npy\n",
      "Saved: E:\\cs229_project\\train\\video\\preprocessed_fake\\612(0).npy\n",
      "Deleted original file: E:\\cs229_project\\train\\video\\preprocessed_fake\\612.npy\n"
     ]
    },
    {
     "name": "stderr",
     "output_type": "stream",
     "text": [
      " 90%|████████▉ | 3783/4206 [03:28<00:16, 25.89it/s]"
     ]
    },
    {
     "name": "stdout",
     "output_type": "stream",
     "text": [
      "Saved: E:\\cs229_project\\train\\video\\preprocessed_fake\\613(0).npy\n",
      "Deleted original file: E:\\cs229_project\\train\\video\\preprocessed_fake\\613.npy\n",
      "Saved: E:\\cs229_project\\train\\video\\preprocessed_fake\\614(0).npy\n",
      "Deleted original file: E:\\cs229_project\\train\\video\\preprocessed_fake\\614.npy\n",
      "Saved: E:\\cs229_project\\train\\video\\preprocessed_fake\\615(0).npy\n",
      "Deleted original file: E:\\cs229_project\\train\\video\\preprocessed_fake\\615.npy\n",
      "Saved: E:\\cs229_project\\train\\video\\preprocessed_fake\\616(0).npy\n",
      "Deleted original file: E:\\cs229_project\\train\\video\\preprocessed_fake\\616.npy\n",
      "Saved: E:\\cs229_project\\train\\video\\preprocessed_fake\\617(0).npy\n",
      "Deleted original file: E:\\cs229_project\\train\\video\\preprocessed_fake\\617.npy\n",
      "Saved: E:\\cs229_project\\train\\video\\preprocessed_fake\\618(0).npy\n",
      "Deleted original file: E:\\cs229_project\\train\\video\\preprocessed_fake\\618.npy\n",
      "Saved: E:\\cs229_project\\train\\video\\preprocessed_fake\\619(0).npy\n",
      "Saved: E:\\cs229_project\\train\\video\\preprocessed_fake\\619(1).npy\n"
     ]
    },
    {
     "name": "stderr",
     "output_type": "stream",
     "text": [
      " 90%|█████████ | 3786/4206 [03:28<00:16, 25.47it/s]"
     ]
    },
    {
     "name": "stdout",
     "output_type": "stream",
     "text": [
      "Deleted original file: E:\\cs229_project\\train\\video\\preprocessed_fake\\619.npy\n",
      "Saved: E:\\cs229_project\\train\\video\\preprocessed_fake\\62(0).npy\n",
      "Deleted original file: E:\\cs229_project\\train\\video\\preprocessed_fake\\62.npy\n",
      "Saved: E:\\cs229_project\\train\\video\\preprocessed_fake\\620(0).npy\n",
      "Saved: E:\\cs229_project\\train\\video\\preprocessed_fake\\620(1).npy\n",
      "Deleted original file: E:\\cs229_project\\train\\video\\preprocessed_fake\\620.npy\n",
      "Saved: E:\\cs229_project\\train\\video\\preprocessed_fake\\621(0).npy\n",
      "Deleted original file: E:\\cs229_project\\train\\video\\preprocessed_fake\\621.npy\n"
     ]
    },
    {
     "name": "stderr",
     "output_type": "stream",
     "text": [
      " 90%|█████████ | 3789/4206 [03:29<00:31, 13.34it/s]"
     ]
    },
    {
     "name": "stdout",
     "output_type": "stream",
     "text": [
      "Saved: E:\\cs229_project\\train\\video\\preprocessed_fake\\622(0).npy\n",
      "Saved: E:\\cs229_project\\train\\video\\preprocessed_fake\\622(1).npy\n",
      "Deleted original file: E:\\cs229_project\\train\\video\\preprocessed_fake\\622.npy\n"
     ]
    },
    {
     "name": "stderr",
     "output_type": "stream",
     "text": [
      " 90%|█████████ | 3792/4206 [03:29<00:30, 13.59it/s]"
     ]
    },
    {
     "name": "stdout",
     "output_type": "stream",
     "text": [
      "Saved: E:\\cs229_project\\train\\video\\preprocessed_fake\\623(0).npy\n",
      "Saved: E:\\cs229_project\\train\\video\\preprocessed_fake\\623(1).npy\n",
      "Saved: E:\\cs229_project\\train\\video\\preprocessed_fake\\623(2).npy\n",
      "Deleted original file: E:\\cs229_project\\train\\video\\preprocessed_fake\\623.npy\n",
      "Saved: E:\\cs229_project\\train\\video\\preprocessed_fake\\624(0).npy\n",
      "Saved: E:\\cs229_project\\train\\video\\preprocessed_fake\\624(1).npy\n",
      "Saved: E:\\cs229_project\\train\\video\\preprocessed_fake\\624(2).npy\n",
      "Deleted original file: E:\\cs229_project\\train\\video\\preprocessed_fake\\624.npy\n",
      "Saved: E:\\cs229_project\\train\\video\\preprocessed_fake\\625(0).npy\n",
      "Deleted original file: E:\\cs229_project\\train\\video\\preprocessed_fake\\625.npy\n",
      "Saved: E:\\cs229_project\\train\\video\\preprocessed_fake\\626(0).npy\n",
      "Deleted original file: E:\\cs229_project\\train\\video\\preprocessed_fake\\626.npy\n"
     ]
    },
    {
     "name": "stderr",
     "output_type": "stream",
     "text": [
      " 90%|█████████ | 3799/4206 [03:29<00:21, 19.31it/s]"
     ]
    },
    {
     "name": "stdout",
     "output_type": "stream",
     "text": [
      "Saved: E:\\cs229_project\\train\\video\\preprocessed_fake\\627(0).npy\n",
      "Saved: E:\\cs229_project\\train\\video\\preprocessed_fake\\627(1).npy\n",
      "Deleted original file: E:\\cs229_project\\train\\video\\preprocessed_fake\\627.npy\n",
      "Saved: E:\\cs229_project\\train\\video\\preprocessed_fake\\628(0).npy\n",
      "Deleted original file: E:\\cs229_project\\train\\video\\preprocessed_fake\\628.npy\n",
      "Saved: E:\\cs229_project\\train\\video\\preprocessed_fake\\629(0).npy\n",
      "Deleted original file: E:\\cs229_project\\train\\video\\preprocessed_fake\\629.npy\n",
      "Saved: E:\\cs229_project\\train\\video\\preprocessed_fake\\63(0).npy\n",
      "Deleted original file: E:\\cs229_project\\train\\video\\preprocessed_fake\\63.npy\n",
      "Saved: E:\\cs229_project\\train\\video\\preprocessed_fake\\630(0).npy\n",
      "Deleted original file: E:\\cs229_project\\train\\video\\preprocessed_fake\\630.npy\n",
      "Saved: E:\\cs229_project\\train\\video\\preprocessed_fake\\631(0).npy\n",
      "Deleted original file: E:\\cs229_project\\train\\video\\preprocessed_fake\\631.npy\n"
     ]
    },
    {
     "name": "stderr",
     "output_type": "stream",
     "text": [
      " 90%|█████████ | 3802/4206 [03:29<00:22, 18.36it/s]"
     ]
    },
    {
     "name": "stdout",
     "output_type": "stream",
     "text": [
      "Saved: E:\\cs229_project\\train\\video\\preprocessed_fake\\632(0).npy\n",
      "Saved: E:\\cs229_project\\train\\video\\preprocessed_fake\\632(1).npy\n",
      "Saved: E:\\cs229_project\\train\\video\\preprocessed_fake\\632(2).npy\n",
      "Deleted original file: E:\\cs229_project\\train\\video\\preprocessed_fake\\632.npy\n",
      "Saved: E:\\cs229_project\\train\\video\\preprocessed_fake\\633(0).npy\n",
      "Saved: E:\\cs229_project\\train\\video\\preprocessed_fake\\633(1).npy\n",
      "Deleted original file: E:\\cs229_project\\train\\video\\preprocessed_fake\\633.npy\n",
      "Saved: E:\\cs229_project\\train\\video\\preprocessed_fake\\634(0).npy\n",
      "Deleted original file: E:\\cs229_project\\train\\video\\preprocessed_fake\\634.npy\n",
      "Saved: E:\\cs229_project\\train\\video\\preprocessed_fake\\635(0).npy\n",
      "Saved: E:\\cs229_project\\train\\video\\preprocessed_fake\\635(1).npy\n",
      "Deleted original file: E:\\cs229_project\\train\\video\\preprocessed_fake\\635.npy\n"
     ]
    },
    {
     "name": "stderr",
     "output_type": "stream",
     "text": [
      " 90%|█████████ | 3805/4206 [03:30<00:22, 17.88it/s]"
     ]
    },
    {
     "name": "stdout",
     "output_type": "stream",
     "text": [
      "Saved: E:\\cs229_project\\train\\video\\preprocessed_fake\\636(0).npy\n",
      "Deleted original file: E:\\cs229_project\\train\\video\\preprocessed_fake\\636.npy\n",
      "Saved: E:\\cs229_project\\train\\video\\preprocessed_fake\\637(0).npy\n",
      "Saved: E:\\cs229_project\\train\\video\\preprocessed_fake\\637(1).npy\n",
      "Saved: E:\\cs229_project\\train\\video\\preprocessed_fake\\637(2).npy\n",
      "Deleted original file: E:\\cs229_project\\train\\video\\preprocessed_fake\\637.npy\n",
      "Saved: E:\\cs229_project\\train\\video\\preprocessed_fake\\638(0).npy\n",
      "Deleted original file: E:\\cs229_project\\train\\video\\preprocessed_fake\\638.npy\n",
      "Saved: E:\\cs229_project\\train\\video\\preprocessed_fake\\639(0).npy\n",
      "Saved: E:\\cs229_project\\train\\video\\preprocessed_fake\\639(1).npy\n",
      "Saved: E:\\cs229_project\\train\\video\\preprocessed_fake\\639(2).npy\n",
      "Deleted original file: E:\\cs229_project\\train\\video\\preprocessed_fake\\639.npy\n"
     ]
    },
    {
     "name": "stderr",
     "output_type": "stream",
     "text": [
      " 91%|█████████ | 3808/4206 [03:30<00:21, 18.42it/s]"
     ]
    },
    {
     "name": "stdout",
     "output_type": "stream",
     "text": [
      "Saved: E:\\cs229_project\\train\\video\\preprocessed_fake\\64(0).npy\n",
      "Deleted original file: E:\\cs229_project\\train\\video\\preprocessed_fake\\64.npy\n"
     ]
    },
    {
     "name": "stderr",
     "output_type": "stream",
     "text": [
      " 91%|█████████ | 3811/4206 [03:30<00:31, 12.66it/s]"
     ]
    },
    {
     "name": "stdout",
     "output_type": "stream",
     "text": [
      "Saved: E:\\cs229_project\\train\\video\\preprocessed_fake\\640(0).npy\n",
      "Deleted original file: E:\\cs229_project\\train\\video\\preprocessed_fake\\640.npy\n",
      "Saved: E:\\cs229_project\\train\\video\\preprocessed_fake\\641(0).npy\n",
      "Deleted original file: E:\\cs229_project\\train\\video\\preprocessed_fake\\641.npy\n",
      "Saved: E:\\cs229_project\\train\\video\\preprocessed_fake\\642(0).npy\n",
      "Deleted original file: E:\\cs229_project\\train\\video\\preprocessed_fake\\642.npy\n",
      "Saved: E:\\cs229_project\\train\\video\\preprocessed_fake\\643(0).npy\n",
      "Deleted original file: E:\\cs229_project\\train\\video\\preprocessed_fake\\643.npy\n"
     ]
    },
    {
     "name": "stderr",
     "output_type": "stream",
     "text": [
      " 91%|█████████ | 3818/4206 [03:30<00:20, 18.92it/s]"
     ]
    },
    {
     "name": "stdout",
     "output_type": "stream",
     "text": [
      "Saved: E:\\cs229_project\\train\\video\\preprocessed_fake\\644(0).npy\n",
      "Deleted original file: E:\\cs229_project\\train\\video\\preprocessed_fake\\644.npy\n",
      "Saved: E:\\cs229_project\\train\\video\\preprocessed_fake\\645(0).npy\n",
      "Deleted original file: E:\\cs229_project\\train\\video\\preprocessed_fake\\645.npy\n",
      "Saved: E:\\cs229_project\\train\\video\\preprocessed_fake\\646(0).npy\n",
      "Deleted original file: E:\\cs229_project\\train\\video\\preprocessed_fake\\646.npy\n",
      "Saved: E:\\cs229_project\\train\\video\\preprocessed_fake\\647(0).npy\n",
      "Deleted original file: E:\\cs229_project\\train\\video\\preprocessed_fake\\647.npy\n",
      "Saved: E:\\cs229_project\\train\\video\\preprocessed_fake\\648(0).npy\n",
      "Deleted original file: E:\\cs229_project\\train\\video\\preprocessed_fake\\648.npy\n",
      "Saved: E:\\cs229_project\\train\\video\\preprocessed_fake\\649(0).npy\n",
      "Deleted original file: E:\\cs229_project\\train\\video\\preprocessed_fake\\649.npy\n",
      "Saved: E:\\cs229_project\\train\\video\\preprocessed_fake\\65(0).npy\n"
     ]
    },
    {
     "name": "stderr",
     "output_type": "stream",
     "text": [
      " 91%|█████████ | 3825/4206 [03:31<00:16, 23.70it/s]"
     ]
    },
    {
     "name": "stdout",
     "output_type": "stream",
     "text": [
      "Saved: E:\\cs229_project\\train\\video\\preprocessed_fake\\65(1).npy\n",
      "Deleted original file: E:\\cs229_project\\train\\video\\preprocessed_fake\\65.npy\n",
      "Saved: E:\\cs229_project\\train\\video\\preprocessed_fake\\650(0).npy\n",
      "Deleted original file: E:\\cs229_project\\train\\video\\preprocessed_fake\\650.npy\n",
      "Saved: E:\\cs229_project\\train\\video\\preprocessed_fake\\651(0).npy\n",
      "Deleted original file: E:\\cs229_project\\train\\video\\preprocessed_fake\\651.npy\n",
      "Saved: E:\\cs229_project\\train\\video\\preprocessed_fake\\652(0).npy\n",
      "Deleted original file: E:\\cs229_project\\train\\video\\preprocessed_fake\\652.npy\n",
      "Saved: E:\\cs229_project\\train\\video\\preprocessed_fake\\653(0).npy\n",
      "Deleted original file: E:\\cs229_project\\train\\video\\preprocessed_fake\\653.npy\n",
      "Saved: E:\\cs229_project\\train\\video\\preprocessed_fake\\654(0).npy\n",
      "Deleted original file: E:\\cs229_project\\train\\video\\preprocessed_fake\\654.npy\n",
      "Saved: E:\\cs229_project\\train\\video\\preprocessed_fake\\655(0).npy\n",
      "Deleted original file: E:\\cs229_project\\train\\video\\preprocessed_fake\\655.npy\n"
     ]
    },
    {
     "name": "stderr",
     "output_type": "stream",
     "text": [
      " 91%|█████████ | 3828/4206 [03:31<00:16, 22.68it/s]"
     ]
    },
    {
     "name": "stdout",
     "output_type": "stream",
     "text": [
      "Saved: E:\\cs229_project\\train\\video\\preprocessed_fake\\656(0).npy\n",
      "Deleted original file: E:\\cs229_project\\train\\video\\preprocessed_fake\\656.npy\n",
      "Saved: E:\\cs229_project\\train\\video\\preprocessed_fake\\657(0).npy\n",
      "Saved: E:\\cs229_project\\train\\video\\preprocessed_fake\\657(1).npy\n",
      "Deleted original file: E:\\cs229_project\\train\\video\\preprocessed_fake\\657.npy\n",
      "Saved: E:\\cs229_project\\train\\video\\preprocessed_fake\\658(0).npy\n",
      "Saved: E:\\cs229_project\\train\\video\\preprocessed_fake\\658(1).npy\n",
      "Deleted original file: E:\\cs229_project\\train\\video\\preprocessed_fake\\658.npy\n",
      "Saved: E:\\cs229_project\\train\\video\\preprocessed_fake\\659(0).npy\n",
      "Deleted original file: E:\\cs229_project\\train\\video\\preprocessed_fake\\659.npy\n",
      "Saved: E:\\cs229_project\\train\\video\\preprocessed_fake\\66(0).npy\n",
      "Deleted original file: E:\\cs229_project\\train\\video\\preprocessed_fake\\66.npy\n"
     ]
    },
    {
     "name": "stderr",
     "output_type": "stream",
     "text": [
      " 91%|█████████ | 3836/4206 [03:31<00:13, 27.75it/s]"
     ]
    },
    {
     "name": "stdout",
     "output_type": "stream",
     "text": [
      "Saved: E:\\cs229_project\\train\\video\\preprocessed_fake\\660(0).npy\n",
      "Deleted original file: E:\\cs229_project\\train\\video\\preprocessed_fake\\660.npy\n",
      "Saved: E:\\cs229_project\\train\\video\\preprocessed_fake\\661(0).npy\n",
      "Deleted original file: E:\\cs229_project\\train\\video\\preprocessed_fake\\661.npy\n",
      "Saved: E:\\cs229_project\\train\\video\\preprocessed_fake\\662(0).npy\n",
      "Deleted original file: E:\\cs229_project\\train\\video\\preprocessed_fake\\662.npy\n",
      "Saved: E:\\cs229_project\\train\\video\\preprocessed_fake\\663(0).npy\n",
      "Deleted original file: E:\\cs229_project\\train\\video\\preprocessed_fake\\663.npy\n",
      "Saved: E:\\cs229_project\\train\\video\\preprocessed_fake\\664(0).npy\n",
      "Deleted original file: E:\\cs229_project\\train\\video\\preprocessed_fake\\664.npy\n",
      "Saved: E:\\cs229_project\\train\\video\\preprocessed_fake\\665(0).npy\n",
      "Deleted original file: E:\\cs229_project\\train\\video\\preprocessed_fake\\665.npy\n",
      "Saved: E:\\cs229_project\\train\\video\\preprocessed_fake\\666(0).npy\n",
      "Deleted original file: E:\\cs229_project\\train\\video\\preprocessed_fake\\666.npy\n",
      "Saved: E:\\cs229_project\\train\\video\\preprocessed_fake\\667(0).npy\n",
      "Deleted original file: E:\\cs229_project\\train\\video\\preprocessed_fake\\667.npy\n"
     ]
    },
    {
     "name": "stderr",
     "output_type": "stream",
     "text": [
      " 91%|█████████▏| 3840/4206 [03:31<00:12, 29.44it/s]"
     ]
    },
    {
     "name": "stdout",
     "output_type": "stream",
     "text": [
      "Saved: E:\\cs229_project\\train\\video\\preprocessed_fake\\668(0).npy\n",
      "Deleted original file: E:\\cs229_project\\train\\video\\preprocessed_fake\\668.npy\n",
      "Saved: E:\\cs229_project\\train\\video\\preprocessed_fake\\669(0).npy\n",
      "Deleted original file: E:\\cs229_project\\train\\video\\preprocessed_fake\\669.npy\n"
     ]
    },
    {
     "name": "stderr",
     "output_type": "stream",
     "text": [
      " 91%|█████████▏| 3844/4206 [03:32<00:22, 15.94it/s]"
     ]
    },
    {
     "name": "stdout",
     "output_type": "stream",
     "text": [
      "Saved: E:\\cs229_project\\train\\video\\preprocessed_fake\\67(0).npy\n",
      "Saved: E:\\cs229_project\\train\\video\\preprocessed_fake\\67(1).npy\n",
      "Saved: E:\\cs229_project\\train\\video\\preprocessed_fake\\67(2).npy\n",
      "Deleted original file: E:\\cs229_project\\train\\video\\preprocessed_fake\\67.npy\n",
      "Saved: E:\\cs229_project\\train\\video\\preprocessed_fake\\670(0).npy\n",
      "Deleted original file: E:\\cs229_project\\train\\video\\preprocessed_fake\\670.npy\n",
      "Saved: E:\\cs229_project\\train\\video\\preprocessed_fake\\671(0).npy\n",
      "Saved: E:\\cs229_project\\train\\video\\preprocessed_fake\\671(1).npy\n",
      "Deleted original file: E:\\cs229_project\\train\\video\\preprocessed_fake\\671.npy\n",
      "Saved: E:\\cs229_project\\train\\video\\preprocessed_fake\\672(0).npy\n",
      "Deleted original file: E:\\cs229_project\\train\\video\\preprocessed_fake\\672.npy\n",
      "Saved: E:\\cs229_project\\train\\video\\preprocessed_fake\\673(0).npy\n",
      "Saved: E:\\cs229_project\\train\\video\\preprocessed_fake\\673(1).npy\n",
      "Deleted original file: E:\\cs229_project\\train\\video\\preprocessed_fake\\673.npy\n"
     ]
    },
    {
     "name": "stderr",
     "output_type": "stream",
     "text": [
      " 92%|█████████▏| 3851/4206 [03:32<00:17, 20.37it/s]"
     ]
    },
    {
     "name": "stdout",
     "output_type": "stream",
     "text": [
      "Saved: E:\\cs229_project\\train\\video\\preprocessed_fake\\674(0).npy\n",
      "Deleted original file: E:\\cs229_project\\train\\video\\preprocessed_fake\\674.npy\n",
      "Saved: E:\\cs229_project\\train\\video\\preprocessed_fake\\675(0).npy\n",
      "Deleted original file: E:\\cs229_project\\train\\video\\preprocessed_fake\\675.npy\n",
      "Saved: E:\\cs229_project\\train\\video\\preprocessed_fake\\676(0).npy\n",
      "Deleted original file: E:\\cs229_project\\train\\video\\preprocessed_fake\\676.npy\n",
      "Saved: E:\\cs229_project\\train\\video\\preprocessed_fake\\677(0).npy\n",
      "Deleted original file: E:\\cs229_project\\train\\video\\preprocessed_fake\\677.npy\n",
      "Saved: E:\\cs229_project\\train\\video\\preprocessed_fake\\678(0).npy\n",
      "Deleted original file: E:\\cs229_project\\train\\video\\preprocessed_fake\\678.npy\n",
      "Saved: E:\\cs229_project\\train\\video\\preprocessed_fake\\679(0).npy\n",
      "Deleted original file: E:\\cs229_project\\train\\video\\preprocessed_fake\\679.npy\n",
      "Saved: E:\\cs229_project\\train\\video\\preprocessed_fake\\68(0).npy\n",
      "Saved: E:\\cs229_project\\train\\video\\preprocessed_fake\\68(1).npy\n",
      "Deleted original file: E:\\cs229_project\\train\\video\\preprocessed_fake\\68.npy\n"
     ]
    },
    {
     "name": "stderr",
     "output_type": "stream",
     "text": [
      " 92%|█████████▏| 3858/4206 [03:32<00:14, 24.18it/s]"
     ]
    },
    {
     "name": "stdout",
     "output_type": "stream",
     "text": [
      "Saved: E:\\cs229_project\\train\\video\\preprocessed_fake\\680(0).npy\n",
      "Deleted original file: E:\\cs229_project\\train\\video\\preprocessed_fake\\680.npy\n",
      "Saved: E:\\cs229_project\\train\\video\\preprocessed_fake\\681(0).npy\n",
      "Deleted original file: E:\\cs229_project\\train\\video\\preprocessed_fake\\681.npy\n",
      "Saved: E:\\cs229_project\\train\\video\\preprocessed_fake\\682(0).npy\n",
      "Deleted original file: E:\\cs229_project\\train\\video\\preprocessed_fake\\682.npy\n",
      "Saved: E:\\cs229_project\\train\\video\\preprocessed_fake\\683(0).npy\n",
      "Deleted original file: E:\\cs229_project\\train\\video\\preprocessed_fake\\683.npy\n",
      "Saved: E:\\cs229_project\\train\\video\\preprocessed_fake\\684(0).npy\n",
      "Deleted original file: E:\\cs229_project\\train\\video\\preprocessed_fake\\684.npy\n",
      "Saved: E:\\cs229_project\\train\\video\\preprocessed_fake\\685(0).npy\n",
      "Deleted original file: E:\\cs229_project\\train\\video\\preprocessed_fake\\685.npy\n",
      "Saved: E:\\cs229_project\\train\\video\\preprocessed_fake\\686(0).npy\n",
      "Deleted original file: E:\\cs229_project\\train\\video\\preprocessed_fake\\686.npy\n"
     ]
    },
    {
     "name": "stderr",
     "output_type": "stream",
     "text": [
      " 92%|█████████▏| 3862/4206 [03:32<00:13, 25.04it/s]"
     ]
    },
    {
     "name": "stdout",
     "output_type": "stream",
     "text": [
      "Saved: E:\\cs229_project\\train\\video\\preprocessed_fake\\687(0).npy\n",
      "Deleted original file: E:\\cs229_project\\train\\video\\preprocessed_fake\\687.npy\n",
      "Saved: E:\\cs229_project\\train\\video\\preprocessed_fake\\688(0).npy\n",
      "Deleted original file: E:\\cs229_project\\train\\video\\preprocessed_fake\\688.npy\n",
      "Saved: E:\\cs229_project\\train\\video\\preprocessed_fake\\689(0).npy\n",
      "Saved: E:\\cs229_project\\train\\video\\preprocessed_fake\\689(1).npy\n",
      "Deleted original file: E:\\cs229_project\\train\\video\\preprocessed_fake\\689.npy\n",
      "Saved: E:\\cs229_project\\train\\video\\preprocessed_fake\\69(0).npy\n",
      "Saved: E:\\cs229_project\\train\\video\\preprocessed_fake\\69(1).npy\n",
      "Deleted original file: E:\\cs229_project\\train\\video\\preprocessed_fake\\69.npy\n",
      "Saved: E:\\cs229_project\\train\\video\\preprocessed_fake\\690(0).npy\n",
      "Deleted original file: E:\\cs229_project\\train\\video\\preprocessed_fake\\690.npy\n"
     ]
    },
    {
     "name": "stderr",
     "output_type": "stream",
     "text": [
      " 92%|█████████▏| 3865/4206 [03:32<00:13, 25.11it/s]"
     ]
    },
    {
     "name": "stdout",
     "output_type": "stream",
     "text": [
      "Saved: E:\\cs229_project\\train\\video\\preprocessed_fake\\691(0).npy\n",
      "Deleted original file: E:\\cs229_project\\train\\video\\preprocessed_fake\\691.npy\n",
      "Saved: E:\\cs229_project\\train\\video\\preprocessed_fake\\692(0).npy\n",
      "Deleted original file: E:\\cs229_project\\train\\video\\preprocessed_fake\\692.npy\n",
      "Saved: E:\\cs229_project\\train\\video\\preprocessed_fake\\693(0).npy\n",
      "Deleted original file: E:\\cs229_project\\train\\video\\preprocessed_fake\\693.npy\n",
      "Saved: E:\\cs229_project\\train\\video\\preprocessed_fake\\694(0).npy\n",
      "Deleted original file: E:\\cs229_project\\train\\video\\preprocessed_fake\\694.npy\n"
     ]
    },
    {
     "name": "stderr",
     "output_type": "stream",
     "text": [
      " 92%|█████████▏| 3869/4206 [03:33<00:18, 17.99it/s]"
     ]
    },
    {
     "name": "stdout",
     "output_type": "stream",
     "text": [
      "Saved: E:\\cs229_project\\train\\video\\preprocessed_fake\\695(0).npy\n",
      "Deleted original file: E:\\cs229_project\\train\\video\\preprocessed_fake\\695.npy\n",
      "Saved: E:\\cs229_project\\train\\video\\preprocessed_fake\\696(0).npy\n",
      "Saved: E:\\cs229_project\\train\\video\\preprocessed_fake\\696(1).npy\n",
      "Deleted original file: E:\\cs229_project\\train\\video\\preprocessed_fake\\696.npy\n",
      "Saved: E:\\cs229_project\\train\\video\\preprocessed_fake\\697(0).npy\n",
      "Deleted original file: E:\\cs229_project\\train\\video\\preprocessed_fake\\697.npy\n",
      "Saved: E:\\cs229_project\\train\\video\\preprocessed_fake\\698(0).npy\n"
     ]
    },
    {
     "name": "stderr",
     "output_type": "stream",
     "text": [
      " 92%|█████████▏| 3875/4206 [03:33<00:17, 18.94it/s]"
     ]
    },
    {
     "name": "stdout",
     "output_type": "stream",
     "text": [
      "Deleted original file: E:\\cs229_project\\train\\video\\preprocessed_fake\\698.npy\n",
      "Saved: E:\\cs229_project\\train\\video\\preprocessed_fake\\699(0).npy\n",
      "Deleted original file: E:\\cs229_project\\train\\video\\preprocessed_fake\\699.npy\n",
      "Saved: E:\\cs229_project\\train\\video\\preprocessed_fake\\7(0).npy\n",
      "Deleted original file: E:\\cs229_project\\train\\video\\preprocessed_fake\\7.npy\n",
      "Saved: E:\\cs229_project\\train\\video\\preprocessed_fake\\70(0).npy\n",
      "Saved: E:\\cs229_project\\train\\video\\preprocessed_fake\\70(1).npy\n",
      "Deleted original file: E:\\cs229_project\\train\\video\\preprocessed_fake\\70.npy\n",
      "Saved: E:\\cs229_project\\train\\video\\preprocessed_fake\\700(0).npy\n",
      "Saved: E:\\cs229_project\\train\\video\\preprocessed_fake\\700(1).npy\n"
     ]
    },
    {
     "name": "stderr",
     "output_type": "stream",
     "text": [
      " 92%|█████████▏| 3882/4206 [03:33<00:14, 22.78it/s]"
     ]
    },
    {
     "name": "stdout",
     "output_type": "stream",
     "text": [
      "Saved: E:\\cs229_project\\train\\video\\preprocessed_fake\\700(2).npy\n",
      "Deleted original file: E:\\cs229_project\\train\\video\\preprocessed_fake\\700.npy\n",
      "Saved: E:\\cs229_project\\train\\video\\preprocessed_fake\\701(0).npy\n",
      "Deleted original file: E:\\cs229_project\\train\\video\\preprocessed_fake\\701.npy\n",
      "Saved: E:\\cs229_project\\train\\video\\preprocessed_fake\\702(0).npy\n",
      "Deleted original file: E:\\cs229_project\\train\\video\\preprocessed_fake\\702.npy\n",
      "Saved: E:\\cs229_project\\train\\video\\preprocessed_fake\\703(0).npy\n",
      "Deleted original file: E:\\cs229_project\\train\\video\\preprocessed_fake\\703.npy\n",
      "Saved: E:\\cs229_project\\train\\video\\preprocessed_fake\\704(0).npy\n",
      "Deleted original file: E:\\cs229_project\\train\\video\\preprocessed_fake\\704.npy\n",
      "Saved: E:\\cs229_project\\train\\video\\preprocessed_fake\\705(0).npy\n",
      "Deleted original file: E:\\cs229_project\\train\\video\\preprocessed_fake\\705.npy\n",
      "Saved: E:\\cs229_project\\train\\video\\preprocessed_fake\\706(0).npy\n",
      "Deleted original file: E:\\cs229_project\\train\\video\\preprocessed_fake\\706.npy\n",
      "Saved: E:\\cs229_project\\train\\video\\preprocessed_fake\\707(0).npy\n",
      "Deleted original file: E:\\cs229_project\\train\\video\\preprocessed_fake\\707.npy\n"
     ]
    },
    {
     "name": "stderr",
     "output_type": "stream",
     "text": [
      " 92%|█████████▏| 3885/4206 [03:33<00:13, 23.43it/s]"
     ]
    },
    {
     "name": "stdout",
     "output_type": "stream",
     "text": [
      "Saved: E:\\cs229_project\\train\\video\\preprocessed_fake\\708(0).npy\n",
      "Deleted original file: E:\\cs229_project\\train\\video\\preprocessed_fake\\708.npy\n",
      "Saved: E:\\cs229_project\\train\\video\\preprocessed_fake\\709(0).npy\n",
      "Saved: E:\\cs229_project\\train\\video\\preprocessed_fake\\709(1).npy\n",
      "Deleted original file: E:\\cs229_project\\train\\video\\preprocessed_fake\\709.npy\n",
      "Saved: E:\\cs229_project\\train\\video\\preprocessed_fake\\71(0).npy\n"
     ]
    },
    {
     "name": "stderr",
     "output_type": "stream",
     "text": [
      " 92%|█████████▏| 3888/4206 [03:34<00:19, 16.40it/s]"
     ]
    },
    {
     "name": "stdout",
     "output_type": "stream",
     "text": [
      "Saved: E:\\cs229_project\\train\\video\\preprocessed_fake\\71(1).npy\n",
      "Saved: E:\\cs229_project\\train\\video\\preprocessed_fake\\71(2).npy\n",
      "Saved: E:\\cs229_project\\train\\video\\preprocessed_fake\\71(3).npy\n",
      "Saved: E:\\cs229_project\\train\\video\\preprocessed_fake\\71(4).npy\n",
      "Saved: E:\\cs229_project\\train\\video\\preprocessed_fake\\71(5).npy\n",
      "Saved: E:\\cs229_project\\train\\video\\preprocessed_fake\\71(6).npy\n",
      "Saved: E:\\cs229_project\\train\\video\\preprocessed_fake\\71(7).npy\n",
      "Deleted original file: E:\\cs229_project\\train\\video\\preprocessed_fake\\71.npy\n",
      "Saved: E:\\cs229_project\\train\\video\\preprocessed_fake\\710(0).npy\n",
      "Deleted original file: E:\\cs229_project\\train\\video\\preprocessed_fake\\710.npy\n",
      "Saved: E:\\cs229_project\\train\\video\\preprocessed_fake\\711(0).npy\n",
      "Saved: E:\\cs229_project\\train\\video\\preprocessed_fake\\711(1).npy\n",
      "Deleted original file: E:\\cs229_project\\train\\video\\preprocessed_fake\\711.npy\n",
      "Saved: E:\\cs229_project\\train\\video\\preprocessed_fake\\712(0).npy\n",
      "Deleted original file: E:\\cs229_project\\train\\video\\preprocessed_fake\\712.npy\n",
      "Saved: E:\\cs229_project\\train\\video\\preprocessed_fake\\713(0).npy\n",
      "Deleted original file: E:\\cs229_project\\train\\video\\preprocessed_fake\\713.npy\n"
     ]
    },
    {
     "name": "stderr",
     "output_type": "stream",
     "text": [
      " 93%|█████████▎| 3893/4206 [03:34<00:26, 11.75it/s]"
     ]
    },
    {
     "name": "stdout",
     "output_type": "stream",
     "text": [
      "Saved: E:\\cs229_project\\train\\video\\preprocessed_fake\\714(0).npy\n",
      "Saved: E:\\cs229_project\\train\\video\\preprocessed_fake\\714(1).npy\n",
      "Saved: E:\\cs229_project\\train\\video\\preprocessed_fake\\714(2).npy\n",
      "Deleted original file: E:\\cs229_project\\train\\video\\preprocessed_fake\\714.npy\n",
      "Saved: E:\\cs229_project\\train\\video\\preprocessed_fake\\715(0).npy\n",
      "Saved: E:\\cs229_project\\train\\video\\preprocessed_fake\\715(1).npy\n",
      "Saved: E:\\cs229_project\\train\\video\\preprocessed_fake\\715(2).npy\n",
      "Deleted original file: E:\\cs229_project\\train\\video\\preprocessed_fake\\715.npy\n",
      "Saved: E:\\cs229_project\\train\\video\\preprocessed_fake\\716(0).npy\n",
      "Saved: E:\\cs229_project\\train\\video\\preprocessed_fake\\716(1).npy\n",
      "Deleted original file: E:\\cs229_project\\train\\video\\preprocessed_fake\\716.npy\n"
     ]
    },
    {
     "name": "stderr",
     "output_type": "stream",
     "text": [
      " 93%|█████████▎| 3896/4206 [03:34<00:22, 13.97it/s]"
     ]
    },
    {
     "name": "stdout",
     "output_type": "stream",
     "text": [
      "Saved: E:\\cs229_project\\train\\video\\preprocessed_fake\\717(0).npy\n",
      "Saved: E:\\cs229_project\\train\\video\\preprocessed_fake\\717(1).npy\n",
      "Deleted original file: E:\\cs229_project\\train\\video\\preprocessed_fake\\717.npy\n",
      "Saved: E:\\cs229_project\\train\\video\\preprocessed_fake\\718(0).npy\n",
      "Deleted original file: E:\\cs229_project\\train\\video\\preprocessed_fake\\718.npy\n",
      "Saved: E:\\cs229_project\\train\\video\\preprocessed_fake\\719(0).npy\n",
      "Deleted original file: E:\\cs229_project\\train\\video\\preprocessed_fake\\719.npy\n",
      "Saved: E:\\cs229_project\\train\\video\\preprocessed_fake\\72(0).npy\n",
      "Saved: E:\\cs229_project\\train\\video\\preprocessed_fake\\72(1).npy\n",
      "Saved: E:\\cs229_project\\train\\video\\preprocessed_fake\\72(2).npy\n",
      "Deleted original file: E:\\cs229_project\\train\\video\\preprocessed_fake\\72.npy\n"
     ]
    },
    {
     "name": "stderr",
     "output_type": "stream",
     "text": [
      " 93%|█████████▎| 3900/4206 [03:35<00:23, 13.23it/s]"
     ]
    },
    {
     "name": "stdout",
     "output_type": "stream",
     "text": [
      "Saved: E:\\cs229_project\\train\\video\\preprocessed_fake\\720(0).npy\n",
      "Saved: E:\\cs229_project\\train\\video\\preprocessed_fake\\720(1).npy\n",
      "Saved: E:\\cs229_project\\train\\video\\preprocessed_fake\\720(2).npy\n",
      "Deleted original file: E:\\cs229_project\\train\\video\\preprocessed_fake\\720.npy\n",
      "Saved: E:\\cs229_project\\train\\video\\preprocessed_fake\\721(0).npy\n",
      "Deleted original file: E:\\cs229_project\\train\\video\\preprocessed_fake\\721.npy\n",
      "Saved: E:\\cs229_project\\train\\video\\preprocessed_fake\\722(0).npy\n",
      "Saved: E:\\cs229_project\\train\\video\\preprocessed_fake\\722(1).npy\n",
      "Saved: E:\\cs229_project\\train\\video\\preprocessed_fake\\722(2).npy\n",
      "Saved: E:\\cs229_project\\train\\video\\preprocessed_fake\\722(3).npy\n",
      "Deleted original file: E:\\cs229_project\\train\\video\\preprocessed_fake\\722.npy\n"
     ]
    },
    {
     "name": "stderr",
     "output_type": "stream",
     "text": [
      " 93%|█████████▎| 3903/4206 [03:35<00:20, 14.95it/s]"
     ]
    },
    {
     "name": "stdout",
     "output_type": "stream",
     "text": [
      "Saved: E:\\cs229_project\\train\\video\\preprocessed_fake\\723(0).npy\n",
      "Saved: E:\\cs229_project\\train\\video\\preprocessed_fake\\723(1).npy\n",
      "Deleted original file: E:\\cs229_project\\train\\video\\preprocessed_fake\\723.npy\n",
      "Saved: E:\\cs229_project\\train\\video\\preprocessed_fake\\724(0).npy\n",
      "Deleted original file: E:\\cs229_project\\train\\video\\preprocessed_fake\\724.npy\n",
      "Saved: E:\\cs229_project\\train\\video\\preprocessed_fake\\725(0).npy\n",
      "Saved: E:\\cs229_project\\train\\video\\preprocessed_fake\\725(1).npy\n",
      "Deleted original file: E:\\cs229_project\\train\\video\\preprocessed_fake\\725.npy\n",
      "Saved: E:\\cs229_project\\train\\video\\preprocessed_fake\\726(0).npy\n",
      "Deleted original file: E:\\cs229_project\\train\\video\\preprocessed_fake\\726.npy\n",
      "Saved: E:\\cs229_project\\train\\video\\preprocessed_fake\\727(0).npy\n",
      "Saved: E:\\cs229_project\\train\\video\\preprocessed_fake\\727(1).npy\n"
     ]
    },
    {
     "name": "stderr",
     "output_type": "stream",
     "text": [
      " 93%|█████████▎| 3906/4206 [03:35<00:18, 16.38it/s]"
     ]
    },
    {
     "name": "stdout",
     "output_type": "stream",
     "text": [
      "Deleted original file: E:\\cs229_project\\train\\video\\preprocessed_fake\\727.npy\n",
      "Saved: E:\\cs229_project\\train\\video\\preprocessed_fake\\728(0).npy\n",
      "Saved: E:\\cs229_project\\train\\video\\preprocessed_fake\\728(1).npy\n",
      "Deleted original file: E:\\cs229_project\\train\\video\\preprocessed_fake\\728.npy\n",
      "Saved: E:\\cs229_project\\train\\video\\preprocessed_fake\\729(0).npy\n",
      "Deleted original file: E:\\cs229_project\\train\\video\\preprocessed_fake\\729.npy\n",
      "Saved: E:\\cs229_project\\train\\video\\preprocessed_fake\\73(0).npy\n",
      "Saved: E:\\cs229_project\\train\\video\\preprocessed_fake\\73(1).npy\n"
     ]
    },
    {
     "name": "stderr",
     "output_type": "stream",
     "text": [
      " 93%|█████████▎| 3910/4206 [03:36<00:36,  8.14it/s]"
     ]
    },
    {
     "name": "stdout",
     "output_type": "stream",
     "text": [
      "Saved: E:\\cs229_project\\train\\video\\preprocessed_fake\\73(2).npy\n",
      "Deleted original file: E:\\cs229_project\\train\\video\\preprocessed_fake\\73.npy\n",
      "Saved: E:\\cs229_project\\train\\video\\preprocessed_fake\\730(0).npy\n",
      "Deleted original file: E:\\cs229_project\\train\\video\\preprocessed_fake\\730.npy\n",
      "Saved: E:\\cs229_project\\train\\video\\preprocessed_fake\\731(0).npy\n",
      "Saved: E:\\cs229_project\\train\\video\\preprocessed_fake\\731(1).npy\n",
      "Saved: E:\\cs229_project\\train\\video\\preprocessed_fake\\731(2).npy\n",
      "Saved: E:\\cs229_project\\train\\video\\preprocessed_fake\\731(3).npy\n",
      "Deleted original file: E:\\cs229_project\\train\\video\\preprocessed_fake\\731.npy\n"
     ]
    },
    {
     "name": "stderr",
     "output_type": "stream",
     "text": [
      " 93%|█████████▎| 3916/4206 [03:36<00:22, 12.89it/s]"
     ]
    },
    {
     "name": "stdout",
     "output_type": "stream",
     "text": [
      "Saved: E:\\cs229_project\\train\\video\\preprocessed_fake\\732(0).npy\n",
      "Saved: E:\\cs229_project\\train\\video\\preprocessed_fake\\732(1).npy\n",
      "Saved: E:\\cs229_project\\train\\video\\preprocessed_fake\\732(2).npy\n",
      "Saved: E:\\cs229_project\\train\\video\\preprocessed_fake\\732(3).npy\n",
      "Saved: E:\\cs229_project\\train\\video\\preprocessed_fake\\732(4).npy\n",
      "Deleted original file: E:\\cs229_project\\train\\video\\preprocessed_fake\\732.npy\n",
      "Saved: E:\\cs229_project\\train\\video\\preprocessed_fake\\733(0).npy\n",
      "Deleted original file: E:\\cs229_project\\train\\video\\preprocessed_fake\\733.npy\n",
      "Saved: E:\\cs229_project\\train\\video\\preprocessed_fake\\734(0).npy\n",
      "Deleted original file: E:\\cs229_project\\train\\video\\preprocessed_fake\\734.npy\n",
      "Saved: E:\\cs229_project\\train\\video\\preprocessed_fake\\735(0).npy\n",
      "Deleted original file: E:\\cs229_project\\train\\video\\preprocessed_fake\\735.npy\n",
      "Saved: E:\\cs229_project\\train\\video\\preprocessed_fake\\736(0).npy\n",
      "Deleted original file: E:\\cs229_project\\train\\video\\preprocessed_fake\\736.npy\n",
      "Saved: E:\\cs229_project\\train\\video\\preprocessed_fake\\737(0).npy\n",
      "Deleted original file: E:\\cs229_project\\train\\video\\preprocessed_fake\\737.npy\n"
     ]
    },
    {
     "name": "stderr",
     "output_type": "stream",
     "text": [
      " 93%|█████████▎| 3919/4206 [03:36<00:18, 15.11it/s]"
     ]
    },
    {
     "name": "stdout",
     "output_type": "stream",
     "text": [
      "Saved: E:\\cs229_project\\train\\video\\preprocessed_fake\\738(0).npy\n",
      "Deleted original file: E:\\cs229_project\\train\\video\\preprocessed_fake\\738.npy\n",
      "Saved: E:\\cs229_project\\train\\video\\preprocessed_fake\\739(0).npy\n",
      "Deleted original file: E:\\cs229_project\\train\\video\\preprocessed_fake\\739.npy\n",
      "Saved: E:\\cs229_project\\train\\video\\preprocessed_fake\\74(0).npy\n",
      "Saved: E:\\cs229_project\\train\\video\\preprocessed_fake\\74(1).npy\n",
      "Deleted original file: E:\\cs229_project\\train\\video\\preprocessed_fake\\74.npy\n",
      "Saved: E:\\cs229_project\\train\\video\\preprocessed_fake\\740(0).npy\n",
      "Deleted original file: E:\\cs229_project\\train\\video\\preprocessed_fake\\740.npy\n",
      "Saved: E:\\cs229_project\\train\\video\\preprocessed_fake\\741(0).npy\n",
      "Deleted original file: E:\\cs229_project\\train\\video\\preprocessed_fake\\741.npy\n",
      "Saved: E:\\cs229_project\\train\\video\\preprocessed_fake\\742(0).npy\n",
      "Saved: E:\\cs229_project\\train\\video\\preprocessed_fake\\742(1).npy\n"
     ]
    },
    {
     "name": "stderr",
     "output_type": "stream",
     "text": [
      " 93%|█████████▎| 3922/4206 [03:37<00:21, 12.92it/s]"
     ]
    },
    {
     "name": "stdout",
     "output_type": "stream",
     "text": [
      "Deleted original file: E:\\cs229_project\\train\\video\\preprocessed_fake\\742.npy\n",
      "Saved: E:\\cs229_project\\train\\video\\preprocessed_fake\\743(0).npy\n",
      "Saved: E:\\cs229_project\\train\\video\\preprocessed_fake\\743(1).npy\n",
      "Saved: E:\\cs229_project\\train\\video\\preprocessed_fake\\743(2).npy\n",
      "Deleted original file: E:\\cs229_project\\train\\video\\preprocessed_fake\\743.npy\n",
      "Saved: E:\\cs229_project\\train\\video\\preprocessed_fake\\744(0).npy\n",
      "Saved: E:\\cs229_project\\train\\video\\preprocessed_fake\\744(1).npy\n"
     ]
    },
    {
     "name": "stderr",
     "output_type": "stream",
     "text": [
      " 93%|█████████▎| 3924/4206 [03:37<00:33,  8.45it/s]"
     ]
    },
    {
     "name": "stdout",
     "output_type": "stream",
     "text": [
      "Saved: E:\\cs229_project\\train\\video\\preprocessed_fake\\744(2).npy\n",
      "Saved: E:\\cs229_project\\train\\video\\preprocessed_fake\\744(3).npy\n",
      "Saved: E:\\cs229_project\\train\\video\\preprocessed_fake\\744(4).npy\n",
      "Saved: E:\\cs229_project\\train\\video\\preprocessed_fake\\744(5).npy\n",
      "Saved: E:\\cs229_project\\train\\video\\preprocessed_fake\\744(6).npy\n",
      "Saved: E:\\cs229_project\\train\\video\\preprocessed_fake\\744(7).npy\n",
      "Saved: E:\\cs229_project\\train\\video\\preprocessed_fake\\744(8).npy\n",
      "Saved: E:\\cs229_project\\train\\video\\preprocessed_fake\\744(9).npy\n",
      "Deleted original file: E:\\cs229_project\\train\\video\\preprocessed_fake\\744.npy\n",
      "Saved: E:\\cs229_project\\train\\video\\preprocessed_fake\\745(0).npy\n",
      "Deleted original file: E:\\cs229_project\\train\\video\\preprocessed_fake\\745.npy\n",
      "Saved: E:\\cs229_project\\train\\video\\preprocessed_fake\\746(0).npy\n",
      "Deleted original file: E:\\cs229_project\\train\\video\\preprocessed_fake\\746.npy\n"
     ]
    },
    {
     "name": "stderr",
     "output_type": "stream",
     "text": [
      " 93%|█████████▎| 3927/4206 [03:37<00:25, 11.05it/s]"
     ]
    },
    {
     "name": "stdout",
     "output_type": "stream",
     "text": [
      "Saved: E:\\cs229_project\\train\\video\\preprocessed_fake\\747(0).npy\n",
      "Deleted original file: E:\\cs229_project\\train\\video\\preprocessed_fake\\747.npy\n",
      "Saved: E:\\cs229_project\\train\\video\\preprocessed_fake\\748(0).npy\n",
      "Saved: E:\\cs229_project\\train\\video\\preprocessed_fake\\748(1).npy\n",
      "Deleted original file: E:\\cs229_project\\train\\video\\preprocessed_fake\\748.npy\n",
      "Saved: E:\\cs229_project\\train\\video\\preprocessed_fake\\749(0).npy\n",
      "Deleted original file: E:\\cs229_project\\train\\video\\preprocessed_fake\\749.npy\n"
     ]
    },
    {
     "name": "stderr",
     "output_type": "stream",
     "text": [
      " 94%|█████████▎| 3933/4206 [03:38<00:20, 13.47it/s]"
     ]
    },
    {
     "name": "stdout",
     "output_type": "stream",
     "text": [
      "Saved: E:\\cs229_project\\train\\video\\preprocessed_fake\\75(0).npy\n",
      "Saved: E:\\cs229_project\\train\\video\\preprocessed_fake\\75(1).npy\n",
      "Saved: E:\\cs229_project\\train\\video\\preprocessed_fake\\75(2).npy\n",
      "Saved: E:\\cs229_project\\train\\video\\preprocessed_fake\\75(3).npy\n",
      "Saved: E:\\cs229_project\\train\\video\\preprocessed_fake\\75(4).npy\n",
      "Saved: E:\\cs229_project\\train\\video\\preprocessed_fake\\75(5).npy\n",
      "Saved: E:\\cs229_project\\train\\video\\preprocessed_fake\\75(6).npy\n",
      "Deleted original file: E:\\cs229_project\\train\\video\\preprocessed_fake\\75.npy\n",
      "Saved: E:\\cs229_project\\train\\video\\preprocessed_fake\\750(0).npy\n",
      "Deleted original file: E:\\cs229_project\\train\\video\\preprocessed_fake\\750.npy\n",
      "Saved: E:\\cs229_project\\train\\video\\preprocessed_fake\\751(0).npy\n",
      "Deleted original file: E:\\cs229_project\\train\\video\\preprocessed_fake\\751.npy\n",
      "Saved: E:\\cs229_project\\train\\video\\preprocessed_fake\\752(0).npy\n",
      "Deleted original file: E:\\cs229_project\\train\\video\\preprocessed_fake\\752.npy\n"
     ]
    },
    {
     "name": "stderr",
     "output_type": "stream",
     "text": [
      " 94%|█████████▎| 3937/4206 [03:38<00:15, 17.22it/s]"
     ]
    },
    {
     "name": "stdout",
     "output_type": "stream",
     "text": [
      "Saved: E:\\cs229_project\\train\\video\\preprocessed_fake\\753(0).npy\n",
      "Deleted original file: E:\\cs229_project\\train\\video\\preprocessed_fake\\753.npy\n",
      "Saved: E:\\cs229_project\\train\\video\\preprocessed_fake\\754(0).npy\n",
      "Deleted original file: E:\\cs229_project\\train\\video\\preprocessed_fake\\754.npy\n",
      "Saved: E:\\cs229_project\\train\\video\\preprocessed_fake\\755(0).npy\n",
      "Deleted original file: E:\\cs229_project\\train\\video\\preprocessed_fake\\755.npy\n",
      "Saved: E:\\cs229_project\\train\\video\\preprocessed_fake\\756(0).npy\n",
      "Deleted original file: E:\\cs229_project\\train\\video\\preprocessed_fake\\756.npy\n",
      "Saved: E:\\cs229_project\\train\\video\\preprocessed_fake\\757(0).npy\n",
      "Saved: E:\\cs229_project\\train\\video\\preprocessed_fake\\757(1).npy\n",
      "Deleted original file: E:\\cs229_project\\train\\video\\preprocessed_fake\\757.npy\n"
     ]
    },
    {
     "name": "stderr",
     "output_type": "stream",
     "text": [
      " 94%|█████████▎| 3943/4206 [03:39<00:19, 13.42it/s]"
     ]
    },
    {
     "name": "stdout",
     "output_type": "stream",
     "text": [
      "Saved: E:\\cs229_project\\train\\video\\preprocessed_fake\\758(0).npy\n",
      "Saved: E:\\cs229_project\\train\\video\\preprocessed_fake\\758(1).npy\n",
      "Deleted original file: E:\\cs229_project\\train\\video\\preprocessed_fake\\758.npy\n",
      "Saved: E:\\cs229_project\\train\\video\\preprocessed_fake\\759(0).npy\n",
      "Deleted original file: E:\\cs229_project\\train\\video\\preprocessed_fake\\759.npy\n",
      "Saved: E:\\cs229_project\\train\\video\\preprocessed_fake\\76(0).npy\n",
      "Deleted original file: E:\\cs229_project\\train\\video\\preprocessed_fake\\76.npy\n",
      "Saved: E:\\cs229_project\\train\\video\\preprocessed_fake\\760(0).npy\n",
      "Saved: E:\\cs229_project\\train\\video\\preprocessed_fake\\760(1).npy\n",
      "Deleted original file: E:\\cs229_project\\train\\video\\preprocessed_fake\\760.npy\n",
      "Saved: E:\\cs229_project\\train\\video\\preprocessed_fake\\761(0).npy\n",
      "Deleted original file: E:\\cs229_project\\train\\video\\preprocessed_fake\\761.npy\n",
      "Saved: E:\\cs229_project\\train\\video\\preprocessed_fake\\762(0).npy\n"
     ]
    },
    {
     "name": "stderr",
     "output_type": "stream",
     "text": [
      " 94%|█████████▍| 3946/4206 [03:39<00:16, 15.33it/s]"
     ]
    },
    {
     "name": "stdout",
     "output_type": "stream",
     "text": [
      "Deleted original file: E:\\cs229_project\\train\\video\\preprocessed_fake\\762.npy\n",
      "Saved: E:\\cs229_project\\train\\video\\preprocessed_fake\\763(0).npy\n",
      "Saved: E:\\cs229_project\\train\\video\\preprocessed_fake\\763(1).npy\n",
      "Deleted original file: E:\\cs229_project\\train\\video\\preprocessed_fake\\763.npy\n",
      "Saved: E:\\cs229_project\\train\\video\\preprocessed_fake\\764(0).npy\n",
      "Deleted original file: E:\\cs229_project\\train\\video\\preprocessed_fake\\764.npy\n",
      "Saved: E:\\cs229_project\\train\\video\\preprocessed_fake\\765(0).npy\n",
      "Saved: E:\\cs229_project\\train\\video\\preprocessed_fake\\765(1).npy\n",
      "Saved: E:\\cs229_project\\train\\video\\preprocessed_fake\\765(2).npy\n"
     ]
    },
    {
     "name": "stderr",
     "output_type": "stream",
     "text": [
      " 94%|█████████▍| 3953/4206 [03:39<00:12, 20.27it/s]"
     ]
    },
    {
     "name": "stdout",
     "output_type": "stream",
     "text": [
      "Deleted original file: E:\\cs229_project\\train\\video\\preprocessed_fake\\765.npy\n",
      "Saved: E:\\cs229_project\\train\\video\\preprocessed_fake\\766(0).npy\n",
      "Deleted original file: E:\\cs229_project\\train\\video\\preprocessed_fake\\766.npy\n",
      "Saved: E:\\cs229_project\\train\\video\\preprocessed_fake\\767(0).npy\n",
      "Deleted original file: E:\\cs229_project\\train\\video\\preprocessed_fake\\767.npy\n",
      "Saved: E:\\cs229_project\\train\\video\\preprocessed_fake\\768(0).npy\n",
      "Deleted original file: E:\\cs229_project\\train\\video\\preprocessed_fake\\768.npy\n",
      "Saved: E:\\cs229_project\\train\\video\\preprocessed_fake\\769(0).npy\n",
      "Deleted original file: E:\\cs229_project\\train\\video\\preprocessed_fake\\769.npy\n",
      "Saved: E:\\cs229_project\\train\\video\\preprocessed_fake\\77(0).npy\n",
      "Deleted original file: E:\\cs229_project\\train\\video\\preprocessed_fake\\77.npy\n",
      "Saved: E:\\cs229_project\\train\\video\\preprocessed_fake\\770(0).npy\n",
      "Deleted original file: E:\\cs229_project\\train\\video\\preprocessed_fake\\770.npy\n",
      "Saved: E:\\cs229_project\\train\\video\\preprocessed_fake\\771(0).npy\n",
      "Deleted original file: E:\\cs229_project\\train\\video\\preprocessed_fake\\771.npy\n"
     ]
    },
    {
     "name": "stderr",
     "output_type": "stream",
     "text": [
      " 94%|█████████▍| 3956/4206 [03:39<00:12, 20.27it/s]"
     ]
    },
    {
     "name": "stdout",
     "output_type": "stream",
     "text": [
      "Saved: E:\\cs229_project\\train\\video\\preprocessed_fake\\772(0).npy\n",
      "Saved: E:\\cs229_project\\train\\video\\preprocessed_fake\\772(1).npy\n",
      "Saved: E:\\cs229_project\\train\\video\\preprocessed_fake\\772(2).npy\n",
      "Deleted original file: E:\\cs229_project\\train\\video\\preprocessed_fake\\772.npy\n",
      "Saved: E:\\cs229_project\\train\\video\\preprocessed_fake\\773(0).npy\n",
      "Deleted original file: E:\\cs229_project\\train\\video\\preprocessed_fake\\773.npy\n",
      "Saved: E:\\cs229_project\\train\\video\\preprocessed_fake\\774(0).npy\n",
      "Deleted original file: E:\\cs229_project\\train\\video\\preprocessed_fake\\774.npy\n",
      "Saved: E:\\cs229_project\\train\\video\\preprocessed_fake\\775(0).npy\n",
      "Deleted original file: E:\\cs229_project\\train\\video\\preprocessed_fake\\775.npy\n",
      "Saved: E:\\cs229_project\\train\\video\\preprocessed_fake\\776(0).npy\n",
      "Deleted original file: E:\\cs229_project\\train\\video\\preprocessed_fake\\776.npy\n",
      "Saved: E:\\cs229_project\\train\\video\\preprocessed_fake\\777(0).npy\n",
      "Saved: E:\\cs229_project\\train\\video\\preprocessed_fake\\777(1).npy\n"
     ]
    },
    {
     "name": "stderr",
     "output_type": "stream",
     "text": [
      " 94%|█████████▍| 3960/4206 [03:39<00:11, 22.36it/s]"
     ]
    },
    {
     "name": "stdout",
     "output_type": "stream",
     "text": [
      "Deleted original file: E:\\cs229_project\\train\\video\\preprocessed_fake\\777.npy\n",
      "Saved: E:\\cs229_project\\train\\video\\preprocessed_fake\\778(0).npy\n",
      "Saved: E:\\cs229_project\\train\\video\\preprocessed_fake\\778(1).npy\n",
      "Deleted original file: E:\\cs229_project\\train\\video\\preprocessed_fake\\778.npy\n"
     ]
    },
    {
     "name": "stderr",
     "output_type": "stream",
     "text": [
      " 94%|█████████▍| 3963/4206 [03:40<00:17, 14.00it/s]"
     ]
    },
    {
     "name": "stdout",
     "output_type": "stream",
     "text": [
      "Saved: E:\\cs229_project\\train\\video\\preprocessed_fake\\779(0).npy\n",
      "Deleted original file: E:\\cs229_project\\train\\video\\preprocessed_fake\\779.npy\n",
      "Saved: E:\\cs229_project\\train\\video\\preprocessed_fake\\78(0).npy\n",
      "Saved: E:\\cs229_project\\train\\video\\preprocessed_fake\\78(1).npy\n",
      "Deleted original file: E:\\cs229_project\\train\\video\\preprocessed_fake\\78.npy\n",
      "Saved: E:\\cs229_project\\train\\video\\preprocessed_fake\\780(0).npy\n",
      "Deleted original file: E:\\cs229_project\\train\\video\\preprocessed_fake\\780.npy\n"
     ]
    },
    {
     "name": "stderr",
     "output_type": "stream",
     "text": [
      " 94%|█████████▍| 3969/4206 [03:40<00:13, 17.76it/s]"
     ]
    },
    {
     "name": "stdout",
     "output_type": "stream",
     "text": [
      "Saved: E:\\cs229_project\\train\\video\\preprocessed_fake\\781(0).npy\n",
      "Saved: E:\\cs229_project\\train\\video\\preprocessed_fake\\781(1).npy\n",
      "Deleted original file: E:\\cs229_project\\train\\video\\preprocessed_fake\\781.npy\n",
      "Saved: E:\\cs229_project\\train\\video\\preprocessed_fake\\782(0).npy\n",
      "Deleted original file: E:\\cs229_project\\train\\video\\preprocessed_fake\\782.npy\n",
      "Saved: E:\\cs229_project\\train\\video\\preprocessed_fake\\783(0).npy\n",
      "Deleted original file: E:\\cs229_project\\train\\video\\preprocessed_fake\\783.npy\n",
      "Saved: E:\\cs229_project\\train\\video\\preprocessed_fake\\784(0).npy\n",
      "Saved: E:\\cs229_project\\train\\video\\preprocessed_fake\\784(1).npy\n",
      "Deleted original file: E:\\cs229_project\\train\\video\\preprocessed_fake\\784.npy\n",
      "Saved: E:\\cs229_project\\train\\video\\preprocessed_fake\\785(0).npy\n",
      "Deleted original file: E:\\cs229_project\\train\\video\\preprocessed_fake\\785.npy\n",
      "Saved: E:\\cs229_project\\train\\video\\preprocessed_fake\\786(0).npy\n",
      "Deleted original file: E:\\cs229_project\\train\\video\\preprocessed_fake\\786.npy\n"
     ]
    },
    {
     "name": "stderr",
     "output_type": "stream",
     "text": [
      " 95%|█████████▍| 3975/4206 [03:40<00:11, 20.20it/s]"
     ]
    },
    {
     "name": "stdout",
     "output_type": "stream",
     "text": [
      "Saved: E:\\cs229_project\\train\\video\\preprocessed_fake\\787(0).npy\n",
      "Saved: E:\\cs229_project\\train\\video\\preprocessed_fake\\787(1).npy\n",
      "Saved: E:\\cs229_project\\train\\video\\preprocessed_fake\\787(2).npy\n",
      "Deleted original file: E:\\cs229_project\\train\\video\\preprocessed_fake\\787.npy\n",
      "Saved: E:\\cs229_project\\train\\video\\preprocessed_fake\\788(0).npy\n",
      "Deleted original file: E:\\cs229_project\\train\\video\\preprocessed_fake\\788.npy\n",
      "Saved: E:\\cs229_project\\train\\video\\preprocessed_fake\\789(0).npy\n",
      "Deleted original file: E:\\cs229_project\\train\\video\\preprocessed_fake\\789.npy\n",
      "Saved: E:\\cs229_project\\train\\video\\preprocessed_fake\\79(0).npy\n",
      "Saved: E:\\cs229_project\\train\\video\\preprocessed_fake\\79(1).npy\n",
      "Deleted original file: E:\\cs229_project\\train\\video\\preprocessed_fake\\79.npy\n",
      "Saved: E:\\cs229_project\\train\\video\\preprocessed_fake\\790(0).npy\n",
      "Deleted original file: E:\\cs229_project\\train\\video\\preprocessed_fake\\790.npy\n"
     ]
    },
    {
     "name": "stderr",
     "output_type": "stream",
     "text": [
      " 95%|█████████▍| 3979/4206 [03:40<00:09, 23.09it/s]"
     ]
    },
    {
     "name": "stdout",
     "output_type": "stream",
     "text": [
      "Saved: E:\\cs229_project\\train\\video\\preprocessed_fake\\791(0).npy\n",
      "Deleted original file: E:\\cs229_project\\train\\video\\preprocessed_fake\\791.npy\n",
      "Saved: E:\\cs229_project\\train\\video\\preprocessed_fake\\792(0).npy\n",
      "Deleted original file: E:\\cs229_project\\train\\video\\preprocessed_fake\\792.npy\n",
      "Saved: E:\\cs229_project\\train\\video\\preprocessed_fake\\793(0).npy\n",
      "Deleted original file: E:\\cs229_project\\train\\video\\preprocessed_fake\\793.npy\n",
      "Saved: E:\\cs229_project\\train\\video\\preprocessed_fake\\794(0).npy\n",
      "Deleted original file: E:\\cs229_project\\train\\video\\preprocessed_fake\\794.npy\n",
      "Saved: E:\\cs229_project\\train\\video\\preprocessed_fake\\795(0).npy\n",
      "Deleted original file: E:\\cs229_project\\train\\video\\preprocessed_fake\\795.npy\n",
      "Saved: E:\\cs229_project\\train\\video\\preprocessed_fake\\796(0).npy\n",
      "Deleted original file: E:\\cs229_project\\train\\video\\preprocessed_fake\\796.npy\n",
      "Saved: E:\\cs229_project\\train\\video\\preprocessed_fake\\797(0).npy\n",
      "Deleted original file: E:\\cs229_project\\train\\video\\preprocessed_fake\\797.npy\n"
     ]
    },
    {
     "name": "stderr",
     "output_type": "stream",
     "text": [
      " 95%|█████████▍| 3983/4206 [03:40<00:08, 25.88it/s]"
     ]
    },
    {
     "name": "stdout",
     "output_type": "stream",
     "text": [
      "Saved: E:\\cs229_project\\train\\video\\preprocessed_fake\\798(0).npy\n",
      "Deleted original file: E:\\cs229_project\\train\\video\\preprocessed_fake\\798.npy\n",
      "Saved: E:\\cs229_project\\train\\video\\preprocessed_fake\\799(0).npy\n",
      "Deleted original file: E:\\cs229_project\\train\\video\\preprocessed_fake\\799.npy\n",
      "Saved: E:\\cs229_project\\train\\video\\preprocessed_fake\\8(0).npy\n",
      "Deleted original file: E:\\cs229_project\\train\\video\\preprocessed_fake\\8.npy\n",
      "Saved: E:\\cs229_project\\train\\video\\preprocessed_fake\\80(0).npy\n",
      "Saved: E:\\cs229_project\\train\\video\\preprocessed_fake\\80(1).npy\n",
      "Saved: E:\\cs229_project\\train\\video\\preprocessed_fake\\80(2).npy\n"
     ]
    },
    {
     "name": "stderr",
     "output_type": "stream",
     "text": [
      " 95%|█████████▍| 3986/4206 [03:41<00:11, 19.45it/s]"
     ]
    },
    {
     "name": "stdout",
     "output_type": "stream",
     "text": [
      "Saved: E:\\cs229_project\\train\\video\\preprocessed_fake\\80(3).npy\n",
      "Saved: E:\\cs229_project\\train\\video\\preprocessed_fake\\80(4).npy\n",
      "Saved: E:\\cs229_project\\train\\video\\preprocessed_fake\\80(5).npy\n",
      "Saved: E:\\cs229_project\\train\\video\\preprocessed_fake\\80(6).npy\n",
      "Deleted original file: E:\\cs229_project\\train\\video\\preprocessed_fake\\80.npy\n",
      "Saved: E:\\cs229_project\\train\\video\\preprocessed_fake\\800(0).npy\n",
      "Deleted original file: E:\\cs229_project\\train\\video\\preprocessed_fake\\800.npy\n",
      "Saved: E:\\cs229_project\\train\\video\\preprocessed_fake\\801(0).npy\n",
      "Saved: E:\\cs229_project\\train\\video\\preprocessed_fake\\801(1).npy\n"
     ]
    },
    {
     "name": "stderr",
     "output_type": "stream",
     "text": [
      " 95%|█████████▍| 3993/4206 [03:41<00:13, 15.51it/s]"
     ]
    },
    {
     "name": "stdout",
     "output_type": "stream",
     "text": [
      "Deleted original file: E:\\cs229_project\\train\\video\\preprocessed_fake\\801.npy\n",
      "Saved: E:\\cs229_project\\train\\video\\preprocessed_fake\\802(0).npy\n",
      "Deleted original file: E:\\cs229_project\\train\\video\\preprocessed_fake\\802.npy\n",
      "Saved: E:\\cs229_project\\train\\video\\preprocessed_fake\\803(0).npy\n",
      "Deleted original file: E:\\cs229_project\\train\\video\\preprocessed_fake\\803.npy\n",
      "Saved: E:\\cs229_project\\train\\video\\preprocessed_fake\\804(0).npy\n",
      "Deleted original file: E:\\cs229_project\\train\\video\\preprocessed_fake\\804.npy\n",
      "Saved: E:\\cs229_project\\train\\video\\preprocessed_fake\\805(0).npy\n",
      "Deleted original file: E:\\cs229_project\\train\\video\\preprocessed_fake\\805.npy\n",
      "Saved: E:\\cs229_project\\train\\video\\preprocessed_fake\\806(0).npy\n",
      "Deleted original file: E:\\cs229_project\\train\\video\\preprocessed_fake\\806.npy\n",
      "Saved: E:\\cs229_project\\train\\video\\preprocessed_fake\\807(0).npy\n",
      "Deleted original file: E:\\cs229_project\\train\\video\\preprocessed_fake\\807.npy\n"
     ]
    },
    {
     "name": "stderr",
     "output_type": "stream",
     "text": [
      " 95%|█████████▌| 3997/4206 [03:41<00:11, 18.00it/s]"
     ]
    },
    {
     "name": "stdout",
     "output_type": "stream",
     "text": [
      "Saved: E:\\cs229_project\\train\\video\\preprocessed_fake\\808(0).npy\n",
      "Deleted original file: E:\\cs229_project\\train\\video\\preprocessed_fake\\808.npy\n",
      "Saved: E:\\cs229_project\\train\\video\\preprocessed_fake\\809(0).npy\n",
      "Deleted original file: E:\\cs229_project\\train\\video\\preprocessed_fake\\809.npy\n",
      "Saved: E:\\cs229_project\\train\\video\\preprocessed_fake\\81(0).npy\n",
      "Saved: E:\\cs229_project\\train\\video\\preprocessed_fake\\81(1).npy\n",
      "Deleted original file: E:\\cs229_project\\train\\video\\preprocessed_fake\\81.npy\n",
      "Saved: E:\\cs229_project\\train\\video\\preprocessed_fake\\810(0).npy\n",
      "Saved: E:\\cs229_project\\train\\video\\preprocessed_fake\\810(1).npy\n",
      "Saved: E:\\cs229_project\\train\\video\\preprocessed_fake\\810(2).npy\n",
      "Deleted original file: E:\\cs229_project\\train\\video\\preprocessed_fake\\810.npy\n"
     ]
    },
    {
     "name": "stderr",
     "output_type": "stream",
     "text": [
      " 95%|█████████▌| 4000/4206 [03:42<00:11, 18.38it/s]"
     ]
    },
    {
     "name": "stdout",
     "output_type": "stream",
     "text": [
      "Saved: E:\\cs229_project\\train\\video\\preprocessed_fake\\811(0).npy\n",
      "Deleted original file: E:\\cs229_project\\train\\video\\preprocessed_fake\\811.npy\n",
      "Saved: E:\\cs229_project\\train\\video\\preprocessed_fake\\812(0).npy\n",
      "Deleted original file: E:\\cs229_project\\train\\video\\preprocessed_fake\\812.npy\n",
      "Saved: E:\\cs229_project\\train\\video\\preprocessed_fake\\813(0).npy\n",
      "Saved: E:\\cs229_project\\train\\video\\preprocessed_fake\\813(1).npy\n",
      "Saved: E:\\cs229_project\\train\\video\\preprocessed_fake\\813(2).npy\n",
      "Saved: E:\\cs229_project\\train\\video\\preprocessed_fake\\813(3).npy\n",
      "Deleted original file: E:\\cs229_project\\train\\video\\preprocessed_fake\\813.npy\n"
     ]
    },
    {
     "name": "stderr",
     "output_type": "stream",
     "text": [
      " 95%|█████████▌| 4003/4206 [03:42<00:12, 15.87it/s]"
     ]
    },
    {
     "name": "stdout",
     "output_type": "stream",
     "text": [
      "Saved: E:\\cs229_project\\train\\video\\preprocessed_fake\\814(0).npy\n",
      "Saved: E:\\cs229_project\\train\\video\\preprocessed_fake\\814(1).npy\n",
      "Deleted original file: E:\\cs229_project\\train\\video\\preprocessed_fake\\814.npy\n",
      "Saved: E:\\cs229_project\\train\\video\\preprocessed_fake\\815(0).npy\n",
      "Saved: E:\\cs229_project\\train\\video\\preprocessed_fake\\815(1).npy\n",
      "Deleted original file: E:\\cs229_project\\train\\video\\preprocessed_fake\\815.npy\n",
      "Saved: E:\\cs229_project\\train\\video\\preprocessed_fake\\816(0).npy\n",
      "Deleted original file: E:\\cs229_project\\train\\video\\preprocessed_fake\\816.npy\n",
      "Saved: E:\\cs229_project\\train\\video\\preprocessed_fake\\817(0).npy\n",
      "Deleted original file: E:\\cs229_project\\train\\video\\preprocessed_fake\\817.npy\n",
      "Saved: E:\\cs229_project\\train\\video\\preprocessed_fake\\818(0).npy\n",
      "Deleted original file: E:\\cs229_project\\train\\video\\preprocessed_fake\\818.npy\n"
     ]
    },
    {
     "name": "stderr",
     "output_type": "stream",
     "text": [
      " 95%|█████████▌| 4007/4206 [03:42<00:10, 18.19it/s]"
     ]
    },
    {
     "name": "stdout",
     "output_type": "stream",
     "text": [
      "Saved: E:\\cs229_project\\train\\video\\preprocessed_fake\\819(0).npy\n",
      "Saved: E:\\cs229_project\\train\\video\\preprocessed_fake\\819(1).npy\n",
      "Deleted original file: E:\\cs229_project\\train\\video\\preprocessed_fake\\819.npy\n",
      "Saved: E:\\cs229_project\\train\\video\\preprocessed_fake\\82(0).npy\n",
      "Saved: E:\\cs229_project\\train\\video\\preprocessed_fake\\82(1).npy\n",
      "Saved: E:\\cs229_project\\train\\video\\preprocessed_fake\\82(2).npy\n",
      "Deleted original file: E:\\cs229_project\\train\\video\\preprocessed_fake\\82.npy\n",
      "Saved: E:\\cs229_project\\train\\video\\preprocessed_fake\\820(0).npy\n",
      "Deleted original file: E:\\cs229_project\\train\\video\\preprocessed_fake\\820.npy\n"
     ]
    },
    {
     "name": "stderr",
     "output_type": "stream",
     "text": [
      " 95%|█████████▌| 4010/4206 [03:42<00:16, 11.65it/s]"
     ]
    },
    {
     "name": "stdout",
     "output_type": "stream",
     "text": [
      "Saved: E:\\cs229_project\\train\\video\\preprocessed_fake\\821(0).npy\n",
      "Deleted original file: E:\\cs229_project\\train\\video\\preprocessed_fake\\821.npy\n",
      "Saved: E:\\cs229_project\\train\\video\\preprocessed_fake\\822(0).npy\n",
      "Saved: E:\\cs229_project\\train\\video\\preprocessed_fake\\822(1).npy\n",
      "Saved: E:\\cs229_project\\train\\video\\preprocessed_fake\\822(2).npy\n",
      "Saved: E:\\cs229_project\\train\\video\\preprocessed_fake\\822(3).npy\n",
      "Saved: E:\\cs229_project\\train\\video\\preprocessed_fake\\822(4).npy\n",
      "Saved: E:\\cs229_project\\train\\video\\preprocessed_fake\\822(5).npy\n",
      "Deleted original file: E:\\cs229_project\\train\\video\\preprocessed_fake\\822.npy\n"
     ]
    },
    {
     "name": "stderr",
     "output_type": "stream",
     "text": [
      " 95%|█████████▌| 4012/4206 [03:43<00:17, 11.12it/s]"
     ]
    },
    {
     "name": "stdout",
     "output_type": "stream",
     "text": [
      "Saved: E:\\cs229_project\\train\\video\\preprocessed_fake\\823(0).npy\n",
      "Deleted original file: E:\\cs229_project\\train\\video\\preprocessed_fake\\823.npy\n",
      "Saved: E:\\cs229_project\\train\\video\\preprocessed_fake\\824(0).npy\n",
      "Saved: E:\\cs229_project\\train\\video\\preprocessed_fake\\824(1).npy\n",
      "Deleted original file: E:\\cs229_project\\train\\video\\preprocessed_fake\\824.npy\n",
      "Saved: E:\\cs229_project\\train\\video\\preprocessed_fake\\825(0).npy\n",
      "Deleted original file: E:\\cs229_project\\train\\video\\preprocessed_fake\\825.npy\n",
      "Saved: E:\\cs229_project\\train\\video\\preprocessed_fake\\826(0).npy\n",
      "Saved: E:\\cs229_project\\train\\video\\preprocessed_fake\\826(1).npy\n"
     ]
    },
    {
     "name": "stderr",
     "output_type": "stream",
     "text": [
      " 95%|█████████▌| 4015/4206 [03:43<00:16, 11.60it/s]"
     ]
    },
    {
     "name": "stdout",
     "output_type": "stream",
     "text": [
      "Saved: E:\\cs229_project\\train\\video\\preprocessed_fake\\826(2).npy\n",
      "Saved: E:\\cs229_project\\train\\video\\preprocessed_fake\\826(3).npy\n",
      "Saved: E:\\cs229_project\\train\\video\\preprocessed_fake\\826(4).npy\n",
      "Deleted original file: E:\\cs229_project\\train\\video\\preprocessed_fake\\826.npy\n",
      "Saved: E:\\cs229_project\\train\\video\\preprocessed_fake\\827(0).npy\n",
      "Saved: E:\\cs229_project\\train\\video\\preprocessed_fake\\827(1).npy\n",
      "Saved: E:\\cs229_project\\train\\video\\preprocessed_fake\\827(2).npy\n",
      "Saved: E:\\cs229_project\\train\\video\\preprocessed_fake\\827(3).npy\n",
      "Saved: E:\\cs229_project\\train\\video\\preprocessed_fake\\827(4).npy\n",
      "Deleted original file: E:\\cs229_project\\train\\video\\preprocessed_fake\\827.npy\n"
     ]
    },
    {
     "name": "stderr",
     "output_type": "stream",
     "text": [
      " 96%|█████████▌| 4021/4206 [03:43<00:12, 14.74it/s]"
     ]
    },
    {
     "name": "stdout",
     "output_type": "stream",
     "text": [
      "Saved: E:\\cs229_project\\train\\video\\preprocessed_fake\\828(0).npy\n",
      "Deleted original file: E:\\cs229_project\\train\\video\\preprocessed_fake\\828.npy\n",
      "Saved: E:\\cs229_project\\train\\video\\preprocessed_fake\\829(0).npy\n",
      "Deleted original file: E:\\cs229_project\\train\\video\\preprocessed_fake\\829.npy\n",
      "Saved: E:\\cs229_project\\train\\video\\preprocessed_fake\\83(0).npy\n",
      "Deleted original file: E:\\cs229_project\\train\\video\\preprocessed_fake\\83.npy\n",
      "Saved: E:\\cs229_project\\train\\video\\preprocessed_fake\\830(0).npy\n",
      "Deleted original file: E:\\cs229_project\\train\\video\\preprocessed_fake\\830.npy\n",
      "Saved: E:\\cs229_project\\train\\video\\preprocessed_fake\\831(0).npy\n",
      "Saved: E:\\cs229_project\\train\\video\\preprocessed_fake\\831(1).npy\n",
      "Deleted original file: E:\\cs229_project\\train\\video\\preprocessed_fake\\831.npy\n",
      "Saved: E:\\cs229_project\\train\\video\\preprocessed_fake\\832(0).npy\n",
      "Saved: E:\\cs229_project\\train\\video\\preprocessed_fake\\832(1).npy\n",
      "Saved: E:\\cs229_project\\train\\video\\preprocessed_fake\\832(2).npy\n",
      "Deleted original file: E:\\cs229_project\\train\\video\\preprocessed_fake\\832.npy\n"
     ]
    },
    {
     "name": "stderr",
     "output_type": "stream",
     "text": [
      " 96%|█████████▌| 4027/4206 [03:44<00:13, 13.11it/s]"
     ]
    },
    {
     "name": "stdout",
     "output_type": "stream",
     "text": [
      "Saved: E:\\cs229_project\\train\\video\\preprocessed_fake\\833(0).npy\n",
      "Saved: E:\\cs229_project\\train\\video\\preprocessed_fake\\833(1).npy\n",
      "Saved: E:\\cs229_project\\train\\video\\preprocessed_fake\\833(2).npy\n",
      "Deleted original file: E:\\cs229_project\\train\\video\\preprocessed_fake\\833.npy\n",
      "Saved: E:\\cs229_project\\train\\video\\preprocessed_fake\\834(0).npy\n",
      "Deleted original file: E:\\cs229_project\\train\\video\\preprocessed_fake\\834.npy\n",
      "Saved: E:\\cs229_project\\train\\video\\preprocessed_fake\\835(0).npy\n",
      "Deleted original file: E:\\cs229_project\\train\\video\\preprocessed_fake\\835.npy\n",
      "Saved: E:\\cs229_project\\train\\video\\preprocessed_fake\\836(0).npy\n",
      "Deleted original file: E:\\cs229_project\\train\\video\\preprocessed_fake\\836.npy\n",
      "Saved: E:\\cs229_project\\train\\video\\preprocessed_fake\\837(0).npy\n",
      "Deleted original file: E:\\cs229_project\\train\\video\\preprocessed_fake\\837.npy\n",
      "Saved: E:\\cs229_project\\train\\video\\preprocessed_fake\\838(0).npy\n",
      "Deleted original file: E:\\cs229_project\\train\\video\\preprocessed_fake\\838.npy\n"
     ]
    },
    {
     "name": "stderr",
     "output_type": "stream",
     "text": [
      " 96%|█████████▌| 4033/4206 [03:44<00:10, 16.49it/s]"
     ]
    },
    {
     "name": "stdout",
     "output_type": "stream",
     "text": [
      "Saved: E:\\cs229_project\\train\\video\\preprocessed_fake\\839(0).npy\n",
      "Saved: E:\\cs229_project\\train\\video\\preprocessed_fake\\839(1).npy\n",
      "Deleted original file: E:\\cs229_project\\train\\video\\preprocessed_fake\\839.npy\n",
      "Saved: E:\\cs229_project\\train\\video\\preprocessed_fake\\84(0).npy\n",
      "Deleted original file: E:\\cs229_project\\train\\video\\preprocessed_fake\\84.npy\n",
      "Saved: E:\\cs229_project\\train\\video\\preprocessed_fake\\840(0).npy\n",
      "Deleted original file: E:\\cs229_project\\train\\video\\preprocessed_fake\\840.npy\n",
      "Saved: E:\\cs229_project\\train\\video\\preprocessed_fake\\841(0).npy\n",
      "Deleted original file: E:\\cs229_project\\train\\video\\preprocessed_fake\\841.npy\n",
      "Saved: E:\\cs229_project\\train\\video\\preprocessed_fake\\842(0).npy\n",
      "Saved: E:\\cs229_project\\train\\video\\preprocessed_fake\\842(1).npy\n",
      "Saved: E:\\cs229_project\\train\\video\\preprocessed_fake\\842(2).npy\n",
      "Deleted original file: E:\\cs229_project\\train\\video\\preprocessed_fake\\842.npy\n"
     ]
    },
    {
     "name": "stderr",
     "output_type": "stream",
     "text": [
      " 96%|█████████▌| 4036/4206 [03:44<00:10, 16.37it/s]"
     ]
    },
    {
     "name": "stdout",
     "output_type": "stream",
     "text": [
      "Saved: E:\\cs229_project\\train\\video\\preprocessed_fake\\843(0).npy\n",
      "Saved: E:\\cs229_project\\train\\video\\preprocessed_fake\\843(1).npy\n",
      "Deleted original file: E:\\cs229_project\\train\\video\\preprocessed_fake\\843.npy\n",
      "Saved: E:\\cs229_project\\train\\video\\preprocessed_fake\\844(0).npy\n",
      "Saved: E:\\cs229_project\\train\\video\\preprocessed_fake\\844(1).npy\n",
      "Deleted original file: E:\\cs229_project\\train\\video\\preprocessed_fake\\844.npy\n",
      "Saved: E:\\cs229_project\\train\\video\\preprocessed_fake\\845(0).npy\n",
      "Saved: E:\\cs229_project\\train\\video\\preprocessed_fake\\845(1).npy\n",
      "Deleted original file: E:\\cs229_project\\train\\video\\preprocessed_fake\\845.npy\n",
      "Saved: E:\\cs229_project\\train\\video\\preprocessed_fake\\846(0).npy\n",
      "Deleted original file: E:\\cs229_project\\train\\video\\preprocessed_fake\\846.npy\n",
      "Saved: E:\\cs229_project\\train\\video\\preprocessed_fake\\847(0).npy\n",
      "Deleted original file: E:\\cs229_project\\train\\video\\preprocessed_fake\\847.npy\n"
     ]
    },
    {
     "name": "stderr",
     "output_type": "stream",
     "text": [
      " 96%|█████████▌| 4040/4206 [03:45<00:10, 15.25it/s]"
     ]
    },
    {
     "name": "stdout",
     "output_type": "stream",
     "text": [
      "Saved: E:\\cs229_project\\train\\video\\preprocessed_fake\\848(0).npy\n",
      "Deleted original file: E:\\cs229_project\\train\\video\\preprocessed_fake\\848.npy\n",
      "Saved: E:\\cs229_project\\train\\video\\preprocessed_fake\\849(0).npy\n",
      "Saved: E:\\cs229_project\\train\\video\\preprocessed_fake\\849(1).npy\n",
      "Saved: E:\\cs229_project\\train\\video\\preprocessed_fake\\849(2).npy\n",
      "Saved: E:\\cs229_project\\train\\video\\preprocessed_fake\\849(3).npy\n",
      "Saved: E:\\cs229_project\\train\\video\\preprocessed_fake\\849(4).npy\n",
      "Saved: E:\\cs229_project\\train\\video\\preprocessed_fake\\849(5).npy\n",
      "Saved: E:\\cs229_project\\train\\video\\preprocessed_fake\\849(6).npy\n",
      "Deleted original file: E:\\cs229_project\\train\\video\\preprocessed_fake\\849.npy\n",
      "Saved: E:\\cs229_project\\train\\video\\preprocessed_fake\\85(0).npy\n",
      "Saved: E:\\cs229_project\\train\\video\\preprocessed_fake\\85(1).npy\n",
      "Deleted original file: E:\\cs229_project\\train\\video\\preprocessed_fake\\85.npy\n"
     ]
    },
    {
     "name": "stderr",
     "output_type": "stream",
     "text": [
      " 96%|█████████▌| 4042/4206 [03:45<00:18,  8.71it/s]"
     ]
    },
    {
     "name": "stdout",
     "output_type": "stream",
     "text": [
      "Saved: E:\\cs229_project\\train\\video\\preprocessed_fake\\850(0).npy\n",
      "Saved: E:\\cs229_project\\train\\video\\preprocessed_fake\\850(1).npy\n",
      "Saved: E:\\cs229_project\\train\\video\\preprocessed_fake\\850(2).npy\n",
      "Saved: E:\\cs229_project\\train\\video\\preprocessed_fake\\850(3).npy\n",
      "Saved: E:\\cs229_project\\train\\video\\preprocessed_fake\\850(4).npy\n",
      "Saved: E:\\cs229_project\\train\\video\\preprocessed_fake\\850(5).npy\n",
      "Saved: E:\\cs229_project\\train\\video\\preprocessed_fake\\850(6).npy\n",
      "Deleted original file: E:\\cs229_project\\train\\video\\preprocessed_fake\\850.npy\n"
     ]
    },
    {
     "name": "stderr",
     "output_type": "stream",
     "text": [
      " 96%|█████████▌| 4044/4206 [03:45<00:17,  9.02it/s]"
     ]
    },
    {
     "name": "stdout",
     "output_type": "stream",
     "text": [
      "Saved: E:\\cs229_project\\train\\video\\preprocessed_fake\\851(0).npy\n",
      "Saved: E:\\cs229_project\\train\\video\\preprocessed_fake\\851(1).npy\n",
      "Saved: E:\\cs229_project\\train\\video\\preprocessed_fake\\851(2).npy\n",
      "Saved: E:\\cs229_project\\train\\video\\preprocessed_fake\\851(3).npy\n",
      "Saved: E:\\cs229_project\\train\\video\\preprocessed_fake\\851(4).npy\n",
      "Deleted original file: E:\\cs229_project\\train\\video\\preprocessed_fake\\851.npy\n",
      "Saved: E:\\cs229_project\\train\\video\\preprocessed_fake\\852(0).npy\n",
      "Deleted original file: E:\\cs229_project\\train\\video\\preprocessed_fake\\852.npy\n",
      "Saved: E:\\cs229_project\\train\\video\\preprocessed_fake\\853(0).npy\n",
      "Saved: E:\\cs229_project\\train\\video\\preprocessed_fake\\853(1).npy\n",
      "Deleted original file: E:\\cs229_project\\train\\video\\preprocessed_fake\\853.npy\n"
     ]
    },
    {
     "name": "stderr",
     "output_type": "stream",
     "text": [
      " 96%|█████████▌| 4046/4206 [03:46<00:16,  9.53it/s]"
     ]
    },
    {
     "name": "stdout",
     "output_type": "stream",
     "text": [
      "Saved: E:\\cs229_project\\train\\video\\preprocessed_fake\\854(0).npy\n",
      "Saved: E:\\cs229_project\\train\\video\\preprocessed_fake\\854(1).npy\n",
      "Saved: E:\\cs229_project\\train\\video\\preprocessed_fake\\854(2).npy\n",
      "Saved: E:\\cs229_project\\train\\video\\preprocessed_fake\\854(3).npy\n",
      "Deleted original file: E:\\cs229_project\\train\\video\\preprocessed_fake\\854.npy\n",
      "Saved: E:\\cs229_project\\train\\video\\preprocessed_fake\\855(0).npy\n",
      "Deleted original file: E:\\cs229_project\\train\\video\\preprocessed_fake\\855.npy\n",
      "Saved: E:\\cs229_project\\train\\video\\preprocessed_fake\\856(0).npy\n",
      "Deleted original file: E:\\cs229_project\\train\\video\\preprocessed_fake\\856.npy\n",
      "Saved: E:\\cs229_project\\train\\video\\preprocessed_fake\\857(0).npy\n",
      "Saved: E:\\cs229_project\\train\\video\\preprocessed_fake\\857(1).npy\n"
     ]
    },
    {
     "name": "stderr",
     "output_type": "stream",
     "text": [
      " 96%|█████████▋| 4053/4206 [03:46<00:10, 14.13it/s]"
     ]
    },
    {
     "name": "stdout",
     "output_type": "stream",
     "text": [
      "Saved: E:\\cs229_project\\train\\video\\preprocessed_fake\\857(2).npy\n",
      "Saved: E:\\cs229_project\\train\\video\\preprocessed_fake\\857(3).npy\n",
      "Saved: E:\\cs229_project\\train\\video\\preprocessed_fake\\857(4).npy\n",
      "Deleted original file: E:\\cs229_project\\train\\video\\preprocessed_fake\\857.npy\n",
      "Saved: E:\\cs229_project\\train\\video\\preprocessed_fake\\858(0).npy\n",
      "Deleted original file: E:\\cs229_project\\train\\video\\preprocessed_fake\\858.npy\n",
      "Saved: E:\\cs229_project\\train\\video\\preprocessed_fake\\859(0).npy\n",
      "Deleted original file: E:\\cs229_project\\train\\video\\preprocessed_fake\\859.npy\n",
      "Saved: E:\\cs229_project\\train\\video\\preprocessed_fake\\86(0).npy\n",
      "Deleted original file: E:\\cs229_project\\train\\video\\preprocessed_fake\\86.npy\n",
      "Saved: E:\\cs229_project\\train\\video\\preprocessed_fake\\860(0).npy\n",
      "Saved: E:\\cs229_project\\train\\video\\preprocessed_fake\\860(1).npy\n",
      "Deleted original file: E:\\cs229_project\\train\\video\\preprocessed_fake\\860.npy\n"
     ]
    },
    {
     "name": "stderr",
     "output_type": "stream",
     "text": [
      " 96%|█████████▋| 4057/4206 [03:46<00:08, 17.93it/s]"
     ]
    },
    {
     "name": "stdout",
     "output_type": "stream",
     "text": [
      "Saved: E:\\cs229_project\\train\\video\\preprocessed_fake\\861(0).npy\n",
      "Deleted original file: E:\\cs229_project\\train\\video\\preprocessed_fake\\861.npy\n",
      "Saved: E:\\cs229_project\\train\\video\\preprocessed_fake\\862(0).npy\n",
      "Deleted original file: E:\\cs229_project\\train\\video\\preprocessed_fake\\862.npy\n",
      "Saved: E:\\cs229_project\\train\\video\\preprocessed_fake\\863(0).npy\n",
      "Deleted original file: E:\\cs229_project\\train\\video\\preprocessed_fake\\863.npy\n",
      "Saved: E:\\cs229_project\\train\\video\\preprocessed_fake\\864(0).npy\n",
      "Deleted original file: E:\\cs229_project\\train\\video\\preprocessed_fake\\864.npy\n",
      "Saved: E:\\cs229_project\\train\\video\\preprocessed_fake\\865(0).npy\n"
     ]
    },
    {
     "name": "stderr",
     "output_type": "stream",
     "text": [
      " 97%|█████████▋| 4062/4206 [03:47<00:11, 12.40it/s]"
     ]
    },
    {
     "name": "stdout",
     "output_type": "stream",
     "text": [
      "Saved: E:\\cs229_project\\train\\video\\preprocessed_fake\\865(1).npy\n",
      "Deleted original file: E:\\cs229_project\\train\\video\\preprocessed_fake\\865.npy\n",
      "Saved: E:\\cs229_project\\train\\video\\preprocessed_fake\\866(0).npy\n",
      "Deleted original file: E:\\cs229_project\\train\\video\\preprocessed_fake\\866.npy\n",
      "Saved: E:\\cs229_project\\train\\video\\preprocessed_fake\\867(0).npy\n",
      "Deleted original file: E:\\cs229_project\\train\\video\\preprocessed_fake\\867.npy\n",
      "Saved: E:\\cs229_project\\train\\video\\preprocessed_fake\\868(0).npy\n",
      "Saved: E:\\cs229_project\\train\\video\\preprocessed_fake\\868(1).npy\n",
      "Deleted original file: E:\\cs229_project\\train\\video\\preprocessed_fake\\868.npy\n",
      "Saved: E:\\cs229_project\\train\\video\\preprocessed_fake\\869(0).npy\n",
      "Saved: E:\\cs229_project\\train\\video\\preprocessed_fake\\869(1).npy\n",
      "Deleted original file: E:\\cs229_project\\train\\video\\preprocessed_fake\\869.npy\n"
     ]
    },
    {
     "name": "stderr",
     "output_type": "stream",
     "text": [
      " 97%|█████████▋| 4066/4206 [03:47<00:08, 16.30it/s]"
     ]
    },
    {
     "name": "stdout",
     "output_type": "stream",
     "text": [
      "Saved: E:\\cs229_project\\train\\video\\preprocessed_fake\\87(0).npy\n",
      "Deleted original file: E:\\cs229_project\\train\\video\\preprocessed_fake\\87.npy\n",
      "Saved: E:\\cs229_project\\train\\video\\preprocessed_fake\\870(0).npy\n",
      "Deleted original file: E:\\cs229_project\\train\\video\\preprocessed_fake\\870.npy\n",
      "Saved: E:\\cs229_project\\train\\video\\preprocessed_fake\\871(0).npy\n",
      "Deleted original file: E:\\cs229_project\\train\\video\\preprocessed_fake\\871.npy\n",
      "Saved: E:\\cs229_project\\train\\video\\preprocessed_fake\\872(0).npy\n",
      "Deleted original file: E:\\cs229_project\\train\\video\\preprocessed_fake\\872.npy\n",
      "Saved: E:\\cs229_project\\train\\video\\preprocessed_fake\\873(0).npy\n",
      "Saved: E:\\cs229_project\\train\\video\\preprocessed_fake\\873(1).npy\n",
      "Saved: E:\\cs229_project\\train\\video\\preprocessed_fake\\873(2).npy\n",
      "Deleted original file: E:\\cs229_project\\train\\video\\preprocessed_fake\\873.npy\n"
     ]
    },
    {
     "name": "stderr",
     "output_type": "stream",
     "text": [
      " 97%|█████████▋| 4073/4206 [03:47<00:06, 20.17it/s]"
     ]
    },
    {
     "name": "stdout",
     "output_type": "stream",
     "text": [
      "Saved: E:\\cs229_project\\train\\video\\preprocessed_fake\\874(0).npy\n",
      "Saved: E:\\cs229_project\\train\\video\\preprocessed_fake\\874(1).npy\n",
      "Deleted original file: E:\\cs229_project\\train\\video\\preprocessed_fake\\874.npy\n",
      "Saved: E:\\cs229_project\\train\\video\\preprocessed_fake\\875(0).npy\n",
      "Deleted original file: E:\\cs229_project\\train\\video\\preprocessed_fake\\875.npy\n",
      "Saved: E:\\cs229_project\\train\\video\\preprocessed_fake\\876(0).npy\n",
      "Deleted original file: E:\\cs229_project\\train\\video\\preprocessed_fake\\876.npy\n",
      "Saved: E:\\cs229_project\\train\\video\\preprocessed_fake\\877(0).npy\n",
      "Deleted original file: E:\\cs229_project\\train\\video\\preprocessed_fake\\877.npy\n",
      "Saved: E:\\cs229_project\\train\\video\\preprocessed_fake\\878(0).npy\n",
      "Deleted original file: E:\\cs229_project\\train\\video\\preprocessed_fake\\878.npy\n",
      "Saved: E:\\cs229_project\\train\\video\\preprocessed_fake\\879(0).npy\n",
      "Deleted original file: E:\\cs229_project\\train\\video\\preprocessed_fake\\879.npy\n",
      "Saved: E:\\cs229_project\\train\\video\\preprocessed_fake\\88(0).npy\n",
      "Deleted original file: E:\\cs229_project\\train\\video\\preprocessed_fake\\88.npy\n"
     ]
    },
    {
     "name": "stderr",
     "output_type": "stream",
     "text": [
      " 97%|█████████▋| 4077/4206 [03:47<00:05, 22.16it/s]"
     ]
    },
    {
     "name": "stdout",
     "output_type": "stream",
     "text": [
      "Saved: E:\\cs229_project\\train\\video\\preprocessed_fake\\880(0).npy\n",
      "Deleted original file: E:\\cs229_project\\train\\video\\preprocessed_fake\\880.npy\n",
      "Saved: E:\\cs229_project\\train\\video\\preprocessed_fake\\881(0).npy\n",
      "Deleted original file: E:\\cs229_project\\train\\video\\preprocessed_fake\\881.npy\n",
      "Saved: E:\\cs229_project\\train\\video\\preprocessed_fake\\882(0).npy\n",
      "Saved: E:\\cs229_project\\train\\video\\preprocessed_fake\\882(1).npy\n",
      "Deleted original file: E:\\cs229_project\\train\\video\\preprocessed_fake\\882.npy\n",
      "Saved: E:\\cs229_project\\train\\video\\preprocessed_fake\\883(0).npy\n",
      "Deleted original file: E:\\cs229_project\\train\\video\\preprocessed_fake\\883.npy\n",
      "Saved: E:\\cs229_project\\train\\video\\preprocessed_fake\\884(0).npy\n",
      "Saved: E:\\cs229_project\\train\\video\\preprocessed_fake\\884(1).npy\n",
      "Deleted original file: E:\\cs229_project\\train\\video\\preprocessed_fake\\884.npy\n"
     ]
    },
    {
     "name": "stderr",
     "output_type": "stream",
     "text": [
      " 97%|█████████▋| 4083/4206 [03:47<00:05, 22.95it/s]"
     ]
    },
    {
     "name": "stdout",
     "output_type": "stream",
     "text": [
      "Saved: E:\\cs229_project\\train\\video\\preprocessed_fake\\885(0).npy\n",
      "Deleted original file: E:\\cs229_project\\train\\video\\preprocessed_fake\\885.npy\n",
      "Saved: E:\\cs229_project\\train\\video\\preprocessed_fake\\886(0).npy\n",
      "Deleted original file: E:\\cs229_project\\train\\video\\preprocessed_fake\\886.npy\n",
      "Saved: E:\\cs229_project\\train\\video\\preprocessed_fake\\887(0).npy\n",
      "Deleted original file: E:\\cs229_project\\train\\video\\preprocessed_fake\\887.npy\n",
      "Saved: E:\\cs229_project\\train\\video\\preprocessed_fake\\888(0).npy\n",
      "Deleted original file: E:\\cs229_project\\train\\video\\preprocessed_fake\\888.npy\n"
     ]
    },
    {
     "name": "stderr",
     "output_type": "stream",
     "text": [
      " 97%|█████████▋| 4086/4206 [03:48<00:06, 17.74it/s]"
     ]
    },
    {
     "name": "stdout",
     "output_type": "stream",
     "text": [
      "Saved: E:\\cs229_project\\train\\video\\preprocessed_fake\\889(0).npy\n",
      "Deleted original file: E:\\cs229_project\\train\\video\\preprocessed_fake\\889.npy\n",
      "Saved: E:\\cs229_project\\train\\video\\preprocessed_fake\\89(0).npy\n",
      "Deleted original file: E:\\cs229_project\\train\\video\\preprocessed_fake\\89.npy\n",
      "Saved: E:\\cs229_project\\train\\video\\preprocessed_fake\\890(0).npy\n",
      "Deleted original file: E:\\cs229_project\\train\\video\\preprocessed_fake\\890.npy\n",
      "Saved: E:\\cs229_project\\train\\video\\preprocessed_fake\\891(0).npy\n",
      "Saved: E:\\cs229_project\\train\\video\\preprocessed_fake\\891(1).npy\n",
      "Deleted original file: E:\\cs229_project\\train\\video\\preprocessed_fake\\891.npy\n",
      "Saved: E:\\cs229_project\\train\\video\\preprocessed_fake\\892(0).npy\n",
      "Deleted original file: E:\\cs229_project\\train\\video\\preprocessed_fake\\892.npy\n"
     ]
    },
    {
     "name": "stderr",
     "output_type": "stream",
     "text": [
      " 97%|█████████▋| 4092/4206 [03:48<00:05, 21.64it/s]"
     ]
    },
    {
     "name": "stdout",
     "output_type": "stream",
     "text": [
      "Saved: E:\\cs229_project\\train\\video\\preprocessed_fake\\893(0).npy\n",
      "Deleted original file: E:\\cs229_project\\train\\video\\preprocessed_fake\\893.npy\n",
      "Saved: E:\\cs229_project\\train\\video\\preprocessed_fake\\894(0).npy\n",
      "Deleted original file: E:\\cs229_project\\train\\video\\preprocessed_fake\\894.npy\n",
      "Saved: E:\\cs229_project\\train\\video\\preprocessed_fake\\895(0).npy\n",
      "Deleted original file: E:\\cs229_project\\train\\video\\preprocessed_fake\\895.npy\n",
      "Saved: E:\\cs229_project\\train\\video\\preprocessed_fake\\896(0).npy\n",
      "Deleted original file: E:\\cs229_project\\train\\video\\preprocessed_fake\\896.npy\n",
      "Saved: E:\\cs229_project\\train\\video\\preprocessed_fake\\897(0).npy\n",
      "Deleted original file: E:\\cs229_project\\train\\video\\preprocessed_fake\\897.npy\n",
      "Saved: E:\\cs229_project\\train\\video\\preprocessed_fake\\898(0).npy\n",
      "Deleted original file: E:\\cs229_project\\train\\video\\preprocessed_fake\\898.npy\n",
      "Saved: E:\\cs229_project\\train\\video\\preprocessed_fake\\899(0).npy\n",
      "Deleted original file: E:\\cs229_project\\train\\video\\preprocessed_fake\\899.npy\n"
     ]
    },
    {
     "name": "stderr",
     "output_type": "stream",
     "text": [
      " 97%|█████████▋| 4100/4206 [03:48<00:04, 24.24it/s]"
     ]
    },
    {
     "name": "stdout",
     "output_type": "stream",
     "text": [
      "Saved: E:\\cs229_project\\train\\video\\preprocessed_fake\\9(0).npy\n",
      "Saved: E:\\cs229_project\\train\\video\\preprocessed_fake\\9(1).npy\n",
      "Deleted original file: E:\\cs229_project\\train\\video\\preprocessed_fake\\9.npy\n",
      "Saved: E:\\cs229_project\\train\\video\\preprocessed_fake\\90(0).npy\n",
      "Deleted original file: E:\\cs229_project\\train\\video\\preprocessed_fake\\90.npy\n",
      "Saved: E:\\cs229_project\\train\\video\\preprocessed_fake\\900(0).npy\n",
      "Deleted original file: E:\\cs229_project\\train\\video\\preprocessed_fake\\900.npy\n",
      "Saved: E:\\cs229_project\\train\\video\\preprocessed_fake\\901(0).npy\n",
      "Deleted original file: E:\\cs229_project\\train\\video\\preprocessed_fake\\901.npy\n",
      "Saved: E:\\cs229_project\\train\\video\\preprocessed_fake\\902(0).npy\n",
      "Saved: E:\\cs229_project\\train\\video\\preprocessed_fake\\902(1).npy\n",
      "Deleted original file: E:\\cs229_project\\train\\video\\preprocessed_fake\\902.npy\n",
      "Saved: E:\\cs229_project\\train\\video\\preprocessed_fake\\903(0).npy\n",
      "Deleted original file: E:\\cs229_project\\train\\video\\preprocessed_fake\\903.npy\n"
     ]
    },
    {
     "name": "stderr",
     "output_type": "stream",
     "text": [
      " 98%|█████████▊| 4107/4206 [03:49<00:03, 26.01it/s]"
     ]
    },
    {
     "name": "stdout",
     "output_type": "stream",
     "text": [
      "Saved: E:\\cs229_project\\train\\video\\preprocessed_fake\\904(0).npy\n",
      "Deleted original file: E:\\cs229_project\\train\\video\\preprocessed_fake\\904.npy\n",
      "Saved: E:\\cs229_project\\train\\video\\preprocessed_fake\\905(0).npy\n",
      "Deleted original file: E:\\cs229_project\\train\\video\\preprocessed_fake\\905.npy\n",
      "Saved: E:\\cs229_project\\train\\video\\preprocessed_fake\\906(0).npy\n",
      "Deleted original file: E:\\cs229_project\\train\\video\\preprocessed_fake\\906.npy\n",
      "Saved: E:\\cs229_project\\train\\video\\preprocessed_fake\\907(0).npy\n",
      "Saved: E:\\cs229_project\\train\\video\\preprocessed_fake\\907(1).npy\n",
      "Deleted original file: E:\\cs229_project\\train\\video\\preprocessed_fake\\907.npy\n",
      "Saved: E:\\cs229_project\\train\\video\\preprocessed_fake\\908(0).npy\n",
      "Deleted original file: E:\\cs229_project\\train\\video\\preprocessed_fake\\908.npy\n",
      "Saved: E:\\cs229_project\\train\\video\\preprocessed_fake\\909(0).npy\n",
      "Deleted original file: E:\\cs229_project\\train\\video\\preprocessed_fake\\909.npy\n"
     ]
    },
    {
     "name": "stderr",
     "output_type": "stream",
     "text": [
      " 98%|█████████▊| 4110/4206 [03:49<00:03, 24.15it/s]"
     ]
    },
    {
     "name": "stdout",
     "output_type": "stream",
     "text": [
      "Saved: E:\\cs229_project\\train\\video\\preprocessed_fake\\91(0).npy\n",
      "Saved: E:\\cs229_project\\train\\video\\preprocessed_fake\\91(1).npy\n",
      "Deleted original file: E:\\cs229_project\\train\\video\\preprocessed_fake\\91.npy\n",
      "Saved: E:\\cs229_project\\train\\video\\preprocessed_fake\\910(0).npy\n",
      "Saved: E:\\cs229_project\\train\\video\\preprocessed_fake\\910(1).npy\n",
      "Deleted original file: E:\\cs229_project\\train\\video\\preprocessed_fake\\910.npy\n",
      "Saved: E:\\cs229_project\\train\\video\\preprocessed_fake\\911(0).npy\n",
      "Deleted original file: E:\\cs229_project\\train\\video\\preprocessed_fake\\911.npy\n",
      "Saved: E:\\cs229_project\\train\\video\\preprocessed_fake\\912(0).npy\n",
      "Saved: E:\\cs229_project\\train\\video\\preprocessed_fake\\912(1).npy\n",
      "Deleted original file: E:\\cs229_project\\train\\video\\preprocessed_fake\\912.npy\n"
     ]
    },
    {
     "name": "stderr",
     "output_type": "stream",
     "text": [
      " 98%|█████████▊| 4113/4206 [03:49<00:04, 22.85it/s]"
     ]
    },
    {
     "name": "stdout",
     "output_type": "stream",
     "text": [
      "Saved: E:\\cs229_project\\train\\video\\preprocessed_fake\\913(0).npy\n",
      "Saved: E:\\cs229_project\\train\\video\\preprocessed_fake\\913(1).npy\n",
      "Deleted original file: E:\\cs229_project\\train\\video\\preprocessed_fake\\913.npy\n",
      "Saved: E:\\cs229_project\\train\\video\\preprocessed_fake\\914(0).npy\n",
      "Deleted original file: E:\\cs229_project\\train\\video\\preprocessed_fake\\914.npy\n",
      "Saved: E:\\cs229_project\\train\\video\\preprocessed_fake\\915(0).npy\n",
      "Deleted original file: E:\\cs229_project\\train\\video\\preprocessed_fake\\915.npy\n",
      "Saved: E:\\cs229_project\\train\\video\\preprocessed_fake\\916(0).npy\n",
      "Deleted original file: E:\\cs229_project\\train\\video\\preprocessed_fake\\916.npy\n"
     ]
    },
    {
     "name": "stderr",
     "output_type": "stream",
     "text": [
      " 98%|█████████▊| 4119/4206 [03:49<00:05, 14.99it/s]"
     ]
    },
    {
     "name": "stdout",
     "output_type": "stream",
     "text": [
      "Saved: E:\\cs229_project\\train\\video\\preprocessed_fake\\917(0).npy\n",
      "Saved: E:\\cs229_project\\train\\video\\preprocessed_fake\\917(1).npy\n",
      "Saved: E:\\cs229_project\\train\\video\\preprocessed_fake\\917(2).npy\n",
      "Deleted original file: E:\\cs229_project\\train\\video\\preprocessed_fake\\917.npy\n",
      "Saved: E:\\cs229_project\\train\\video\\preprocessed_fake\\918(0).npy\n",
      "Deleted original file: E:\\cs229_project\\train\\video\\preprocessed_fake\\918.npy\n",
      "Saved: E:\\cs229_project\\train\\video\\preprocessed_fake\\919(0).npy\n",
      "Deleted original file: E:\\cs229_project\\train\\video\\preprocessed_fake\\919.npy\n",
      "Saved: E:\\cs229_project\\train\\video\\preprocessed_fake\\92(0).npy\n",
      "Saved: E:\\cs229_project\\train\\video\\preprocessed_fake\\92(1).npy\n",
      "Deleted original file: E:\\cs229_project\\train\\video\\preprocessed_fake\\92.npy\n",
      "Saved: E:\\cs229_project\\train\\video\\preprocessed_fake\\920(0).npy\n",
      "Deleted original file: E:\\cs229_project\\train\\video\\preprocessed_fake\\920.npy\n"
     ]
    },
    {
     "name": "stderr",
     "output_type": "stream",
     "text": [
      " 98%|█████████▊| 4122/4206 [03:50<00:04, 17.12it/s]"
     ]
    },
    {
     "name": "stdout",
     "output_type": "stream",
     "text": [
      "Saved: E:\\cs229_project\\train\\video\\preprocessed_fake\\921(0).npy\n",
      "Deleted original file: E:\\cs229_project\\train\\video\\preprocessed_fake\\921.npy\n",
      "Saved: E:\\cs229_project\\train\\video\\preprocessed_fake\\922(0).npy\n",
      "Saved: E:\\cs229_project\\train\\video\\preprocessed_fake\\922(1).npy\n",
      "Deleted original file: E:\\cs229_project\\train\\video\\preprocessed_fake\\922.npy\n",
      "Saved: E:\\cs229_project\\train\\video\\preprocessed_fake\\923(0).npy\n",
      "Saved: E:\\cs229_project\\train\\video\\preprocessed_fake\\923(1).npy\n",
      "Saved: E:\\cs229_project\\train\\video\\preprocessed_fake\\923(2).npy\n",
      "Saved: E:\\cs229_project\\train\\video\\preprocessed_fake\\923(3).npy\n",
      "Deleted original file: E:\\cs229_project\\train\\video\\preprocessed_fake\\923.npy\n"
     ]
    },
    {
     "name": "stderr",
     "output_type": "stream",
     "text": [
      " 98%|█████████▊| 4128/4206 [03:50<00:04, 18.10it/s]"
     ]
    },
    {
     "name": "stdout",
     "output_type": "stream",
     "text": [
      "Saved: E:\\cs229_project\\train\\video\\preprocessed_fake\\924(0).npy\n",
      "Saved: E:\\cs229_project\\train\\video\\preprocessed_fake\\924(1).npy\n",
      "Deleted original file: E:\\cs229_project\\train\\video\\preprocessed_fake\\924.npy\n",
      "Saved: E:\\cs229_project\\train\\video\\preprocessed_fake\\925(0).npy\n",
      "Deleted original file: E:\\cs229_project\\train\\video\\preprocessed_fake\\925.npy\n",
      "Saved: E:\\cs229_project\\train\\video\\preprocessed_fake\\926(0).npy\n",
      "Deleted original file: E:\\cs229_project\\train\\video\\preprocessed_fake\\926.npy\n",
      "Saved: E:\\cs229_project\\train\\video\\preprocessed_fake\\927(0).npy\n",
      "Saved: E:\\cs229_project\\train\\video\\preprocessed_fake\\927(1).npy\n",
      "Deleted original file: E:\\cs229_project\\train\\video\\preprocessed_fake\\927.npy\n",
      "Saved: E:\\cs229_project\\train\\video\\preprocessed_fake\\928(0).npy\n",
      "Deleted original file: E:\\cs229_project\\train\\video\\preprocessed_fake\\928.npy\n",
      "Saved: E:\\cs229_project\\train\\video\\preprocessed_fake\\929(0).npy\n",
      "Deleted original file: E:\\cs229_project\\train\\video\\preprocessed_fake\\929.npy\n"
     ]
    },
    {
     "name": "stderr",
     "output_type": "stream",
     "text": [
      " 98%|█████████▊| 4131/4206 [03:50<00:04, 17.95it/s]"
     ]
    },
    {
     "name": "stdout",
     "output_type": "stream",
     "text": [
      "Saved: E:\\cs229_project\\train\\video\\preprocessed_fake\\93(0).npy\n",
      "Deleted original file: E:\\cs229_project\\train\\video\\preprocessed_fake\\93.npy\n",
      "Saved: E:\\cs229_project\\train\\video\\preprocessed_fake\\930(0).npy\n",
      "Saved: E:\\cs229_project\\train\\video\\preprocessed_fake\\930(1).npy\n",
      "Saved: E:\\cs229_project\\train\\video\\preprocessed_fake\\930(2).npy\n",
      "Saved: E:\\cs229_project\\train\\video\\preprocessed_fake\\930(3).npy\n",
      "Deleted original file: E:\\cs229_project\\train\\video\\preprocessed_fake\\930.npy\n",
      "Saved: E:\\cs229_project\\train\\video\\preprocessed_fake\\931(0).npy\n",
      "Deleted original file: E:\\cs229_project\\train\\video\\preprocessed_fake\\931.npy\n",
      "Saved: E:\\cs229_project\\train\\video\\preprocessed_fake\\932(0).npy\n"
     ]
    },
    {
     "name": "stderr",
     "output_type": "stream",
     "text": [
      " 98%|█████████▊| 4134/4206 [03:50<00:03, 19.35it/s]"
     ]
    },
    {
     "name": "stdout",
     "output_type": "stream",
     "text": [
      "Saved: E:\\cs229_project\\train\\video\\preprocessed_fake\\932(1).npy\n",
      "Deleted original file: E:\\cs229_project\\train\\video\\preprocessed_fake\\932.npy\n",
      "Saved: E:\\cs229_project\\train\\video\\preprocessed_fake\\933(0).npy\n",
      "Deleted original file: E:\\cs229_project\\train\\video\\preprocessed_fake\\933.npy\n",
      "Saved: E:\\cs229_project\\train\\video\\preprocessed_fake\\934(0).npy\n",
      "Deleted original file: E:\\cs229_project\\train\\video\\preprocessed_fake\\934.npy\n"
     ]
    },
    {
     "name": "stderr",
     "output_type": "stream",
     "text": [
      " 98%|█████████▊| 4137/4206 [03:51<00:06, 11.02it/s]"
     ]
    },
    {
     "name": "stdout",
     "output_type": "stream",
     "text": [
      "Saved: E:\\cs229_project\\train\\video\\preprocessed_fake\\935(0).npy\n",
      "Deleted original file: E:\\cs229_project\\train\\video\\preprocessed_fake\\935.npy\n",
      "Saved: E:\\cs229_project\\train\\video\\preprocessed_fake\\936(0).npy\n",
      "Saved: E:\\cs229_project\\train\\video\\preprocessed_fake\\936(1).npy\n",
      "Saved: E:\\cs229_project\\train\\video\\preprocessed_fake\\936(2).npy\n",
      "Saved: E:\\cs229_project\\train\\video\\preprocessed_fake\\936(3).npy\n",
      "Saved: E:\\cs229_project\\train\\video\\preprocessed_fake\\936(4).npy\n",
      "Deleted original file: E:\\cs229_project\\train\\video\\preprocessed_fake\\936.npy\n"
     ]
    },
    {
     "name": "stderr",
     "output_type": "stream",
     "text": [
      " 98%|█████████▊| 4139/4206 [03:51<00:05, 12.20it/s]"
     ]
    },
    {
     "name": "stdout",
     "output_type": "stream",
     "text": [
      "Saved: E:\\cs229_project\\train\\video\\preprocessed_fake\\937(0).npy\n",
      "Saved: E:\\cs229_project\\train\\video\\preprocessed_fake\\937(1).npy\n",
      "Deleted original file: E:\\cs229_project\\train\\video\\preprocessed_fake\\937.npy\n",
      "Saved: E:\\cs229_project\\train\\video\\preprocessed_fake\\938(0).npy\n",
      "Deleted original file: E:\\cs229_project\\train\\video\\preprocessed_fake\\938.npy\n",
      "Saved: E:\\cs229_project\\train\\video\\preprocessed_fake\\939(0).npy\n",
      "Deleted original file: E:\\cs229_project\\train\\video\\preprocessed_fake\\939.npy\n",
      "Saved: E:\\cs229_project\\train\\video\\preprocessed_fake\\94(0).npy\n",
      "Deleted original file: E:\\cs229_project\\train\\video\\preprocessed_fake\\94.npy\n",
      "Saved: E:\\cs229_project\\train\\video\\preprocessed_fake\\940(0).npy\n",
      "Deleted original file: E:\\cs229_project\\train\\video\\preprocessed_fake\\940.npy\n"
     ]
    },
    {
     "name": "stderr",
     "output_type": "stream",
     "text": [
      " 99%|█████████▊| 4145/4206 [03:51<00:04, 14.14it/s]"
     ]
    },
    {
     "name": "stdout",
     "output_type": "stream",
     "text": [
      "Saved: E:\\cs229_project\\train\\video\\preprocessed_fake\\941(0).npy\n",
      "Saved: E:\\cs229_project\\train\\video\\preprocessed_fake\\941(1).npy\n",
      "Saved: E:\\cs229_project\\train\\video\\preprocessed_fake\\941(2).npy\n",
      "Saved: E:\\cs229_project\\train\\video\\preprocessed_fake\\941(3).npy\n",
      "Deleted original file: E:\\cs229_project\\train\\video\\preprocessed_fake\\941.npy\n",
      "Saved: E:\\cs229_project\\train\\video\\preprocessed_fake\\942(0).npy\n",
      "Saved: E:\\cs229_project\\train\\video\\preprocessed_fake\\942(1).npy\n",
      "Deleted original file: E:\\cs229_project\\train\\video\\preprocessed_fake\\942.npy\n",
      "Saved: E:\\cs229_project\\train\\video\\preprocessed_fake\\943(0).npy\n",
      "Saved: E:\\cs229_project\\train\\video\\preprocessed_fake\\943(1).npy\n",
      "Saved: E:\\cs229_project\\train\\video\\preprocessed_fake\\943(2).npy\n",
      "Deleted original file: E:\\cs229_project\\train\\video\\preprocessed_fake\\943.npy\n"
     ]
    },
    {
     "name": "stderr",
     "output_type": "stream",
     "text": [
      " 99%|█████████▊| 4147/4206 [03:51<00:04, 14.62it/s]"
     ]
    },
    {
     "name": "stdout",
     "output_type": "stream",
     "text": [
      "Saved: E:\\cs229_project\\train\\video\\preprocessed_fake\\944(0).npy\n",
      "Deleted original file: E:\\cs229_project\\train\\video\\preprocessed_fake\\944.npy\n",
      "Saved: E:\\cs229_project\\train\\video\\preprocessed_fake\\945(0).npy\n",
      "Saved: E:\\cs229_project\\train\\video\\preprocessed_fake\\945(1).npy\n",
      "Saved: E:\\cs229_project\\train\\video\\preprocessed_fake\\945(2).npy\n",
      "Deleted original file: E:\\cs229_project\\train\\video\\preprocessed_fake\\945.npy\n",
      "Saved: E:\\cs229_project\\train\\video\\preprocessed_fake\\946(0).npy\n",
      "Deleted original file: E:\\cs229_project\\train\\video\\preprocessed_fake\\946.npy\n",
      "Saved: E:\\cs229_project\\train\\video\\preprocessed_fake\\947(0).npy\n",
      "Saved: E:\\cs229_project\\train\\video\\preprocessed_fake\\947(1).npy\n",
      "Deleted original file: E:\\cs229_project\\train\\video\\preprocessed_fake\\947.npy\n"
     ]
    },
    {
     "name": "stderr",
     "output_type": "stream",
     "text": [
      " 99%|█████████▊| 4150/4206 [03:51<00:03, 15.31it/s]"
     ]
    },
    {
     "name": "stdout",
     "output_type": "stream",
     "text": [
      "Saved: E:\\cs229_project\\train\\video\\preprocessed_fake\\948(0).npy\n",
      "Saved: E:\\cs229_project\\train\\video\\preprocessed_fake\\948(1).npy\n",
      "Saved: E:\\cs229_project\\train\\video\\preprocessed_fake\\948(2).npy\n",
      "Deleted original file: E:\\cs229_project\\train\\video\\preprocessed_fake\\948.npy\n",
      "Saved: E:\\cs229_project\\train\\video\\preprocessed_fake\\949(0).npy\n",
      "Saved: E:\\cs229_project\\train\\video\\preprocessed_fake\\949(1).npy\n",
      "Deleted original file: E:\\cs229_project\\train\\video\\preprocessed_fake\\949.npy\n"
     ]
    },
    {
     "name": "stderr",
     "output_type": "stream",
     "text": [
      " 99%|█████████▊| 4152/4206 [03:52<00:05,  9.28it/s]"
     ]
    },
    {
     "name": "stdout",
     "output_type": "stream",
     "text": [
      "Saved: E:\\cs229_project\\train\\video\\preprocessed_fake\\95(0).npy\n",
      "Saved: E:\\cs229_project\\train\\video\\preprocessed_fake\\95(1).npy\n",
      "Deleted original file: E:\\cs229_project\\train\\video\\preprocessed_fake\\95.npy\n"
     ]
    },
    {
     "name": "stderr",
     "output_type": "stream",
     "text": [
      " 99%|█████████▉| 4155/4206 [03:52<00:04, 11.72it/s]"
     ]
    },
    {
     "name": "stdout",
     "output_type": "stream",
     "text": [
      "Saved: E:\\cs229_project\\train\\video\\preprocessed_fake\\950(0).npy\n",
      "Deleted original file: E:\\cs229_project\\train\\video\\preprocessed_fake\\950.npy\n",
      "Saved: E:\\cs229_project\\train\\video\\preprocessed_fake\\951(0).npy\n",
      "Saved: E:\\cs229_project\\train\\video\\preprocessed_fake\\951(1).npy\n",
      "Deleted original file: E:\\cs229_project\\train\\video\\preprocessed_fake\\951.npy\n",
      "Saved: E:\\cs229_project\\train\\video\\preprocessed_fake\\952(0).npy\n",
      "Deleted original file: E:\\cs229_project\\train\\video\\preprocessed_fake\\952.npy\n",
      "Saved: E:\\cs229_project\\train\\video\\preprocessed_fake\\953(0).npy\n",
      "Saved: E:\\cs229_project\\train\\video\\preprocessed_fake\\953(1).npy\n",
      "Saved: E:\\cs229_project\\train\\video\\preprocessed_fake\\953(2).npy\n",
      "Saved: E:\\cs229_project\\train\\video\\preprocessed_fake\\953(3).npy\n",
      "Saved: E:\\cs229_project\\train\\video\\preprocessed_fake\\953(4).npy\n",
      "Saved: E:\\cs229_project\\train\\video\\preprocessed_fake\\953(5).npy\n",
      "Saved: E:\\cs229_project\\train\\video\\preprocessed_fake\\953(6).npy\n",
      "Deleted original file: E:\\cs229_project\\train\\video\\preprocessed_fake\\953.npy\n"
     ]
    },
    {
     "name": "stderr",
     "output_type": "stream",
     "text": [
      " 99%|█████████▉| 4161/4206 [03:53<00:03, 12.53it/s]"
     ]
    },
    {
     "name": "stdout",
     "output_type": "stream",
     "text": [
      "Saved: E:\\cs229_project\\train\\video\\preprocessed_fake\\954(0).npy\n",
      "Saved: E:\\cs229_project\\train\\video\\preprocessed_fake\\954(1).npy\n",
      "Saved: E:\\cs229_project\\train\\video\\preprocessed_fake\\954(2).npy\n",
      "Saved: E:\\cs229_project\\train\\video\\preprocessed_fake\\954(3).npy\n",
      "Saved: E:\\cs229_project\\train\\video\\preprocessed_fake\\954(4).npy\n",
      "Saved: E:\\cs229_project\\train\\video\\preprocessed_fake\\954(5).npy\n",
      "Deleted original file: E:\\cs229_project\\train\\video\\preprocessed_fake\\954.npy\n",
      "Saved: E:\\cs229_project\\train\\video\\preprocessed_fake\\955(0).npy\n",
      "Deleted original file: E:\\cs229_project\\train\\video\\preprocessed_fake\\955.npy\n",
      "Saved: E:\\cs229_project\\train\\video\\preprocessed_fake\\956(0).npy\n",
      "Deleted original file: E:\\cs229_project\\train\\video\\preprocessed_fake\\956.npy\n",
      "Saved: E:\\cs229_project\\train\\video\\preprocessed_fake\\957(0).npy\n",
      "Deleted original file: E:\\cs229_project\\train\\video\\preprocessed_fake\\957.npy\n",
      "Saved: E:\\cs229_project\\train\\video\\preprocessed_fake\\958(0).npy\n",
      "Deleted original file: E:\\cs229_project\\train\\video\\preprocessed_fake\\958.npy\n"
     ]
    },
    {
     "name": "stderr",
     "output_type": "stream",
     "text": [
      " 99%|█████████▉| 4164/4206 [03:53<00:02, 14.29it/s]"
     ]
    },
    {
     "name": "stdout",
     "output_type": "stream",
     "text": [
      "Saved: E:\\cs229_project\\train\\video\\preprocessed_fake\\959(0).npy\n",
      "Saved: E:\\cs229_project\\train\\video\\preprocessed_fake\\959(1).npy\n",
      "Deleted original file: E:\\cs229_project\\train\\video\\preprocessed_fake\\959.npy\n",
      "Saved: E:\\cs229_project\\train\\video\\preprocessed_fake\\96(0).npy\n",
      "Deleted original file: E:\\cs229_project\\train\\video\\preprocessed_fake\\96.npy\n",
      "Saved: E:\\cs229_project\\train\\video\\preprocessed_fake\\960(0).npy\n",
      "Saved: E:\\cs229_project\\train\\video\\preprocessed_fake\\960(1).npy\n",
      "Deleted original file: E:\\cs229_project\\train\\video\\preprocessed_fake\\960.npy\n",
      "Saved: E:\\cs229_project\\train\\video\\preprocessed_fake\\961(0).npy\n",
      "Saved: E:\\cs229_project\\train\\video\\preprocessed_fake\\961(1).npy\n",
      "Saved: E:\\cs229_project\\train\\video\\preprocessed_fake\\961(2).npy\n",
      "Deleted original file: E:\\cs229_project\\train\\video\\preprocessed_fake\\961.npy\n"
     ]
    },
    {
     "name": "stderr",
     "output_type": "stream",
     "text": [
      " 99%|█████████▉| 4166/4206 [03:53<00:02, 13.97it/s]"
     ]
    },
    {
     "name": "stdout",
     "output_type": "stream",
     "text": [
      "Saved: E:\\cs229_project\\train\\video\\preprocessed_fake\\962(0).npy\n",
      "Saved: E:\\cs229_project\\train\\video\\preprocessed_fake\\962(1).npy\n",
      "Deleted original file: E:\\cs229_project\\train\\video\\preprocessed_fake\\962.npy\n",
      "Saved: E:\\cs229_project\\train\\video\\preprocessed_fake\\963(0).npy\n",
      "Deleted original file: E:\\cs229_project\\train\\video\\preprocessed_fake\\963.npy\n",
      "Saved: E:\\cs229_project\\train\\video\\preprocessed_fake\\964(0).npy\n"
     ]
    },
    {
     "name": "stderr",
     "output_type": "stream",
     "text": [
      " 99%|█████████▉| 4171/4206 [03:53<00:03, 11.61it/s]"
     ]
    },
    {
     "name": "stdout",
     "output_type": "stream",
     "text": [
      "Saved: E:\\cs229_project\\train\\video\\preprocessed_fake\\964(1).npy\n",
      "Deleted original file: E:\\cs229_project\\train\\video\\preprocessed_fake\\964.npy\n",
      "Saved: E:\\cs229_project\\train\\video\\preprocessed_fake\\965(0).npy\n",
      "Deleted original file: E:\\cs229_project\\train\\video\\preprocessed_fake\\965.npy\n",
      "Saved: E:\\cs229_project\\train\\video\\preprocessed_fake\\966(0).npy\n",
      "Deleted original file: E:\\cs229_project\\train\\video\\preprocessed_fake\\966.npy\n",
      "Saved: E:\\cs229_project\\train\\video\\preprocessed_fake\\967(0).npy\n",
      "Saved: E:\\cs229_project\\train\\video\\preprocessed_fake\\967(1).npy\n",
      "Deleted original file: E:\\cs229_project\\train\\video\\preprocessed_fake\\967.npy\n",
      "Saved: E:\\cs229_project\\train\\video\\preprocessed_fake\\968(0).npy\n",
      "Saved: E:\\cs229_project\\train\\video\\preprocessed_fake\\968(1).npy\n",
      "Deleted original file: E:\\cs229_project\\train\\video\\preprocessed_fake\\968.npy\n"
     ]
    },
    {
     "name": "stderr",
     "output_type": "stream",
     "text": [
      " 99%|█████████▉| 4173/4206 [03:54<00:02, 11.07it/s]"
     ]
    },
    {
     "name": "stdout",
     "output_type": "stream",
     "text": [
      "Saved: E:\\cs229_project\\train\\video\\preprocessed_fake\\969(0).npy\n",
      "Saved: E:\\cs229_project\\train\\video\\preprocessed_fake\\969(1).npy\n",
      "Saved: E:\\cs229_project\\train\\video\\preprocessed_fake\\969(2).npy\n",
      "Saved: E:\\cs229_project\\train\\video\\preprocessed_fake\\969(3).npy\n",
      "Saved: E:\\cs229_project\\train\\video\\preprocessed_fake\\969(4).npy\n",
      "Deleted original file: E:\\cs229_project\\train\\video\\preprocessed_fake\\969.npy\n",
      "Saved: E:\\cs229_project\\train\\video\\preprocessed_fake\\97(0).npy\n",
      "Deleted original file: E:\\cs229_project\\train\\video\\preprocessed_fake\\97.npy\n",
      "Saved: E:\\cs229_project\\train\\video\\preprocessed_fake\\970(0).npy\n",
      "Deleted original file: E:\\cs229_project\\train\\video\\preprocessed_fake\\970.npy\n",
      "Saved: E:\\cs229_project\\train\\video\\preprocessed_fake\\971(0).npy\n",
      "Deleted original file: E:\\cs229_project\\train\\video\\preprocessed_fake\\971.npy\n"
     ]
    },
    {
     "name": "stderr",
     "output_type": "stream",
     "text": [
      " 99%|█████████▉| 4181/4206 [03:54<00:01, 15.92it/s]"
     ]
    },
    {
     "name": "stdout",
     "output_type": "stream",
     "text": [
      "Saved: E:\\cs229_project\\train\\video\\preprocessed_fake\\972(0).npy\n",
      "Saved: E:\\cs229_project\\train\\video\\preprocessed_fake\\972(1).npy\n",
      "Saved: E:\\cs229_project\\train\\video\\preprocessed_fake\\972(2).npy\n",
      "Saved: E:\\cs229_project\\train\\video\\preprocessed_fake\\972(3).npy\n",
      "Saved: E:\\cs229_project\\train\\video\\preprocessed_fake\\972(4).npy\n",
      "Deleted original file: E:\\cs229_project\\train\\video\\preprocessed_fake\\972.npy\n",
      "Saved: E:\\cs229_project\\train\\video\\preprocessed_fake\\973(0).npy\n",
      "Deleted original file: E:\\cs229_project\\train\\video\\preprocessed_fake\\973.npy\n",
      "Saved: E:\\cs229_project\\train\\video\\preprocessed_fake\\974(0).npy\n",
      "Deleted original file: E:\\cs229_project\\train\\video\\preprocessed_fake\\974.npy\n",
      "Saved: E:\\cs229_project\\train\\video\\preprocessed_fake\\975(0).npy\n",
      "Deleted original file: E:\\cs229_project\\train\\video\\preprocessed_fake\\975.npy\n",
      "Saved: E:\\cs229_project\\train\\video\\preprocessed_fake\\976(0).npy\n",
      "Saved: E:\\cs229_project\\train\\video\\preprocessed_fake\\976(1).npy\n",
      "Deleted original file: E:\\cs229_project\\train\\video\\preprocessed_fake\\976.npy\n"
     ]
    },
    {
     "name": "stderr",
     "output_type": "stream",
     "text": [
      "100%|█████████▉| 4185/4206 [03:54<00:01, 19.37it/s]"
     ]
    },
    {
     "name": "stdout",
     "output_type": "stream",
     "text": [
      "Saved: E:\\cs229_project\\train\\video\\preprocessed_fake\\977(0).npy\n",
      "Deleted original file: E:\\cs229_project\\train\\video\\preprocessed_fake\\977.npy\n",
      "Saved: E:\\cs229_project\\train\\video\\preprocessed_fake\\978(0).npy\n",
      "Deleted original file: E:\\cs229_project\\train\\video\\preprocessed_fake\\978.npy\n",
      "Saved: E:\\cs229_project\\train\\video\\preprocessed_fake\\979(0).npy\n",
      "Deleted original file: E:\\cs229_project\\train\\video\\preprocessed_fake\\979.npy\n",
      "Saved: E:\\cs229_project\\train\\video\\preprocessed_fake\\98(0).npy\n",
      "Deleted original file: E:\\cs229_project\\train\\video\\preprocessed_fake\\98.npy\n",
      "Saved: E:\\cs229_project\\train\\video\\preprocessed_fake\\980(0).npy\n",
      "Saved: E:\\cs229_project\\train\\video\\preprocessed_fake\\980(1).npy\n",
      "Deleted original file: E:\\cs229_project\\train\\video\\preprocessed_fake\\980.npy\n"
     ]
    },
    {
     "name": "stderr",
     "output_type": "stream",
     "text": [
      "100%|█████████▉| 4190/4206 [03:55<00:01, 12.76it/s]"
     ]
    },
    {
     "name": "stdout",
     "output_type": "stream",
     "text": [
      "Saved: E:\\cs229_project\\train\\video\\preprocessed_fake\\981(0).npy\n",
      "Saved: E:\\cs229_project\\train\\video\\preprocessed_fake\\981(1).npy\n",
      "Saved: E:\\cs229_project\\train\\video\\preprocessed_fake\\981(2).npy\n",
      "Saved: E:\\cs229_project\\train\\video\\preprocessed_fake\\981(3).npy\n",
      "Saved: E:\\cs229_project\\train\\video\\preprocessed_fake\\981(4).npy\n",
      "Deleted original file: E:\\cs229_project\\train\\video\\preprocessed_fake\\981.npy\n",
      "Saved: E:\\cs229_project\\train\\video\\preprocessed_fake\\982(0).npy\n",
      "Deleted original file: E:\\cs229_project\\train\\video\\preprocessed_fake\\982.npy\n",
      "Saved: E:\\cs229_project\\train\\video\\preprocessed_fake\\983(0).npy\n",
      "Saved: E:\\cs229_project\\train\\video\\preprocessed_fake\\983(1).npy\n",
      "Deleted original file: E:\\cs229_project\\train\\video\\preprocessed_fake\\983.npy\n",
      "Saved: E:\\cs229_project\\train\\video\\preprocessed_fake\\984(0).npy\n",
      "Saved: E:\\cs229_project\\train\\video\\preprocessed_fake\\984(1).npy\n",
      "Deleted original file: E:\\cs229_project\\train\\video\\preprocessed_fake\\984.npy\n"
     ]
    },
    {
     "name": "stderr",
     "output_type": "stream",
     "text": [
      "100%|█████████▉| 4192/4206 [03:55<00:01, 13.48it/s]"
     ]
    },
    {
     "name": "stdout",
     "output_type": "stream",
     "text": [
      "Saved: E:\\cs229_project\\train\\video\\preprocessed_fake\\985(0).npy\n",
      "Deleted original file: E:\\cs229_project\\train\\video\\preprocessed_fake\\985.npy\n",
      "Saved: E:\\cs229_project\\train\\video\\preprocessed_fake\\986(0).npy\n",
      "Saved: E:\\cs229_project\\train\\video\\preprocessed_fake\\986(1).npy\n",
      "Saved: E:\\cs229_project\\train\\video\\preprocessed_fake\\986(2).npy\n",
      "Deleted original file: E:\\cs229_project\\train\\video\\preprocessed_fake\\986.npy\n",
      "Saved: E:\\cs229_project\\train\\video\\preprocessed_fake\\987(0).npy\n",
      "Deleted original file: E:\\cs229_project\\train\\video\\preprocessed_fake\\987.npy\n",
      "Saved: E:\\cs229_project\\train\\video\\preprocessed_fake\\988(0).npy\n",
      "Saved: E:\\cs229_project\\train\\video\\preprocessed_fake\\988(1).npy\n",
      "Deleted original file: E:\\cs229_project\\train\\video\\preprocessed_fake\\988.npy\n"
     ]
    },
    {
     "name": "stderr",
     "output_type": "stream",
     "text": [
      "100%|█████████▉| 4197/4206 [03:55<00:00, 16.17it/s]"
     ]
    },
    {
     "name": "stdout",
     "output_type": "stream",
     "text": [
      "Saved: E:\\cs229_project\\train\\video\\preprocessed_fake\\989(0).npy\n",
      "Deleted original file: E:\\cs229_project\\train\\video\\preprocessed_fake\\989.npy\n",
      "Saved: E:\\cs229_project\\train\\video\\preprocessed_fake\\99(0).npy\n",
      "Deleted original file: E:\\cs229_project\\train\\video\\preprocessed_fake\\99.npy\n",
      "Saved: E:\\cs229_project\\train\\video\\preprocessed_fake\\990(0).npy\n",
      "Saved: E:\\cs229_project\\train\\video\\preprocessed_fake\\990(1).npy\n",
      "Saved: E:\\cs229_project\\train\\video\\preprocessed_fake\\990(2).npy\n",
      "Deleted original file: E:\\cs229_project\\train\\video\\preprocessed_fake\\990.npy\n",
      "Saved: E:\\cs229_project\\train\\video\\preprocessed_fake\\991(0).npy\n",
      "Deleted original file: E:\\cs229_project\\train\\video\\preprocessed_fake\\991.npy\n"
     ]
    },
    {
     "name": "stderr",
     "output_type": "stream",
     "text": [
      "100%|█████████▉| 4199/4206 [03:55<00:00, 16.32it/s]"
     ]
    },
    {
     "name": "stdout",
     "output_type": "stream",
     "text": [
      "Saved: E:\\cs229_project\\train\\video\\preprocessed_fake\\992(0).npy\n",
      "Saved: E:\\cs229_project\\train\\video\\preprocessed_fake\\992(1).npy\n",
      "Saved: E:\\cs229_project\\train\\video\\preprocessed_fake\\992(2).npy\n",
      "Deleted original file: E:\\cs229_project\\train\\video\\preprocessed_fake\\992.npy\n",
      "Saved: E:\\cs229_project\\train\\video\\preprocessed_fake\\993(0).npy\n",
      "Saved: E:\\cs229_project\\train\\video\\preprocessed_fake\\993(1).npy\n",
      "Saved: E:\\cs229_project\\train\\video\\preprocessed_fake\\993(2).npy\n",
      "Saved: E:\\cs229_project\\train\\video\\preprocessed_fake\\993(3).npy\n",
      "Deleted original file: E:\\cs229_project\\train\\video\\preprocessed_fake\\993.npy\n",
      "Saved: E:\\cs229_project\\train\\video\\preprocessed_fake\\994(0).npy\n"
     ]
    },
    {
     "name": "stderr",
     "output_type": "stream",
     "text": [
      "100%|█████████▉| 4204/4206 [03:56<00:00, 17.21it/s]"
     ]
    },
    {
     "name": "stdout",
     "output_type": "stream",
     "text": [
      "Saved: E:\\cs229_project\\train\\video\\preprocessed_fake\\994(1).npy\n",
      "Deleted original file: E:\\cs229_project\\train\\video\\preprocessed_fake\\994.npy\n",
      "Saved: E:\\cs229_project\\train\\video\\preprocessed_fake\\995(0).npy\n",
      "Deleted original file: E:\\cs229_project\\train\\video\\preprocessed_fake\\995.npy\n",
      "Saved: E:\\cs229_project\\train\\video\\preprocessed_fake\\996(0).npy\n",
      "Deleted original file: E:\\cs229_project\\train\\video\\preprocessed_fake\\996.npy\n",
      "Saved: E:\\cs229_project\\train\\video\\preprocessed_fake\\997(0).npy\n",
      "Saved: E:\\cs229_project\\train\\video\\preprocessed_fake\\997(1).npy\n",
      "Deleted original file: E:\\cs229_project\\train\\video\\preprocessed_fake\\997.npy\n",
      "Saved: E:\\cs229_project\\train\\video\\preprocessed_fake\\998(0).npy\n",
      "Saved: E:\\cs229_project\\train\\video\\preprocessed_fake\\998(1).npy\n",
      "Saved: E:\\cs229_project\\train\\video\\preprocessed_fake\\998(2).npy\n"
     ]
    },
    {
     "name": "stderr",
     "output_type": "stream",
     "text": [
      "100%|██████████| 4206/4206 [03:56<00:00, 17.78it/s]"
     ]
    },
    {
     "name": "stdout",
     "output_type": "stream",
     "text": [
      "Saved: E:\\cs229_project\\train\\video\\preprocessed_fake\\998(3).npy\n",
      "Deleted original file: E:\\cs229_project\\train\\video\\preprocessed_fake\\998.npy\n",
      "Saved: E:\\cs229_project\\train\\video\\preprocessed_fake\\999(0).npy\n",
      "Deleted original file: E:\\cs229_project\\train\\video\\preprocessed_fake\\999.npy\n"
     ]
    },
    {
     "name": "stderr",
     "output_type": "stream",
     "text": [
      "\n"
     ]
    }
   ],
   "source": [
    "# Iterate through each .npy file in the folder\n",
    "for file in tqdm(os.listdir(input_folder)):\n",
    "    if file.endswith(\".npy\"):\n",
    "        file_path = os.path.join(input_folder, file)\n",
    "\n",
    "        # Load the NumPy array\n",
    "        array = np.load(file_path)\n",
    "\n",
    "        # Get the number of frames (F)\n",
    "        F = array.shape[0]\n",
    "\n",
    "        # Ensure F is a multiple of 100\n",
    "        if F % 100 != 0:\n",
    "            print(f\"Skipping {file} as F={F} is not a multiple of 100\")\n",
    "            continue\n",
    "\n",
    "        # Split into segments of (100,3,224,224)\n",
    "        segments = np.split(array, F // 100)\n",
    "\n",
    "        # Save each segment with the modified filename\n",
    "        base_name, ext = os.path.splitext(file)\n",
    "        for i, segment in enumerate(segments):\n",
    "            output_filename = f\"{base_name}({i}){ext}\"  # Appending '(i)' to filename\n",
    "            output_path = os.path.join(input_folder, output_filename)\n",
    "            np.save(output_path, segment)\n",
    "            print(f\"Saved: {output_path}\")\n",
    "\n",
    "        # Delete the original file after processing\n",
    "        os.remove(file_path)\n",
    "        print(f\"Deleted original file: {file_path}\")"
   ]
  }
 ],
 "metadata": {
  "kernelspec": {
   "display_name": "TCCT",
   "language": "python",
   "name": "python3"
  },
  "language_info": {
   "codemirror_mode": {
    "name": "ipython",
    "version": 3
   },
   "file_extension": ".py",
   "mimetype": "text/x-python",
   "name": "python",
   "nbconvert_exporter": "python",
   "pygments_lexer": "ipython3",
   "version": "3.12.8"
  }
 },
 "nbformat": 4,
 "nbformat_minor": 2
}
